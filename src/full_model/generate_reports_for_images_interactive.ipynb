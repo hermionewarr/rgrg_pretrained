{
 "cells": [
  {
   "attachments": {},
   "cell_type": "markdown",
   "metadata": {},
   "source": [
    "# Generating reports from images inference interactive script"
   ]
  },
  {
   "cell_type": "code",
   "execution_count": 1,
   "metadata": {},
   "outputs": [
    {
     "name": "stderr",
     "output_type": "stream",
     "text": [
      "/home/hermione/miniconda3/envs/rgrg2/lib/python3.11/site-packages/tqdm/auto.py:21: TqdmWarning: IProgress not found. Please update jupyter and ipywidgets. See https://ipywidgets.readthedocs.io/en/stable/user_install.html\n",
      "  from .autonotebook import tqdm as notebook_tqdm\n",
      "2023-08-14 17:41:15.008268: I tensorflow/core/platform/cpu_feature_guard.cc:182] This TensorFlow binary is optimized to use available CPU instructions in performance-critical operations.\n",
      "To enable the following instructions: SSE4.1 SSE4.2 AVX AVX2 AVX512F AVX512_VNNI FMA, in other operations, rebuild TensorFlow with the appropriate compiler flags.\n"
     ]
    },
    {
     "name": "stdout",
     "output_type": "stream",
     "text": [
      "device:  cuda:0\n",
      "device:  cuda:0\n",
      "device:  cuda:0\n",
      "device:  cuda:1\n"
     ]
    }
   ],
   "source": [
    "from collections import defaultdict\n",
    "\n",
    "import albumentations as A\n",
    "import cv2\n",
    "import evaluate\n",
    "import spacy\n",
    "import torch\n",
    "from albumentations.pytorch import ToTensorV2\n",
    "from tqdm import tqdm\n",
    "import os\n",
    "import matplotlib.pyplot as plt\n",
    "\n",
    "import sys\n",
    "sys.path.append(\"/home/hermione/Documents/VLP/TUM/rgrg_pretrained/\")\n",
    "from src.full_model.report_generation_model import ReportGenerationModel\n",
    "from src.full_model.train_full_model import get_tokenizer\n",
    "\n",
    "cuda_device_to_see = 1\n",
    "os.environ['CUDA_VISIBLE_DEVICES'] = f'{cuda_device_to_see}'\n",
    "device = torch.device(f\"cuda:{cuda_device_to_see}\" if torch.cuda.is_available() else \"cpu\")\n",
    "torch.cuda.set_device(cuda_device_to_see)\n",
    "print(\"device: \", device)\n",
    "\n",
    "BERTSCORE_SIMILARITY_THRESHOLD = 0.9\n",
    "IMAGE_INPUT_SIZE = 512\n",
    "MAX_NUM_TOKENS_GENERATE = 300\n",
    "NUM_BEAMS = 4\n",
    "mean = 0.471  # see get_transforms in src/dataset/compute_mean_std_dataset.py\n",
    "std = 0.302"
   ]
  },
  {
   "cell_type": "code",
   "execution_count": 2,
   "metadata": {},
   "outputs": [],
   "source": [
    "def write_generated_reports_to_txt(images_paths, reports, generated_reports, generated_reports_txt_path):\n",
    "    with open(generated_reports_txt_path, \"w\") as f:\n",
    "        for image_path, ref, gen in zip(images_paths, reports, generated_reports):\n",
    "            f.write(f\"Image path: {image_path}\\n\")\n",
    "            f.write(f\"Generated report: {gen}\\n\\n\")\n",
    "            f.write(f\"reports: {ref}\\n\\n\")\n",
    "            f.write(\"=\" * 30)\n",
    "            f.write(\"\\n\\n\")"
   ]
  },
  {
   "cell_type": "code",
   "execution_count": 3,
   "metadata": {},
   "outputs": [],
   "source": [
    "def get_report_for_image(model, image_tensor, tokenizer, bert_score, sentence_tokenizer):\n",
    "    with torch.autocast(device_type=\"cuda\", dtype=torch.float16):\n",
    "        output = model.generate(\n",
    "            image_tensor.to(device, non_blocking=True),\n",
    "            max_length=MAX_NUM_TOKENS_GENERATE,\n",
    "            num_beams=NUM_BEAMS,\n",
    "            early_stopping=True,\n",
    "        )\n",
    "\n",
    "    beam_search_output = output\n",
    "\n",
    "    generated_sents_for_selected_regions = tokenizer.batch_decode(\n",
    "        beam_search_output, skip_special_tokens=True, clean_up_tokenization_spaces=True\n",
    "    )  # list[str]\n",
    "\n",
    "    \"\"\" generated_report = convert_generated_sentences_to_report(\n",
    "        generated_sents_for_selected_regions, bert_score, sentence_tokenizer\n",
    "    )   \"\"\"# str\n",
    "    generated_report = generated_sents_for_selected_regions\n",
    "    return generated_report\n",
    "\n",
    "\n",
    "def get_image_tensor(image_path):\n",
    "    # cv2.imread by default loads an image with 3 channels\n",
    "    # since we have grayscale images, we only have 1 channel and thus use cv2.IMREAD_UNCHANGED to read in the 1 channel\n",
    "    image = cv2.imread(image_path, cv2.IMREAD_UNCHANGED)  # shape (3056, 2544)\n",
    "\n",
    "    val_test_transforms = A.Compose(\n",
    "        [\n",
    "            A.LongestMaxSize(max_size=IMAGE_INPUT_SIZE, interpolation=cv2.INTER_AREA),\n",
    "            A.PadIfNeeded(min_height=IMAGE_INPUT_SIZE, min_width=IMAGE_INPUT_SIZE, border_mode=cv2.BORDER_CONSTANT),\n",
    "            A.Normalize(mean=mean, std=std),\n",
    "            ToTensorV2(),\n",
    "        ]\n",
    "    )\n",
    "\n",
    "    transform = val_test_transforms(image=image)\n",
    "    image_transformed = transform[\"image\"]  # shape (1, 512, 512)\n",
    "    image_transformed_batch = image_transformed.unsqueeze(0)  # shape (1, 1, 512, 512)\n",
    "\n",
    "    return image_transformed_batch\n",
    "\n",
    "def get_model(checkpoint_path):\n",
    "    checkpoint = torch.load(\n",
    "        checkpoint_path,\n",
    "        map_location=torch.device(\"cpu\"),\n",
    "    )\n",
    "\n",
    "    # if there is a key error when loading checkpoint, try uncommenting down below\n",
    "    # since depending on the torch version, the state dicts may be different\n",
    "    # checkpoint[\"model\"][\"object_detector.rpn.head.conv.weight\"] = checkpoint[\"model\"].pop(\"object_detector.rpn.head.conv.0.0.weight\")\n",
    "    # checkpoint[\"model\"][\"object_detector.rpn.head.conv.bias\"] = checkpoint[\"model\"].pop(\"object_detector.rpn.head.conv.0.0.bias\")\n",
    "    model = ReportGenerationModel(pretrain_without_lm_model=False)\n",
    "    model.load_state_dict(checkpoint[\"model\"])\n",
    "    model.to(device, non_blocking=False)\n",
    "    model.eval()\n",
    "\n",
    "    del checkpoint\n",
    "\n",
    "    return model\n"
   ]
  },
  {
   "cell_type": "code",
   "execution_count": 4,
   "metadata": {},
   "outputs": [
    {
     "name": "stdout",
     "output_type": "stream",
     "text": [
      "Model instantiated.\n"
     ]
    }
   ],
   "source": [
    "checkpoint_path = \"/home/hermione/Documents/VLP/TUM/rgrg_pretrained/src/runs/full_model/run_21/saved_checkpoint/checkpoint_val_loss_2.060_overall_steps_258410.pt\"\n",
    "checkpoint_path = \"/home/hermione/Documents/VLP/TUM/rgrg_pretrained/src/runs/full_model/run_20/checkpoints/checkpoint_val_loss_1.778_overall_steps_501150.pt\"\n",
    "checkpoint_path = \"/home/hermione/Documents/VLP/TUM/rgrg_pretrained/src/runs/full_model/run_22/checkpoints/checkpoint_val_loss_2.034_overall_steps_309551.pt\"\n",
    "checkpoint_path  = \"/home/hermione/Documents/VLP/TUM/rgrg_pretrained/src/runs/full_model/run_25/checkpoints/checkpoint_val_loss_2.604_overall_steps_161830.pt\"\n",
    "model = get_model(checkpoint_path)\n",
    "\n",
    "print(\"Model instantiated.\")"
   ]
  },
  {
   "cell_type": "code",
   "execution_count": 5,
   "metadata": {},
   "outputs": [
    {
     "data": {
      "text/html": [
       "<div>\n",
       "<style scoped>\n",
       "    .dataframe tbody tr th:only-of-type {\n",
       "        vertical-align: middle;\n",
       "    }\n",
       "\n",
       "    .dataframe tbody tr th {\n",
       "        vertical-align: top;\n",
       "    }\n",
       "\n",
       "    .dataframe thead th {\n",
       "        text-align: right;\n",
       "    }\n",
       "</style>\n",
       "<table border=\"1\" class=\"dataframe\">\n",
       "  <thead>\n",
       "    <tr style=\"text-align: right;\">\n",
       "      <th></th>\n",
       "      <th>subject_id</th>\n",
       "      <th>study_id</th>\n",
       "      <th>image_id</th>\n",
       "      <th>mimic_image_file_path</th>\n",
       "      <th>reference_report</th>\n",
       "    </tr>\n",
       "  </thead>\n",
       "  <tbody>\n",
       "    <tr>\n",
       "      <th>0</th>\n",
       "      <td>10000980</td>\n",
       "      <td>57861150</td>\n",
       "      <td>5aa15ba6-55f5e96e-39cea686-7c3b28b2-b8c97a88</td>\n",
       "      <td>/home/hermione/Documents/data/physionet.org/fi...</td>\n",
       "      <td>Blunting of the costophrenic angles bilaterall...</td>\n",
       "    </tr>\n",
       "    <tr>\n",
       "      <th>1</th>\n",
       "      <td>10000980</td>\n",
       "      <td>58206436</td>\n",
       "      <td>54affd39-8bf24209-232bac8a-df6c277a-398ee8a5</td>\n",
       "      <td>/home/hermione/Documents/data/physionet.org/fi...</td>\n",
       "      <td>Severe cardiomegaly is likely accentuated due ...</td>\n",
       "    </tr>\n",
       "    <tr>\n",
       "      <th>2</th>\n",
       "      <td>10000980</td>\n",
       "      <td>59988438</td>\n",
       "      <td>925b9496-a956d7b2-05185e52-bb33313b-c06ee522</td>\n",
       "      <td>/home/hermione/Documents/data/physionet.org/fi...</td>\n",
       "      <td>Tiny bilateral pleural effusions are new since...</td>\n",
       "    </tr>\n",
       "    <tr>\n",
       "      <th>3</th>\n",
       "      <td>10001217</td>\n",
       "      <td>58913004</td>\n",
       "      <td>5e54fc9c-37c49834-9ac3b915-55811712-9d959d26</td>\n",
       "      <td>/home/hermione/Documents/data/physionet.org/fi...</td>\n",
       "      <td>Borderline size of the cardiac silhouette.</td>\n",
       "    </tr>\n",
       "    <tr>\n",
       "      <th>4</th>\n",
       "      <td>10002013</td>\n",
       "      <td>58054149</td>\n",
       "      <td>81bca127-0c416084-67f8033c-ecb26476-6d1ecf60</td>\n",
       "      <td>/home/hermione/Documents/data/physionet.org/fi...</td>\n",
       "      <td>A moderate left pleural effusion is new since ...</td>\n",
       "    </tr>\n",
       "    <tr>\n",
       "      <th>...</th>\n",
       "      <td>...</td>\n",
       "      <td>...</td>\n",
       "      <td>...</td>\n",
       "      <td>...</td>\n",
       "      <td>...</td>\n",
       "    </tr>\n",
       "    <tr>\n",
       "      <th>8095</th>\n",
       "      <td>12461334</td>\n",
       "      <td>59813777</td>\n",
       "      <td>9e882192-2860e30b-bc1729f0-f3dd9119-f4ef962a</td>\n",
       "      <td>/home/hermione/Documents/data/physionet.org/fi...</td>\n",
       "      <td>There is leftward effusion increased opacity i...</td>\n",
       "    </tr>\n",
       "    <tr>\n",
       "      <th>8096</th>\n",
       "      <td>12509458</td>\n",
       "      <td>51239211</td>\n",
       "      <td>964cc30a-f4549f80-99ecfb9c-d498554e-2db3da2d</td>\n",
       "      <td>/home/hermione/Documents/data/physionet.org/fi...</td>\n",
       "      <td>There is moderate cardiomegaly. There is left ...</td>\n",
       "    </tr>\n",
       "    <tr>\n",
       "      <th>8097</th>\n",
       "      <td>12738545</td>\n",
       "      <td>54211667</td>\n",
       "      <td>b80f54be-2c4c55f5-703ebbe3-d610f02f-9613a483</td>\n",
       "      <td>/home/hermione/Documents/data/physionet.org/fi...</td>\n",
       "      <td>Trace bilateral pleural effusions are present,...</td>\n",
       "    </tr>\n",
       "    <tr>\n",
       "      <th>8098</th>\n",
       "      <td>12855989</td>\n",
       "      <td>57262022</td>\n",
       "      <td>7f3b4261-424d9da8-250bdaca-42aac275-bc9d53a2</td>\n",
       "      <td>/home/hermione/Documents/data/physionet.org/fi...</td>\n",
       "      <td>Moderate cardiomegaly.</td>\n",
       "    </tr>\n",
       "    <tr>\n",
       "      <th>8099</th>\n",
       "      <td>12915526</td>\n",
       "      <td>52209609</td>\n",
       "      <td>62259918-95ad96be-872b65a6-3e02df7c-05611f1c</td>\n",
       "      <td>/home/hermione/Documents/data/physionet.org/fi...</td>\n",
       "      <td>Blunting of the costophrenic angle on the righ...</td>\n",
       "    </tr>\n",
       "  </tbody>\n",
       "</table>\n",
       "<p>8100 rows × 5 columns</p>\n",
       "</div>"
      ],
      "text/plain": [
       "      subject_id  study_id                                      image_id  \\\n",
       "0       10000980  57861150  5aa15ba6-55f5e96e-39cea686-7c3b28b2-b8c97a88   \n",
       "1       10000980  58206436  54affd39-8bf24209-232bac8a-df6c277a-398ee8a5   \n",
       "2       10000980  59988438  925b9496-a956d7b2-05185e52-bb33313b-c06ee522   \n",
       "3       10001217  58913004  5e54fc9c-37c49834-9ac3b915-55811712-9d959d26   \n",
       "4       10002013  58054149  81bca127-0c416084-67f8033c-ecb26476-6d1ecf60   \n",
       "...          ...       ...                                           ...   \n",
       "8095    12461334  59813777  9e882192-2860e30b-bc1729f0-f3dd9119-f4ef962a   \n",
       "8096    12509458  51239211  964cc30a-f4549f80-99ecfb9c-d498554e-2db3da2d   \n",
       "8097    12738545  54211667  b80f54be-2c4c55f5-703ebbe3-d610f02f-9613a483   \n",
       "8098    12855989  57262022  7f3b4261-424d9da8-250bdaca-42aac275-bc9d53a2   \n",
       "8099    12915526  52209609  62259918-95ad96be-872b65a6-3e02df7c-05611f1c   \n",
       "\n",
       "                                  mimic_image_file_path  \\\n",
       "0     /home/hermione/Documents/data/physionet.org/fi...   \n",
       "1     /home/hermione/Documents/data/physionet.org/fi...   \n",
       "2     /home/hermione/Documents/data/physionet.org/fi...   \n",
       "3     /home/hermione/Documents/data/physionet.org/fi...   \n",
       "4     /home/hermione/Documents/data/physionet.org/fi...   \n",
       "...                                                 ...   \n",
       "8095  /home/hermione/Documents/data/physionet.org/fi...   \n",
       "8096  /home/hermione/Documents/data/physionet.org/fi...   \n",
       "8097  /home/hermione/Documents/data/physionet.org/fi...   \n",
       "8098  /home/hermione/Documents/data/physionet.org/fi...   \n",
       "8099  /home/hermione/Documents/data/physionet.org/fi...   \n",
       "\n",
       "                                       reference_report  \n",
       "0     Blunting of the costophrenic angles bilaterall...  \n",
       "1     Severe cardiomegaly is likely accentuated due ...  \n",
       "2     Tiny bilateral pleural effusions are new since...  \n",
       "3            Borderline size of the cardiac silhouette.  \n",
       "4     A moderate left pleural effusion is new since ...  \n",
       "...                                                 ...  \n",
       "8095  There is leftward effusion increased opacity i...  \n",
       "8096  There is moderate cardiomegaly. There is left ...  \n",
       "8097  Trace bilateral pleural effusions are present,...  \n",
       "8098                             Moderate cardiomegaly.  \n",
       "8099  Blunting of the costophrenic angle on the righ...  \n",
       "\n",
       "[8100 rows x 5 columns]"
      ]
     },
     "execution_count": 5,
     "metadata": {},
     "output_type": "execute_result"
    }
   ],
   "source": [
    "import pandas as pd\n",
    "#train_final.to_csv(\"/home/hermione/Documents/data/rgrg/dataset-with-reference-reports/train_subset.csv\",index=False)\n",
    "val_final = pd.read_csv(\"/home/hermione/Documents/data/rgrg/dataset-with-reference-reports/test.csv\")\n",
    "val_final = pd.read_csv(\"/home/hermione/Documents/data/rgrg/dataset-with-reference-reports/test_card_vs_PE.csv\")\n",
    "val_final = pd.read_csv(\"/home/hermione/Documents/data/rgrg/dataset-with-reference-reports/train_subset_simplified.csv\")\n",
    "val_final"
   ]
  },
  {
   "cell_type": "code",
   "execution_count": 6,
   "metadata": {},
   "outputs": [
    {
     "name": "stdout",
     "output_type": "stream",
     "text": [
      "0    p10000980/s57861150\n",
      "1    p10000980/s58206436\n",
      "2    p10000980/s59988438\n",
      "3    p10001217/s58913004\n",
      "4    p10002013/s58054149\n",
      "dtype: object\n"
     ]
    }
   ],
   "source": [
    "#ids = [\"p10/p10001038/s58224503\",\"p10/p10002428/s54831516\"]\n",
    "#im_ids = [\"28fad2ac-d6001216-b4f72c5b-2d4d452e-17b6c9a5\", \"852306b6-02fc04aa-82d30dbf-0c2dd18d-5c9ef054\"]\n",
    "import os\n",
    "im_ids = val_final[\"image_id\"]\n",
    "ids = \"p\"+val_final[\"subject_id\"].astype(str) + os.sep +\"s\"+ val_final[\"study_id\"].astype(str)\n",
    "print(ids[:5])\n",
    "im_ids = list(im_ids[:100])\n",
    "ids = list(ids[:100])"
   ]
  },
  {
   "cell_type": "code",
   "execution_count": 7,
   "metadata": {},
   "outputs": [
    {
     "name": "stdout",
     "output_type": "stream",
     "text": [
      "['/home/hermione/Documents/data/physionet.org/files/mimic-cxr-jpg/2.0.0/files/p10/p10000980/s57861150/5aa15ba6-55f5e96e-39cea686-7c3b28b2-b8c97a88.jpg', '/home/hermione/Documents/data/physionet.org/files/mimic-cxr-jpg/2.0.0/files/p10/p10000980/s58206436/54affd39-8bf24209-232bac8a-df6c277a-398ee8a5.jpg', '/home/hermione/Documents/data/physionet.org/files/mimic-cxr-jpg/2.0.0/files/p10/p10000980/s59988438/925b9496-a956d7b2-05185e52-bb33313b-c06ee522.jpg', '/home/hermione/Documents/data/physionet.org/files/mimic-cxr-jpg/2.0.0/files/p10/p10001217/s58913004/5e54fc9c-37c49834-9ac3b915-55811712-9d959d26.jpg', '/home/hermione/Documents/data/physionet.org/files/mimic-cxr-jpg/2.0.0/files/p10/p10002013/s58054149/81bca127-0c416084-67f8033c-ecb26476-6d1ecf60.jpg', '/home/hermione/Documents/data/physionet.org/files/mimic-cxr-jpg/2.0.0/files/p10/p10002131/s52823782/051b7911-cb00aec9-0b309188-89803662-303ec278.jpg', '/home/hermione/Documents/data/physionet.org/files/mimic-cxr-jpg/2.0.0/files/p10/p10002428/s50027225/e8c44648-ff02beea-3d5ff638-dec79b01-7df71a69.jpg', '/home/hermione/Documents/data/physionet.org/files/mimic-cxr-jpg/2.0.0/files/p10/p10002428/s50444997/85b903ac-bfc4d6cd-491d2a72-18e7c16e-23d2cafa.jpg', '/home/hermione/Documents/data/physionet.org/files/mimic-cxr-jpg/2.0.0/files/p10/p10002428/s54020701/40a4d537-de28a3ab-aa746c28-750aea7d-2965bcdb.jpg', '/home/hermione/Documents/data/physionet.org/files/mimic-cxr-jpg/2.0.0/files/p10/p10002428/s54831516/852306b6-02fc04aa-82d30dbf-0c2dd18d-5c9ef054.jpg', '/home/hermione/Documents/data/physionet.org/files/mimic-cxr-jpg/2.0.0/files/p10/p10002428/s55758034/3bea0373-0d10dd77-1cac5b90-651be924-d343b184.jpg', '/home/hermione/Documents/data/physionet.org/files/mimic-cxr-jpg/2.0.0/files/p10/p10002428/s56597576/d98d5096-a32483d3-669ed39b-bc81eafb-5e251563.jpg', '/home/hermione/Documents/data/physionet.org/files/mimic-cxr-jpg/2.0.0/files/p10/p10002428/s56836542/471418ab-0bfd6700-6bb770d0-07f7f6a3-2ce2d9c2.jpg', '/home/hermione/Documents/data/physionet.org/files/mimic-cxr-jpg/2.0.0/files/p10/p10002428/s57506266/e325a8d1-1d6b0dca-404efabc-204c6bbd-599788f0.jpg', '/home/hermione/Documents/data/physionet.org/files/mimic-cxr-jpg/2.0.0/files/p10/p10002428/s57887188/3dc1b72b-7d6efa14-1f9db998-e46ff2db-2cb7375e.jpg', '/home/hermione/Documents/data/physionet.org/files/mimic-cxr-jpg/2.0.0/files/p10/p10002428/s57961288/0780573c-30edcc44-42f1084d-e77f7ebf-8a7dd236.jpg', '/home/hermione/Documents/data/physionet.org/files/mimic-cxr-jpg/2.0.0/files/p10/p10002428/s57961288/c9c37c26-44932433-1df1066e-966dae54-3a0d372b.jpg', '/home/hermione/Documents/data/physionet.org/files/mimic-cxr-jpg/2.0.0/files/p10/p10002428/s58601917/b5f871e6-fc68f8fa-7580a463-b7674531-c7033269.jpg', '/home/hermione/Documents/data/physionet.org/files/mimic-cxr-jpg/2.0.0/files/p10/p10002428/s58838312/08ee3bce-a3ed7087-0af8769d-de0d3535-1318d234.jpg', '/home/hermione/Documents/data/physionet.org/files/mimic-cxr-jpg/2.0.0/files/p10/p10002428/s58851198/7254cc41-a1055fd0-f387a81f-1f60ec41-4ae4ac3e.jpg', '/home/hermione/Documents/data/physionet.org/files/mimic-cxr-jpg/2.0.0/files/p10/p10002428/s59098825/2337617e-d39e1d86-bc30b1cf-fa45dcb5-b7ac1695.jpg', '/home/hermione/Documents/data/physionet.org/files/mimic-cxr-jpg/2.0.0/files/p10/p10002428/s59659695/51b5892c-e54ed6e6-59ff70db-fd0b8509-1792398e.jpg', '/home/hermione/Documents/data/physionet.org/files/mimic-cxr-jpg/2.0.0/files/p10/p10003299/s50536653/69c64be9-ed77fb62-7fad1785-d91de463-0fbf5c4b.jpg', '/home/hermione/Documents/data/physionet.org/files/mimic-cxr-jpg/2.0.0/files/p10/p10003299/s57344656/f5414268-e553a141-39841839-4f303c85-d94d1190.jpg', '/home/hermione/Documents/data/physionet.org/files/mimic-cxr-jpg/2.0.0/files/p10/p10003400/s52822559/7a6f7a0e-452b83e5-d8388f3b-c424f2e2-83d372bd.jpg', '/home/hermione/Documents/data/physionet.org/files/mimic-cxr-jpg/2.0.0/files/p10/p10003400/s54050001/3b191b31-281da65a-f45c123b-56184341-737ae783.jpg', '/home/hermione/Documents/data/physionet.org/files/mimic-cxr-jpg/2.0.0/files/p10/p10003400/s55177950/df9394ad-02389c41-a06dc228-9ddc338e-305ab921.jpg', '/home/hermione/Documents/data/physionet.org/files/mimic-cxr-jpg/2.0.0/files/p10/p10003400/s59336915/60b87cf4-16cae318-9e395a6c-8627d25c-9a39a71a.jpg', '/home/hermione/Documents/data/physionet.org/files/mimic-cxr-jpg/2.0.0/files/p10/p10003502/s51180958/1fa79752-9ddaf5b5-2120ae82-9fec50d6-51f48d1f.jpg', '/home/hermione/Documents/data/physionet.org/files/mimic-cxr-jpg/2.0.0/files/p10/p10003502/s52139270/550e6f3b-f008c1d0-8d2dee2a-649b30f4-101a98cc.jpg', '/home/hermione/Documents/data/physionet.org/files/mimic-cxr-jpg/2.0.0/files/p10/p10003502/s52309364/e0275ad1-1e6a7451-c3960f5f-1267a188-547b73a1.jpg', '/home/hermione/Documents/data/physionet.org/files/mimic-cxr-jpg/2.0.0/files/p10/p10003502/s53282957/eb2fabb7-4bbc8aab-d7371282-08e5bcb5-de2e430a.jpg', '/home/hermione/Documents/data/physionet.org/files/mimic-cxr-jpg/2.0.0/files/p10/p10003502/s57641661/b410634d-0e4278d7-9c9b3561-8f5e5fc4-34a6aac8.jpg', '/home/hermione/Documents/data/physionet.org/files/mimic-cxr-jpg/2.0.0/files/p10/p10003502/s57812613/1efa55e3-0a3856d9-421024b8-408fa7e5-81d83c1e.jpg', '/home/hermione/Documents/data/physionet.org/files/mimic-cxr-jpg/2.0.0/files/p10/p10004235/s57318275/606ea60e-f3c5c58e-68fd84ca-db4e599b-127aa53e.jpg', '/home/hermione/Documents/data/physionet.org/files/mimic-cxr-jpg/2.0.0/files/p10/p10004457/s55439624/ad41d9ed-37ff140e-afe872af-224a8477-f98ac392.jpg', '/home/hermione/Documents/data/physionet.org/files/mimic-cxr-jpg/2.0.0/files/p10/p10005024/s53950795/cdd1bd42-770fcd05-16836b10-98a10e4a-f7b45ac2.jpg', '/home/hermione/Documents/data/physionet.org/files/mimic-cxr-jpg/2.0.0/files/p10/p10005749/s54040624/6c4e7b61-c870af38-2e4c1516-d6881840-7a65250e.jpg', '/home/hermione/Documents/data/physionet.org/files/mimic-cxr-jpg/2.0.0/files/p10/p10005749/s54060141/f0cc7528-a372f2c6-c052cb5b-e6c0943d-60606558.jpg', '/home/hermione/Documents/data/physionet.org/files/mimic-cxr-jpg/2.0.0/files/p10/p10005749/s57249718/deaec8ac-d2929f28-2b1287f9-7292e301-4a97c6c4.jpg', '/home/hermione/Documents/data/physionet.org/files/mimic-cxr-jpg/2.0.0/files/p10/p10007795/s54054513/8ae912e7-dd9b9e8c-783e82c3-eee10e45-c8c7ba33.jpg', '/home/hermione/Documents/data/physionet.org/files/mimic-cxr-jpg/2.0.0/files/p10/p10007795/s54054513/967dc8d0-867d422a-ed5ad465-5d9c21e8-381c3d60.jpg', '/home/hermione/Documents/data/physionet.org/files/mimic-cxr-jpg/2.0.0/files/p10/p10007795/s54492585/b9998910-7fcbe400-e6d6bbf4-8e469523-cb3beb9e.jpg', '/home/hermione/Documents/data/physionet.org/files/mimic-cxr-jpg/2.0.0/files/p10/p10007795/s58754452/517fb387-f2544dbe-119c03be-c8131797-d9416e87.jpg', '/home/hermione/Documents/data/physionet.org/files/mimic-cxr-jpg/2.0.0/files/p10/p10007795/s58754452/8c624a28-d9f0829f-3f0d7f82-fc4fa4aa-b5be9c12.jpg', '/home/hermione/Documents/data/physionet.org/files/mimic-cxr-jpg/2.0.0/files/p10/p10007928/s59796203/81a2d3fb-10e5ed3b-8ee41b6b-dda4f09e-0e3a10ee.jpg', '/home/hermione/Documents/data/physionet.org/files/mimic-cxr-jpg/2.0.0/files/p10/p10008493/s54180175/b0f63598-cc69b152-0d1b8339-e1ec508f-5d1a224c.jpg', '/home/hermione/Documents/data/physionet.org/files/mimic-cxr-jpg/2.0.0/files/p10/p10010440/s57403810/1c96daa8-cc3f462c-12e5cbf2-ab0baf36-c47a3f99.jpg', '/home/hermione/Documents/data/physionet.org/files/mimic-cxr-jpg/2.0.0/files/p10/p10011365/s59373787/114ef768-d50cb60b-21fee5b3-c0a0fb68-b95fa738.jpg', '/home/hermione/Documents/data/physionet.org/files/mimic-cxr-jpg/2.0.0/files/p10/p10011668/s50539024/acbb68f1-435036fa-cadb7e0b-f690b888-5901ae2a.jpg', '/home/hermione/Documents/data/physionet.org/files/mimic-cxr-jpg/2.0.0/files/p10/p10011668/s57069032/fe8a578c-4f1abd31-439d846b-24169eeb-fad0b3a3.jpg', '/home/hermione/Documents/data/physionet.org/files/mimic-cxr-jpg/2.0.0/files/p10/p10012292/s50854114/041929be-2f4aae30-82846957-72721286-436035a5.jpg', '/home/hermione/Documents/data/physionet.org/files/mimic-cxr-jpg/2.0.0/files/p10/p10012292/s51979091/1fb53d30-20a85527-b71db2ae-28913b09-44ef76be.jpg', '/home/hermione/Documents/data/physionet.org/files/mimic-cxr-jpg/2.0.0/files/p10/p10012292/s52412975/ca16ea39-8c22bfd8-f6bc2bc3-ce92406f-d5bd9438.jpg', '/home/hermione/Documents/data/physionet.org/files/mimic-cxr-jpg/2.0.0/files/p10/p10012292/s52500232/3888964a-3139c2d4-1f2c95ca-43f5f768-00fcca5b.jpg', '/home/hermione/Documents/data/physionet.org/files/mimic-cxr-jpg/2.0.0/files/p10/p10013502/s59527128/bb160b54-83b69413-d51367dd-c267210b-fbad7ccd.jpg', '/home/hermione/Documents/data/physionet.org/files/mimic-cxr-jpg/2.0.0/files/p10/p10013653/s50073683/cfeccc9f-802f8256-13ad1ca2-69a1b051-809fd266.jpg', '/home/hermione/Documents/data/physionet.org/files/mimic-cxr-jpg/2.0.0/files/p10/p10013653/s50073683/d89c4f38-078a6709-fca2f1bc-ea89f717-cad0569a.jpg', '/home/hermione/Documents/data/physionet.org/files/mimic-cxr-jpg/2.0.0/files/p10/p10013653/s53212555/3b9f9742-adbf9136-b41b8572-ed58df70-c59d06da.jpg', '/home/hermione/Documents/data/physionet.org/files/mimic-cxr-jpg/2.0.0/files/p10/p10013653/s53212555/b1f40134-1d4de9c5-faf33c88-ab990b2b-7249c13f.jpg', '/home/hermione/Documents/data/physionet.org/files/mimic-cxr-jpg/2.0.0/files/p10/p10013653/s55563991/7895d331-029165ef-27fa5910-6a7477be-63043df5.jpg', '/home/hermione/Documents/data/physionet.org/files/mimic-cxr-jpg/2.0.0/files/p10/p10014729/s51377970/57f1b6eb-de895902-f3d36eb2-a01a8f5d-05e2a93a.jpg', '/home/hermione/Documents/data/physionet.org/files/mimic-cxr-jpg/2.0.0/files/p10/p10014729/s53646444/78d48ef1-73b73217-5c083bd6-4064d6f7-709f476c.jpg', '/home/hermione/Documents/data/physionet.org/files/mimic-cxr-jpg/2.0.0/files/p10/p10014729/s54116558/f9644565-25de35b9-4c714d09-a1b398fc-35222480.jpg', '/home/hermione/Documents/data/physionet.org/files/mimic-cxr-jpg/2.0.0/files/p10/p10014729/s54258430/e2363278-1f80329d-9bf694c4-990c6956-65fe135a.jpg', '/home/hermione/Documents/data/physionet.org/files/mimic-cxr-jpg/2.0.0/files/p10/p10014729/s56982861/66006600-2519e936-75085a4b-ce5c3543-0e7a8187.jpg', '/home/hermione/Documents/data/physionet.org/files/mimic-cxr-jpg/2.0.0/files/p10/p10015931/s52545203/b60c6c0d-9c11585f-98c77706-f9593ca5-565cd308.jpg', '/home/hermione/Documents/data/physionet.org/files/mimic-cxr-jpg/2.0.0/files/p10/p10015931/s53883707/b5b24728-3a780096-e5988cb3-d0717639-2e03159f.jpg', '/home/hermione/Documents/data/physionet.org/files/mimic-cxr-jpg/2.0.0/files/p10/p10015931/s57962525/5bd7288f-3f5b72d4-a232b2bf-5dd71087-d98a9382.jpg', '/home/hermione/Documents/data/physionet.org/files/mimic-cxr-jpg/2.0.0/files/p10/p10016742/s54544825/76bbb1b3-08992151-c4f3ab99-281f7986-970150c9.jpg', '/home/hermione/Documents/data/physionet.org/files/mimic-cxr-jpg/2.0.0/files/p10/p10019003/s53307223/944d29a1-93b55f59-af7a8a2a-ff06e34f-dd6e4ef6.jpg', '/home/hermione/Documents/data/physionet.org/files/mimic-cxr-jpg/2.0.0/files/p10/p10019568/s59892630/db6fd75d-6d624f9e-9dbde6a7-587d4338-dec85f8d.jpg', '/home/hermione/Documents/data/physionet.org/files/mimic-cxr-jpg/2.0.0/files/p10/p10021666/s51474885/790f6583-cd0d29ba-d0e70c88-18ec61a3-5e23ce11.jpg', '/home/hermione/Documents/data/physionet.org/files/mimic-cxr-jpg/2.0.0/files/p10/p10021927/s58800461/b68f66f9-dd6396dd-4117d479-44c8fd2b-76f20a5b.jpg', '/home/hermione/Documents/data/physionet.org/files/mimic-cxr-jpg/2.0.0/files/p10/p10021938/s50014720/379d6359-5da011d0-923f27c3-252cf8c1-9b2b1abc.jpg', '/home/hermione/Documents/data/physionet.org/files/mimic-cxr-jpg/2.0.0/files/p10/p10021938/s55463845/6cd6caf1-d35ee2d2-273f3bfe-a9acd019-103cc524.jpg', '/home/hermione/Documents/data/physionet.org/files/mimic-cxr-jpg/2.0.0/files/p10/p10022041/s55830708/0ea7a462-63f9196e-19228a23-f1298992-7c9596c5.jpg', '/home/hermione/Documents/data/physionet.org/files/mimic-cxr-jpg/2.0.0/files/p10/p10022041/s55830708/2a9201a4-324c48e6-f6e29eff-2049bc5f-08ec4bcf.jpg', '/home/hermione/Documents/data/physionet.org/files/mimic-cxr-jpg/2.0.0/files/p10/p10022041/s56775341/1704d873-f745cefa-079e1c6c-003da718-82c800c7.jpg', '/home/hermione/Documents/data/physionet.org/files/mimic-cxr-jpg/2.0.0/files/p10/p10022041/s56775341/da092608-8ee341b0-94c02b69-c5e34bbf-d3f898ae.jpg', '/home/hermione/Documents/data/physionet.org/files/mimic-cxr-jpg/2.0.0/files/p10/p10023117/s52880779/89af216a-df43c172-f22dd4e8-7e4d1721-3061d169.jpg', '/home/hermione/Documents/data/physionet.org/files/mimic-cxr-jpg/2.0.0/files/p10/p10023117/s53372543/a45a2dc5-1def1eb3-77eec84e-84997e53-74b00071.jpg', '/home/hermione/Documents/data/physionet.org/files/mimic-cxr-jpg/2.0.0/files/p10/p10023117/s54051348/4ac94b39-5038c025-d2a71ee8-5fdb919e-d2b5d0f8.jpg', '/home/hermione/Documents/data/physionet.org/files/mimic-cxr-jpg/2.0.0/files/p10/p10023117/s54051348/894a31e0-94dd9dc5-2924f916-2df982db-dd3d3039.jpg', '/home/hermione/Documents/data/physionet.org/files/mimic-cxr-jpg/2.0.0/files/p10/p10023117/s54404075/7f1419ed-1641cf76-d15af2fc-9c32c5cd-44087f1b.jpg', '/home/hermione/Documents/data/physionet.org/files/mimic-cxr-jpg/2.0.0/files/p10/p10023117/s56007252/6fdc4b4f-0f017a47-655a21cf-8d241ce5-0641c486.jpg', '/home/hermione/Documents/data/physionet.org/files/mimic-cxr-jpg/2.0.0/files/p10/p10024982/s50980427/865b4fcf-51424204-693d01cd-285a63eb-318ec0cc.jpg', '/home/hermione/Documents/data/physionet.org/files/mimic-cxr-jpg/2.0.0/files/p10/p10024982/s52295645/beb85f47-6068aecd-fa7b9e71-0e4d359f-8b39381d.jpg', '/home/hermione/Documents/data/physionet.org/files/mimic-cxr-jpg/2.0.0/files/p10/p10024982/s54438313/8ccf0b84-84013d2f-287bdfe0-510bfd7b-865dd733.jpg', '/home/hermione/Documents/data/physionet.org/files/mimic-cxr-jpg/2.0.0/files/p10/p10024982/s54981300/f55f3b10-49686d7d-f30c2ae4-48f8f84d-6164587c.jpg', '/home/hermione/Documents/data/physionet.org/files/mimic-cxr-jpg/2.0.0/files/p10/p10024982/s57517987/4c718d98-eeb2d7e9-57f32d0c-05e36b46-9f7bdc6b.jpg', '/home/hermione/Documents/data/physionet.org/files/mimic-cxr-jpg/2.0.0/files/p10/p10024982/s57639867/234c3183-8f01f984-7f48e3c3-c632d659-dd616137.jpg', '/home/hermione/Documents/data/physionet.org/files/mimic-cxr-jpg/2.0.0/files/p10/p10024982/s58575944/983e4044-1df93a05-d6b02476-fb356e40-aba20c38.jpg', '/home/hermione/Documents/data/physionet.org/files/mimic-cxr-jpg/2.0.0/files/p10/p10024982/s58575944/b10b26a3-8d2f5ac0-44d2379a-6405cad2-12ef5312.jpg', '/home/hermione/Documents/data/physionet.org/files/mimic-cxr-jpg/2.0.0/files/p10/p10025139/s50196457/f7b69ee3-db7f264c-fca7d1c7-1d372fc0-02b35a47.jpg', '/home/hermione/Documents/data/physionet.org/files/mimic-cxr-jpg/2.0.0/files/p10/p10031687/s56022717/8fbe73d5-97571b25-16a12e49-e637f51e-ed8acc4b.jpg', '/home/hermione/Documents/data/physionet.org/files/mimic-cxr-jpg/2.0.0/files/p10/p10033290/s53250799/1d939d62-e784eb66-931508b1-51dc9d7b-239e7f38.jpg', '/home/hermione/Documents/data/physionet.org/files/mimic-cxr-jpg/2.0.0/files/p10/p10039272/s50589184/3daa2f39-89cf3e9d-6be38a60-2cd19002-964fed61.jpg', '/home/hermione/Documents/data/physionet.org/files/mimic-cxr-jpg/2.0.0/files/p10/p10039272/s50821222/b8796631-1461c99e-4dedd1e4-0379a188-a0c61d7e.jpg', '/home/hermione/Documents/data/physionet.org/files/mimic-cxr-jpg/2.0.0/files/p10/p10039272/s56135137/fa242e63-ba33bdf4-cde370e3-a8a33e8f-c0ff595d.jpg']\n",
      "['/home/hermione/Documents/data/physionet.org/files/mimic-cxr/2.0.0/mimic-cxr-reports/files/p10/p10000980/s57861150.txt', '/home/hermione/Documents/data/physionet.org/files/mimic-cxr/2.0.0/mimic-cxr-reports/files/p10/p10000980/s58206436.txt', '/home/hermione/Documents/data/physionet.org/files/mimic-cxr/2.0.0/mimic-cxr-reports/files/p10/p10000980/s59988438.txt', '/home/hermione/Documents/data/physionet.org/files/mimic-cxr/2.0.0/mimic-cxr-reports/files/p10/p10001217/s58913004.txt', '/home/hermione/Documents/data/physionet.org/files/mimic-cxr/2.0.0/mimic-cxr-reports/files/p10/p10002013/s58054149.txt', '/home/hermione/Documents/data/physionet.org/files/mimic-cxr/2.0.0/mimic-cxr-reports/files/p10/p10002131/s52823782.txt', '/home/hermione/Documents/data/physionet.org/files/mimic-cxr/2.0.0/mimic-cxr-reports/files/p10/p10002428/s50027225.txt', '/home/hermione/Documents/data/physionet.org/files/mimic-cxr/2.0.0/mimic-cxr-reports/files/p10/p10002428/s50444997.txt', '/home/hermione/Documents/data/physionet.org/files/mimic-cxr/2.0.0/mimic-cxr-reports/files/p10/p10002428/s54020701.txt', '/home/hermione/Documents/data/physionet.org/files/mimic-cxr/2.0.0/mimic-cxr-reports/files/p10/p10002428/s54831516.txt', '/home/hermione/Documents/data/physionet.org/files/mimic-cxr/2.0.0/mimic-cxr-reports/files/p10/p10002428/s55758034.txt', '/home/hermione/Documents/data/physionet.org/files/mimic-cxr/2.0.0/mimic-cxr-reports/files/p10/p10002428/s56597576.txt', '/home/hermione/Documents/data/physionet.org/files/mimic-cxr/2.0.0/mimic-cxr-reports/files/p10/p10002428/s56836542.txt', '/home/hermione/Documents/data/physionet.org/files/mimic-cxr/2.0.0/mimic-cxr-reports/files/p10/p10002428/s57506266.txt', '/home/hermione/Documents/data/physionet.org/files/mimic-cxr/2.0.0/mimic-cxr-reports/files/p10/p10002428/s57887188.txt', '/home/hermione/Documents/data/physionet.org/files/mimic-cxr/2.0.0/mimic-cxr-reports/files/p10/p10002428/s57961288.txt', '/home/hermione/Documents/data/physionet.org/files/mimic-cxr/2.0.0/mimic-cxr-reports/files/p10/p10002428/s57961288.txt', '/home/hermione/Documents/data/physionet.org/files/mimic-cxr/2.0.0/mimic-cxr-reports/files/p10/p10002428/s58601917.txt', '/home/hermione/Documents/data/physionet.org/files/mimic-cxr/2.0.0/mimic-cxr-reports/files/p10/p10002428/s58838312.txt', '/home/hermione/Documents/data/physionet.org/files/mimic-cxr/2.0.0/mimic-cxr-reports/files/p10/p10002428/s58851198.txt', '/home/hermione/Documents/data/physionet.org/files/mimic-cxr/2.0.0/mimic-cxr-reports/files/p10/p10002428/s59098825.txt', '/home/hermione/Documents/data/physionet.org/files/mimic-cxr/2.0.0/mimic-cxr-reports/files/p10/p10002428/s59659695.txt', '/home/hermione/Documents/data/physionet.org/files/mimic-cxr/2.0.0/mimic-cxr-reports/files/p10/p10003299/s50536653.txt', '/home/hermione/Documents/data/physionet.org/files/mimic-cxr/2.0.0/mimic-cxr-reports/files/p10/p10003299/s57344656.txt', '/home/hermione/Documents/data/physionet.org/files/mimic-cxr/2.0.0/mimic-cxr-reports/files/p10/p10003400/s52822559.txt', '/home/hermione/Documents/data/physionet.org/files/mimic-cxr/2.0.0/mimic-cxr-reports/files/p10/p10003400/s54050001.txt', '/home/hermione/Documents/data/physionet.org/files/mimic-cxr/2.0.0/mimic-cxr-reports/files/p10/p10003400/s55177950.txt', '/home/hermione/Documents/data/physionet.org/files/mimic-cxr/2.0.0/mimic-cxr-reports/files/p10/p10003400/s59336915.txt', '/home/hermione/Documents/data/physionet.org/files/mimic-cxr/2.0.0/mimic-cxr-reports/files/p10/p10003502/s51180958.txt', '/home/hermione/Documents/data/physionet.org/files/mimic-cxr/2.0.0/mimic-cxr-reports/files/p10/p10003502/s52139270.txt', '/home/hermione/Documents/data/physionet.org/files/mimic-cxr/2.0.0/mimic-cxr-reports/files/p10/p10003502/s52309364.txt', '/home/hermione/Documents/data/physionet.org/files/mimic-cxr/2.0.0/mimic-cxr-reports/files/p10/p10003502/s53282957.txt', '/home/hermione/Documents/data/physionet.org/files/mimic-cxr/2.0.0/mimic-cxr-reports/files/p10/p10003502/s57641661.txt', '/home/hermione/Documents/data/physionet.org/files/mimic-cxr/2.0.0/mimic-cxr-reports/files/p10/p10003502/s57812613.txt', '/home/hermione/Documents/data/physionet.org/files/mimic-cxr/2.0.0/mimic-cxr-reports/files/p10/p10004235/s57318275.txt', '/home/hermione/Documents/data/physionet.org/files/mimic-cxr/2.0.0/mimic-cxr-reports/files/p10/p10004457/s55439624.txt', '/home/hermione/Documents/data/physionet.org/files/mimic-cxr/2.0.0/mimic-cxr-reports/files/p10/p10005024/s53950795.txt', '/home/hermione/Documents/data/physionet.org/files/mimic-cxr/2.0.0/mimic-cxr-reports/files/p10/p10005749/s54040624.txt', '/home/hermione/Documents/data/physionet.org/files/mimic-cxr/2.0.0/mimic-cxr-reports/files/p10/p10005749/s54060141.txt', '/home/hermione/Documents/data/physionet.org/files/mimic-cxr/2.0.0/mimic-cxr-reports/files/p10/p10005749/s57249718.txt', '/home/hermione/Documents/data/physionet.org/files/mimic-cxr/2.0.0/mimic-cxr-reports/files/p10/p10007795/s54054513.txt', '/home/hermione/Documents/data/physionet.org/files/mimic-cxr/2.0.0/mimic-cxr-reports/files/p10/p10007795/s54054513.txt', '/home/hermione/Documents/data/physionet.org/files/mimic-cxr/2.0.0/mimic-cxr-reports/files/p10/p10007795/s54492585.txt', '/home/hermione/Documents/data/physionet.org/files/mimic-cxr/2.0.0/mimic-cxr-reports/files/p10/p10007795/s58754452.txt', '/home/hermione/Documents/data/physionet.org/files/mimic-cxr/2.0.0/mimic-cxr-reports/files/p10/p10007795/s58754452.txt', '/home/hermione/Documents/data/physionet.org/files/mimic-cxr/2.0.0/mimic-cxr-reports/files/p10/p10007928/s59796203.txt', '/home/hermione/Documents/data/physionet.org/files/mimic-cxr/2.0.0/mimic-cxr-reports/files/p10/p10008493/s54180175.txt', '/home/hermione/Documents/data/physionet.org/files/mimic-cxr/2.0.0/mimic-cxr-reports/files/p10/p10010440/s57403810.txt', '/home/hermione/Documents/data/physionet.org/files/mimic-cxr/2.0.0/mimic-cxr-reports/files/p10/p10011365/s59373787.txt', '/home/hermione/Documents/data/physionet.org/files/mimic-cxr/2.0.0/mimic-cxr-reports/files/p10/p10011668/s50539024.txt', '/home/hermione/Documents/data/physionet.org/files/mimic-cxr/2.0.0/mimic-cxr-reports/files/p10/p10011668/s57069032.txt', '/home/hermione/Documents/data/physionet.org/files/mimic-cxr/2.0.0/mimic-cxr-reports/files/p10/p10012292/s50854114.txt', '/home/hermione/Documents/data/physionet.org/files/mimic-cxr/2.0.0/mimic-cxr-reports/files/p10/p10012292/s51979091.txt', '/home/hermione/Documents/data/physionet.org/files/mimic-cxr/2.0.0/mimic-cxr-reports/files/p10/p10012292/s52412975.txt', '/home/hermione/Documents/data/physionet.org/files/mimic-cxr/2.0.0/mimic-cxr-reports/files/p10/p10012292/s52500232.txt', '/home/hermione/Documents/data/physionet.org/files/mimic-cxr/2.0.0/mimic-cxr-reports/files/p10/p10013502/s59527128.txt', '/home/hermione/Documents/data/physionet.org/files/mimic-cxr/2.0.0/mimic-cxr-reports/files/p10/p10013653/s50073683.txt', '/home/hermione/Documents/data/physionet.org/files/mimic-cxr/2.0.0/mimic-cxr-reports/files/p10/p10013653/s50073683.txt', '/home/hermione/Documents/data/physionet.org/files/mimic-cxr/2.0.0/mimic-cxr-reports/files/p10/p10013653/s53212555.txt', '/home/hermione/Documents/data/physionet.org/files/mimic-cxr/2.0.0/mimic-cxr-reports/files/p10/p10013653/s53212555.txt', '/home/hermione/Documents/data/physionet.org/files/mimic-cxr/2.0.0/mimic-cxr-reports/files/p10/p10013653/s55563991.txt', '/home/hermione/Documents/data/physionet.org/files/mimic-cxr/2.0.0/mimic-cxr-reports/files/p10/p10014729/s51377970.txt', '/home/hermione/Documents/data/physionet.org/files/mimic-cxr/2.0.0/mimic-cxr-reports/files/p10/p10014729/s53646444.txt', '/home/hermione/Documents/data/physionet.org/files/mimic-cxr/2.0.0/mimic-cxr-reports/files/p10/p10014729/s54116558.txt', '/home/hermione/Documents/data/physionet.org/files/mimic-cxr/2.0.0/mimic-cxr-reports/files/p10/p10014729/s54258430.txt', '/home/hermione/Documents/data/physionet.org/files/mimic-cxr/2.0.0/mimic-cxr-reports/files/p10/p10014729/s56982861.txt', '/home/hermione/Documents/data/physionet.org/files/mimic-cxr/2.0.0/mimic-cxr-reports/files/p10/p10015931/s52545203.txt', '/home/hermione/Documents/data/physionet.org/files/mimic-cxr/2.0.0/mimic-cxr-reports/files/p10/p10015931/s53883707.txt', '/home/hermione/Documents/data/physionet.org/files/mimic-cxr/2.0.0/mimic-cxr-reports/files/p10/p10015931/s57962525.txt', '/home/hermione/Documents/data/physionet.org/files/mimic-cxr/2.0.0/mimic-cxr-reports/files/p10/p10016742/s54544825.txt', '/home/hermione/Documents/data/physionet.org/files/mimic-cxr/2.0.0/mimic-cxr-reports/files/p10/p10019003/s53307223.txt', '/home/hermione/Documents/data/physionet.org/files/mimic-cxr/2.0.0/mimic-cxr-reports/files/p10/p10019568/s59892630.txt', '/home/hermione/Documents/data/physionet.org/files/mimic-cxr/2.0.0/mimic-cxr-reports/files/p10/p10021666/s51474885.txt', '/home/hermione/Documents/data/physionet.org/files/mimic-cxr/2.0.0/mimic-cxr-reports/files/p10/p10021927/s58800461.txt', '/home/hermione/Documents/data/physionet.org/files/mimic-cxr/2.0.0/mimic-cxr-reports/files/p10/p10021938/s50014720.txt', '/home/hermione/Documents/data/physionet.org/files/mimic-cxr/2.0.0/mimic-cxr-reports/files/p10/p10021938/s55463845.txt', '/home/hermione/Documents/data/physionet.org/files/mimic-cxr/2.0.0/mimic-cxr-reports/files/p10/p10022041/s55830708.txt', '/home/hermione/Documents/data/physionet.org/files/mimic-cxr/2.0.0/mimic-cxr-reports/files/p10/p10022041/s55830708.txt', '/home/hermione/Documents/data/physionet.org/files/mimic-cxr/2.0.0/mimic-cxr-reports/files/p10/p10022041/s56775341.txt', '/home/hermione/Documents/data/physionet.org/files/mimic-cxr/2.0.0/mimic-cxr-reports/files/p10/p10022041/s56775341.txt', '/home/hermione/Documents/data/physionet.org/files/mimic-cxr/2.0.0/mimic-cxr-reports/files/p10/p10023117/s52880779.txt', '/home/hermione/Documents/data/physionet.org/files/mimic-cxr/2.0.0/mimic-cxr-reports/files/p10/p10023117/s53372543.txt', '/home/hermione/Documents/data/physionet.org/files/mimic-cxr/2.0.0/mimic-cxr-reports/files/p10/p10023117/s54051348.txt', '/home/hermione/Documents/data/physionet.org/files/mimic-cxr/2.0.0/mimic-cxr-reports/files/p10/p10023117/s54051348.txt', '/home/hermione/Documents/data/physionet.org/files/mimic-cxr/2.0.0/mimic-cxr-reports/files/p10/p10023117/s54404075.txt', '/home/hermione/Documents/data/physionet.org/files/mimic-cxr/2.0.0/mimic-cxr-reports/files/p10/p10023117/s56007252.txt', '/home/hermione/Documents/data/physionet.org/files/mimic-cxr/2.0.0/mimic-cxr-reports/files/p10/p10024982/s50980427.txt', '/home/hermione/Documents/data/physionet.org/files/mimic-cxr/2.0.0/mimic-cxr-reports/files/p10/p10024982/s52295645.txt', '/home/hermione/Documents/data/physionet.org/files/mimic-cxr/2.0.0/mimic-cxr-reports/files/p10/p10024982/s54438313.txt', '/home/hermione/Documents/data/physionet.org/files/mimic-cxr/2.0.0/mimic-cxr-reports/files/p10/p10024982/s54981300.txt', '/home/hermione/Documents/data/physionet.org/files/mimic-cxr/2.0.0/mimic-cxr-reports/files/p10/p10024982/s57517987.txt', '/home/hermione/Documents/data/physionet.org/files/mimic-cxr/2.0.0/mimic-cxr-reports/files/p10/p10024982/s57639867.txt', '/home/hermione/Documents/data/physionet.org/files/mimic-cxr/2.0.0/mimic-cxr-reports/files/p10/p10024982/s58575944.txt', '/home/hermione/Documents/data/physionet.org/files/mimic-cxr/2.0.0/mimic-cxr-reports/files/p10/p10024982/s58575944.txt', '/home/hermione/Documents/data/physionet.org/files/mimic-cxr/2.0.0/mimic-cxr-reports/files/p10/p10025139/s50196457.txt', '/home/hermione/Documents/data/physionet.org/files/mimic-cxr/2.0.0/mimic-cxr-reports/files/p10/p10031687/s56022717.txt', '/home/hermione/Documents/data/physionet.org/files/mimic-cxr/2.0.0/mimic-cxr-reports/files/p10/p10033290/s53250799.txt', '/home/hermione/Documents/data/physionet.org/files/mimic-cxr/2.0.0/mimic-cxr-reports/files/p10/p10039272/s50589184.txt', '/home/hermione/Documents/data/physionet.org/files/mimic-cxr/2.0.0/mimic-cxr-reports/files/p10/p10039272/s50821222.txt', '/home/hermione/Documents/data/physionet.org/files/mimic-cxr/2.0.0/mimic-cxr-reports/files/p10/p10039272/s56135137.txt']\n"
     ]
    }
   ],
   "source": [
    "\n",
    "# paths to the images that we want to generate reports for\n",
    "images_paths = []\n",
    "reports_paths = []\n",
    "for n,i in enumerate(ids):\n",
    "    images_paths.append(f\"/home/hermione/Documents/data/physionet.org/files/mimic-cxr-jpg/2.0.0/files/p10/{i}/{im_ids[n]}.jpg\")\n",
    "    reports_paths.append(f\"/home/hermione/Documents/data/physionet.org/files/mimic-cxr/2.0.0/mimic-cxr-reports/files/p10/{i}.txt\")\n",
    "\n",
    "print(images_paths)\n",
    "print(reports_paths)"
   ]
  },
  {
   "cell_type": "code",
   "execution_count": 8,
   "metadata": {},
   "outputs": [
    {
     "name": "stderr",
     "output_type": "stream",
     "text": [
      "0it [00:00, ?it/s]"
     ]
    },
    {
     "name": "stdout",
     "output_type": "stream",
     "text": [
      "p10000980/s57861150\n"
     ]
    },
    {
     "name": "stderr",
     "output_type": "stream",
     "text": [
      "1it [00:01,  1.29s/it]"
     ]
    },
    {
     "name": "stdout",
     "output_type": "stream",
     "text": [
      "p10000980/s58206436\n"
     ]
    },
    {
     "name": "stderr",
     "output_type": "stream",
     "text": [
      "2it [00:01,  1.40it/s]"
     ]
    },
    {
     "name": "stdout",
     "output_type": "stream",
     "text": [
      "generated reports:  ['The cardiac silhouette is mildly enlarged']\n",
      "reference report:   WET READ: ___ ___ ___ 6:47 AM\n",
      "  1. New mild pulmonary edema with persistent small bilateral pleural effusions.\n",
      "  2. Severe cardiomegaly is likely accentuated due to low lung volumes and\n",
      "  patient positioning.\n",
      "  \n",
      " ______________________________________________________________________________\n",
      "                                 FINAL REPORT\n",
      " EXAMINATION:  Chest radiograph.\n",
      " \n",
      " INDICATION:  ___F with wheezing and dyspnea.  Assess for pulmonary edema.\n",
      " \n",
      " TECHNIQUE:  Single portable upright frontal chest radiograph.\n",
      " \n",
      " COMPARISON:  ___ chest radiograph.  ___ chest radiograph.\n",
      " \n",
      " FINDINGS: \n",
      " \n",
      " In comparison to study performed on of ___ there is new mild\n",
      " pulmonary edema with small bilateral pleural effusions.  Lung volumes have\n",
      " decreased with crowding of vasculature.  No pneumothorax.  Severe cardiomegaly\n",
      " is likely accentuated due to low lung volumes and patient positioning.\n",
      " \n",
      " IMPRESSION: \n",
      " \n",
      " 1. New mild pulmonary edema with persistent small bilateral pleural effusions.\n",
      " 2. Severe cardiomegaly is likely accentuated due to low lung volumes and\n",
      " patient positioning.\n",
      "\n",
      "p10000980/s59988438\n"
     ]
    },
    {
     "name": "stderr",
     "output_type": "stream",
     "text": [
      "3it [00:01,  1.80it/s]"
     ]
    },
    {
     "name": "stdout",
     "output_type": "stream",
     "text": [
      "p10001217/s58913004\n"
     ]
    },
    {
     "name": "stderr",
     "output_type": "stream",
     "text": [
      "4it [00:02,  2.13it/s]"
     ]
    },
    {
     "name": "stdout",
     "output_type": "stream",
     "text": [
      "p10002013/s58054149\n"
     ]
    },
    {
     "name": "stderr",
     "output_type": "stream",
     "text": [
      "5it [00:02,  2.37it/s]"
     ]
    },
    {
     "name": "stdout",
     "output_type": "stream",
     "text": [
      "p10002131/s52823782\n"
     ]
    },
    {
     "name": "stderr",
     "output_type": "stream",
     "text": [
      "6it [00:03,  2.44it/s]"
     ]
    },
    {
     "name": "stdout",
     "output_type": "stream",
     "text": [
      "p10002428/s50027225\n"
     ]
    },
    {
     "name": "stderr",
     "output_type": "stream",
     "text": [
      "7it [00:03,  2.64it/s]"
     ]
    },
    {
     "name": "stdout",
     "output_type": "stream",
     "text": [
      "p10002428/s50444997\n"
     ]
    },
    {
     "name": "stderr",
     "output_type": "stream",
     "text": [
      "8it [00:03,  2.80it/s]"
     ]
    },
    {
     "name": "stdout",
     "output_type": "stream",
     "text": [
      "p10002428/s54020701\n"
     ]
    },
    {
     "name": "stderr",
     "output_type": "stream",
     "text": [
      "9it [00:03,  2.93it/s]"
     ]
    },
    {
     "name": "stdout",
     "output_type": "stream",
     "text": [
      "p10002428/s54831516\n"
     ]
    },
    {
     "name": "stderr",
     "output_type": "stream",
     "text": [
      "10it [00:04,  2.99it/s]"
     ]
    },
    {
     "name": "stdout",
     "output_type": "stream",
     "text": [
      "p10002428/s55758034\n"
     ]
    },
    {
     "name": "stderr",
     "output_type": "stream",
     "text": [
      "11it [00:04,  3.02it/s]"
     ]
    },
    {
     "name": "stdout",
     "output_type": "stream",
     "text": [
      "p10002428/s56597576\n"
     ]
    },
    {
     "name": "stderr",
     "output_type": "stream",
     "text": [
      "12it [00:04,  3.04it/s]"
     ]
    },
    {
     "name": "stdout",
     "output_type": "stream",
     "text": [
      "p10002428/s56836542\n"
     ]
    },
    {
     "name": "stderr",
     "output_type": "stream",
     "text": [
      "13it [00:05,  3.08it/s]"
     ]
    },
    {
     "name": "stdout",
     "output_type": "stream",
     "text": [
      "p10002428/s57506266\n"
     ]
    },
    {
     "name": "stderr",
     "output_type": "stream",
     "text": [
      "14it [00:05,  3.14it/s]"
     ]
    },
    {
     "name": "stdout",
     "output_type": "stream",
     "text": [
      "p10002428/s57887188\n"
     ]
    },
    {
     "name": "stderr",
     "output_type": "stream",
     "text": [
      "15it [00:05,  3.15it/s]"
     ]
    },
    {
     "name": "stdout",
     "output_type": "stream",
     "text": [
      "p10002428/s57961288\n"
     ]
    },
    {
     "name": "stderr",
     "output_type": "stream",
     "text": [
      "16it [00:06,  3.16it/s]"
     ]
    },
    {
     "name": "stdout",
     "output_type": "stream",
     "text": [
      "p10002428/s57961288\n"
     ]
    },
    {
     "name": "stderr",
     "output_type": "stream",
     "text": [
      "17it [00:06,  3.19it/s]"
     ]
    },
    {
     "name": "stdout",
     "output_type": "stream",
     "text": [
      "p10002428/s58601917\n"
     ]
    },
    {
     "name": "stderr",
     "output_type": "stream",
     "text": [
      "18it [00:06,  3.16it/s]"
     ]
    },
    {
     "name": "stdout",
     "output_type": "stream",
     "text": [
      "p10002428/s58838312\n"
     ]
    },
    {
     "name": "stderr",
     "output_type": "stream",
     "text": [
      "19it [00:07,  3.18it/s]"
     ]
    },
    {
     "name": "stdout",
     "output_type": "stream",
     "text": [
      "p10002428/s58851198\n"
     ]
    },
    {
     "name": "stderr",
     "output_type": "stream",
     "text": [
      "20it [00:07,  3.01it/s]"
     ]
    },
    {
     "name": "stdout",
     "output_type": "stream",
     "text": [
      "p10002428/s59098825\n"
     ]
    },
    {
     "name": "stderr",
     "output_type": "stream",
     "text": [
      "21it [00:07,  3.05it/s]"
     ]
    },
    {
     "name": "stdout",
     "output_type": "stream",
     "text": [
      "p10002428/s59659695\n"
     ]
    },
    {
     "name": "stderr",
     "output_type": "stream",
     "text": [
      "22it [00:08,  2.97it/s]"
     ]
    },
    {
     "name": "stdout",
     "output_type": "stream",
     "text": [
      "p10003299/s50536653\n"
     ]
    },
    {
     "name": "stderr",
     "output_type": "stream",
     "text": [
      "23it [00:08,  3.02it/s]"
     ]
    },
    {
     "name": "stdout",
     "output_type": "stream",
     "text": [
      "p10003299/s57344656\n"
     ]
    },
    {
     "name": "stderr",
     "output_type": "stream",
     "text": [
      "24it [00:08,  2.93it/s]"
     ]
    },
    {
     "name": "stdout",
     "output_type": "stream",
     "text": [
      "p10003400/s52822559\n"
     ]
    },
    {
     "name": "stderr",
     "output_type": "stream",
     "text": [
      "25it [00:09,  2.96it/s]"
     ]
    },
    {
     "name": "stdout",
     "output_type": "stream",
     "text": [
      "p10003400/s54050001\n"
     ]
    },
    {
     "name": "stderr",
     "output_type": "stream",
     "text": [
      "26it [00:09,  2.77it/s]"
     ]
    },
    {
     "name": "stdout",
     "output_type": "stream",
     "text": [
      "p10003400/s55177950\n"
     ]
    },
    {
     "name": "stderr",
     "output_type": "stream",
     "text": [
      "27it [00:09,  2.78it/s]"
     ]
    },
    {
     "name": "stdout",
     "output_type": "stream",
     "text": [
      "p10003400/s59336915\n"
     ]
    },
    {
     "name": "stderr",
     "output_type": "stream",
     "text": [
      "28it [00:10,  2.76it/s]"
     ]
    },
    {
     "name": "stdout",
     "output_type": "stream",
     "text": [
      "p10003502/s51180958\n"
     ]
    },
    {
     "name": "stderr",
     "output_type": "stream",
     "text": [
      "29it [00:10,  2.82it/s]"
     ]
    },
    {
     "name": "stdout",
     "output_type": "stream",
     "text": [
      "p10003502/s52139270\n"
     ]
    },
    {
     "name": "stderr",
     "output_type": "stream",
     "text": [
      "30it [00:10,  2.88it/s]"
     ]
    },
    {
     "name": "stdout",
     "output_type": "stream",
     "text": [
      "p10003502/s52309364\n"
     ]
    },
    {
     "name": "stderr",
     "output_type": "stream",
     "text": [
      "31it [00:11,  2.83it/s]"
     ]
    },
    {
     "name": "stdout",
     "output_type": "stream",
     "text": [
      "p10003502/s53282957\n"
     ]
    },
    {
     "name": "stderr",
     "output_type": "stream",
     "text": [
      "32it [00:11,  2.85it/s]"
     ]
    },
    {
     "name": "stdout",
     "output_type": "stream",
     "text": [
      "p10003502/s57641661\n"
     ]
    },
    {
     "name": "stderr",
     "output_type": "stream",
     "text": [
      "33it [00:12,  2.85it/s]"
     ]
    },
    {
     "name": "stdout",
     "output_type": "stream",
     "text": [
      "p10003502/s57812613\n"
     ]
    },
    {
     "name": "stderr",
     "output_type": "stream",
     "text": [
      "34it [00:12,  2.94it/s]"
     ]
    },
    {
     "name": "stdout",
     "output_type": "stream",
     "text": [
      "p10004235/s57318275\n"
     ]
    },
    {
     "name": "stderr",
     "output_type": "stream",
     "text": [
      "35it [00:12,  2.95it/s]"
     ]
    },
    {
     "name": "stdout",
     "output_type": "stream",
     "text": [
      "p10004457/s55439624\n"
     ]
    },
    {
     "name": "stderr",
     "output_type": "stream",
     "text": [
      "36it [00:13,  3.04it/s]"
     ]
    },
    {
     "name": "stdout",
     "output_type": "stream",
     "text": [
      "p10005024/s53950795\n"
     ]
    },
    {
     "name": "stderr",
     "output_type": "stream",
     "text": [
      "37it [00:13,  2.93it/s]"
     ]
    },
    {
     "name": "stdout",
     "output_type": "stream",
     "text": [
      "p10005749/s54040624\n"
     ]
    },
    {
     "name": "stderr",
     "output_type": "stream",
     "text": [
      "38it [00:13,  2.89it/s]"
     ]
    },
    {
     "name": "stdout",
     "output_type": "stream",
     "text": [
      "p10005749/s54060141\n"
     ]
    },
    {
     "name": "stderr",
     "output_type": "stream",
     "text": [
      "39it [00:14,  2.85it/s]"
     ]
    },
    {
     "name": "stdout",
     "output_type": "stream",
     "text": [
      "p10005749/s57249718\n"
     ]
    },
    {
     "name": "stderr",
     "output_type": "stream",
     "text": [
      "40it [00:14,  2.86it/s]"
     ]
    },
    {
     "name": "stdout",
     "output_type": "stream",
     "text": [
      "p10007795/s54054513\n"
     ]
    },
    {
     "name": "stderr",
     "output_type": "stream",
     "text": [
      "41it [00:14,  2.87it/s]"
     ]
    },
    {
     "name": "stdout",
     "output_type": "stream",
     "text": [
      "p10007795/s54054513\n"
     ]
    },
    {
     "name": "stderr",
     "output_type": "stream",
     "text": [
      "42it [00:15,  2.94it/s]"
     ]
    },
    {
     "name": "stdout",
     "output_type": "stream",
     "text": [
      "p10007795/s54492585\n"
     ]
    },
    {
     "name": "stderr",
     "output_type": "stream",
     "text": [
      "43it [00:15,  3.03it/s]"
     ]
    },
    {
     "name": "stdout",
     "output_type": "stream",
     "text": [
      "p10007795/s58754452\n"
     ]
    },
    {
     "name": "stderr",
     "output_type": "stream",
     "text": [
      "44it [00:15,  3.01it/s]"
     ]
    },
    {
     "name": "stdout",
     "output_type": "stream",
     "text": [
      "p10007795/s58754452\n"
     ]
    },
    {
     "name": "stderr",
     "output_type": "stream",
     "text": [
      "45it [00:16,  2.94it/s]"
     ]
    },
    {
     "name": "stdout",
     "output_type": "stream",
     "text": [
      "p10007928/s59796203\n"
     ]
    },
    {
     "name": "stderr",
     "output_type": "stream",
     "text": [
      "46it [00:16,  2.93it/s]"
     ]
    },
    {
     "name": "stdout",
     "output_type": "stream",
     "text": [
      "p10008493/s54180175\n"
     ]
    },
    {
     "name": "stderr",
     "output_type": "stream",
     "text": [
      "47it [00:16,  2.83it/s]"
     ]
    },
    {
     "name": "stdout",
     "output_type": "stream",
     "text": [
      "p10010440/s57403810\n"
     ]
    },
    {
     "name": "stderr",
     "output_type": "stream",
     "text": [
      "48it [00:17,  2.82it/s]"
     ]
    },
    {
     "name": "stdout",
     "output_type": "stream",
     "text": [
      "p10011365/s59373787\n"
     ]
    },
    {
     "name": "stderr",
     "output_type": "stream",
     "text": [
      "49it [00:17,  2.93it/s]"
     ]
    },
    {
     "name": "stdout",
     "output_type": "stream",
     "text": [
      "p10011668/s50539024\n"
     ]
    },
    {
     "name": "stderr",
     "output_type": "stream",
     "text": [
      "50it [00:17,  2.94it/s]"
     ]
    },
    {
     "name": "stdout",
     "output_type": "stream",
     "text": [
      "p10011668/s57069032\n"
     ]
    },
    {
     "name": "stderr",
     "output_type": "stream",
     "text": [
      "51it [00:18,  2.98it/s]"
     ]
    },
    {
     "name": "stdout",
     "output_type": "stream",
     "text": [
      "p10012292/s50854114\n"
     ]
    },
    {
     "name": "stderr",
     "output_type": "stream",
     "text": [
      "52it [00:18,  3.13it/s]"
     ]
    },
    {
     "name": "stdout",
     "output_type": "stream",
     "text": [
      "p10012292/s51979091\n"
     ]
    },
    {
     "name": "stderr",
     "output_type": "stream",
     "text": [
      "53it [00:18,  3.13it/s]"
     ]
    },
    {
     "name": "stdout",
     "output_type": "stream",
     "text": [
      "p10012292/s52412975\n"
     ]
    },
    {
     "name": "stderr",
     "output_type": "stream",
     "text": [
      "54it [00:19,  3.18it/s]"
     ]
    },
    {
     "name": "stdout",
     "output_type": "stream",
     "text": [
      "p10012292/s52500232\n"
     ]
    },
    {
     "name": "stderr",
     "output_type": "stream",
     "text": [
      "55it [00:19,  3.17it/s]"
     ]
    },
    {
     "name": "stdout",
     "output_type": "stream",
     "text": [
      "p10013502/s59527128\n"
     ]
    },
    {
     "name": "stderr",
     "output_type": "stream",
     "text": [
      "56it [00:19,  3.21it/s]"
     ]
    },
    {
     "name": "stdout",
     "output_type": "stream",
     "text": [
      "p10013653/s50073683\n"
     ]
    },
    {
     "name": "stderr",
     "output_type": "stream",
     "text": [
      "57it [00:19,  3.28it/s]"
     ]
    },
    {
     "name": "stdout",
     "output_type": "stream",
     "text": [
      "p10013653/s50073683\n"
     ]
    },
    {
     "name": "stderr",
     "output_type": "stream",
     "text": [
      "58it [00:20,  3.34it/s]"
     ]
    },
    {
     "name": "stdout",
     "output_type": "stream",
     "text": [
      "p10013653/s53212555\n"
     ]
    },
    {
     "name": "stderr",
     "output_type": "stream",
     "text": [
      "59it [00:20,  3.18it/s]"
     ]
    },
    {
     "name": "stdout",
     "output_type": "stream",
     "text": [
      "p10013653/s53212555\n"
     ]
    },
    {
     "name": "stderr",
     "output_type": "stream",
     "text": [
      "60it [00:20,  3.02it/s]"
     ]
    },
    {
     "name": "stdout",
     "output_type": "stream",
     "text": [
      "p10013653/s55563991\n"
     ]
    },
    {
     "name": "stderr",
     "output_type": "stream",
     "text": [
      "61it [00:21,  2.96it/s]"
     ]
    },
    {
     "name": "stdout",
     "output_type": "stream",
     "text": [
      "p10014729/s51377970\n"
     ]
    },
    {
     "name": "stderr",
     "output_type": "stream",
     "text": [
      "62it [00:21,  2.93it/s]"
     ]
    },
    {
     "name": "stdout",
     "output_type": "stream",
     "text": [
      "p10014729/s53646444\n"
     ]
    },
    {
     "name": "stderr",
     "output_type": "stream",
     "text": [
      "63it [00:22,  2.89it/s]"
     ]
    },
    {
     "name": "stdout",
     "output_type": "stream",
     "text": [
      "p10014729/s54116558\n"
     ]
    },
    {
     "name": "stderr",
     "output_type": "stream",
     "text": [
      "64it [00:22,  2.83it/s]"
     ]
    },
    {
     "name": "stdout",
     "output_type": "stream",
     "text": [
      "p10014729/s54258430\n"
     ]
    },
    {
     "name": "stderr",
     "output_type": "stream",
     "text": [
      "65it [00:22,  2.86it/s]"
     ]
    },
    {
     "name": "stdout",
     "output_type": "stream",
     "text": [
      "p10014729/s56982861\n"
     ]
    },
    {
     "name": "stderr",
     "output_type": "stream",
     "text": [
      "66it [00:23,  2.83it/s]"
     ]
    },
    {
     "name": "stdout",
     "output_type": "stream",
     "text": [
      "p10015931/s52545203\n"
     ]
    },
    {
     "name": "stderr",
     "output_type": "stream",
     "text": [
      "67it [00:23,  2.76it/s]"
     ]
    },
    {
     "name": "stdout",
     "output_type": "stream",
     "text": [
      "p10015931/s53883707\n"
     ]
    },
    {
     "name": "stderr",
     "output_type": "stream",
     "text": [
      "68it [00:23,  2.84it/s]"
     ]
    },
    {
     "name": "stdout",
     "output_type": "stream",
     "text": [
      "p10015931/s57962525\n"
     ]
    },
    {
     "name": "stderr",
     "output_type": "stream",
     "text": [
      "69it [00:24,  2.84it/s]"
     ]
    },
    {
     "name": "stdout",
     "output_type": "stream",
     "text": [
      "p10016742/s54544825\n"
     ]
    },
    {
     "name": "stderr",
     "output_type": "stream",
     "text": [
      "70it [00:24,  2.90it/s]"
     ]
    },
    {
     "name": "stdout",
     "output_type": "stream",
     "text": [
      "p10019003/s53307223\n"
     ]
    },
    {
     "name": "stderr",
     "output_type": "stream",
     "text": [
      "71it [00:24,  3.08it/s]"
     ]
    },
    {
     "name": "stdout",
     "output_type": "stream",
     "text": [
      "p10019568/s59892630\n"
     ]
    },
    {
     "name": "stderr",
     "output_type": "stream",
     "text": [
      "72it [00:25,  3.02it/s]"
     ]
    },
    {
     "name": "stdout",
     "output_type": "stream",
     "text": [
      "p10021666/s51474885\n"
     ]
    },
    {
     "name": "stderr",
     "output_type": "stream",
     "text": [
      "73it [00:25,  3.00it/s]"
     ]
    },
    {
     "name": "stdout",
     "output_type": "stream",
     "text": [
      "p10021927/s58800461\n"
     ]
    },
    {
     "name": "stderr",
     "output_type": "stream",
     "text": [
      "74it [00:25,  3.00it/s]"
     ]
    },
    {
     "name": "stdout",
     "output_type": "stream",
     "text": [
      "p10021938/s50014720\n"
     ]
    },
    {
     "name": "stderr",
     "output_type": "stream",
     "text": [
      "75it [00:26,  3.01it/s]"
     ]
    },
    {
     "name": "stdout",
     "output_type": "stream",
     "text": [
      "p10021938/s55463845\n"
     ]
    },
    {
     "name": "stderr",
     "output_type": "stream",
     "text": [
      "76it [00:26,  2.97it/s]"
     ]
    },
    {
     "name": "stdout",
     "output_type": "stream",
     "text": [
      "p10022041/s55830708\n"
     ]
    },
    {
     "name": "stderr",
     "output_type": "stream",
     "text": [
      "77it [00:26,  3.01it/s]"
     ]
    },
    {
     "name": "stdout",
     "output_type": "stream",
     "text": [
      "p10022041/s55830708\n"
     ]
    },
    {
     "name": "stderr",
     "output_type": "stream",
     "text": [
      "78it [00:27,  3.06it/s]"
     ]
    },
    {
     "name": "stdout",
     "output_type": "stream",
     "text": [
      "p10022041/s56775341\n"
     ]
    },
    {
     "name": "stderr",
     "output_type": "stream",
     "text": [
      "79it [00:27,  2.97it/s]"
     ]
    },
    {
     "name": "stdout",
     "output_type": "stream",
     "text": [
      "p10022041/s56775341\n"
     ]
    },
    {
     "name": "stderr",
     "output_type": "stream",
     "text": [
      "80it [00:27,  2.96it/s]"
     ]
    },
    {
     "name": "stdout",
     "output_type": "stream",
     "text": [
      "p10023117/s52880779\n"
     ]
    },
    {
     "name": "stderr",
     "output_type": "stream",
     "text": [
      "81it [00:28,  3.00it/s]"
     ]
    },
    {
     "name": "stdout",
     "output_type": "stream",
     "text": [
      "p10023117/s53372543\n"
     ]
    },
    {
     "name": "stderr",
     "output_type": "stream",
     "text": [
      "82it [00:28,  2.95it/s]"
     ]
    },
    {
     "name": "stdout",
     "output_type": "stream",
     "text": [
      "p10023117/s54051348\n"
     ]
    },
    {
     "name": "stderr",
     "output_type": "stream",
     "text": [
      "83it [00:28,  2.90it/s]"
     ]
    },
    {
     "name": "stdout",
     "output_type": "stream",
     "text": [
      "p10023117/s54051348\n"
     ]
    },
    {
     "name": "stderr",
     "output_type": "stream",
     "text": [
      "84it [00:29,  2.96it/s]"
     ]
    },
    {
     "name": "stdout",
     "output_type": "stream",
     "text": [
      "p10023117/s54404075\n"
     ]
    },
    {
     "name": "stderr",
     "output_type": "stream",
     "text": [
      "85it [00:29,  2.87it/s]"
     ]
    },
    {
     "name": "stdout",
     "output_type": "stream",
     "text": [
      "p10023117/s56007252\n"
     ]
    },
    {
     "name": "stderr",
     "output_type": "stream",
     "text": [
      "86it [00:29,  2.92it/s]"
     ]
    },
    {
     "name": "stdout",
     "output_type": "stream",
     "text": [
      "p10024982/s50980427\n"
     ]
    },
    {
     "name": "stderr",
     "output_type": "stream",
     "text": [
      "87it [00:30,  2.97it/s]"
     ]
    },
    {
     "name": "stdout",
     "output_type": "stream",
     "text": [
      "p10024982/s52295645\n"
     ]
    },
    {
     "name": "stderr",
     "output_type": "stream",
     "text": [
      "88it [00:30,  2.91it/s]"
     ]
    },
    {
     "name": "stdout",
     "output_type": "stream",
     "text": [
      "p10024982/s54438313\n"
     ]
    },
    {
     "name": "stderr",
     "output_type": "stream",
     "text": [
      "89it [00:30,  2.87it/s]"
     ]
    },
    {
     "name": "stdout",
     "output_type": "stream",
     "text": [
      "p10024982/s54981300\n"
     ]
    },
    {
     "name": "stderr",
     "output_type": "stream",
     "text": [
      "90it [00:31,  2.81it/s]"
     ]
    },
    {
     "name": "stdout",
     "output_type": "stream",
     "text": [
      "p10024982/s57517987\n"
     ]
    },
    {
     "name": "stderr",
     "output_type": "stream",
     "text": [
      "91it [00:31,  2.84it/s]"
     ]
    },
    {
     "name": "stdout",
     "output_type": "stream",
     "text": [
      "p10024982/s57639867\n"
     ]
    },
    {
     "name": "stderr",
     "output_type": "stream",
     "text": [
      "92it [00:31,  2.90it/s]"
     ]
    },
    {
     "name": "stdout",
     "output_type": "stream",
     "text": [
      "p10024982/s58575944\n"
     ]
    },
    {
     "name": "stderr",
     "output_type": "stream",
     "text": [
      "93it [00:32,  2.97it/s]"
     ]
    },
    {
     "name": "stdout",
     "output_type": "stream",
     "text": [
      "p10024982/s58575944\n"
     ]
    },
    {
     "name": "stderr",
     "output_type": "stream",
     "text": [
      "94it [00:32,  2.99it/s]"
     ]
    },
    {
     "name": "stdout",
     "output_type": "stream",
     "text": [
      "p10025139/s50196457\n"
     ]
    },
    {
     "name": "stderr",
     "output_type": "stream",
     "text": [
      "95it [00:32,  3.03it/s]"
     ]
    },
    {
     "name": "stdout",
     "output_type": "stream",
     "text": [
      "p10031687/s56022717\n"
     ]
    },
    {
     "name": "stderr",
     "output_type": "stream",
     "text": [
      "96it [00:33,  2.94it/s]"
     ]
    },
    {
     "name": "stdout",
     "output_type": "stream",
     "text": [
      "p10033290/s53250799\n"
     ]
    },
    {
     "name": "stderr",
     "output_type": "stream",
     "text": [
      "97it [00:33,  2.96it/s]"
     ]
    },
    {
     "name": "stdout",
     "output_type": "stream",
     "text": [
      "p10039272/s50589184\n"
     ]
    },
    {
     "name": "stderr",
     "output_type": "stream",
     "text": [
      "98it [00:33,  3.08it/s]"
     ]
    },
    {
     "name": "stdout",
     "output_type": "stream",
     "text": [
      "p10039272/s50821222\n"
     ]
    },
    {
     "name": "stderr",
     "output_type": "stream",
     "text": [
      "99it [00:34,  3.07it/s]"
     ]
    },
    {
     "name": "stdout",
     "output_type": "stream",
     "text": [
      "p10039272/s56135137\n"
     ]
    },
    {
     "name": "stderr",
     "output_type": "stream",
     "text": [
      "100it [00:34,  2.89it/s]\n"
     ]
    },
    {
     "data": {
      "image/png": "[encoded data removed]",
      "text/plain": [
       "<Figure size 640x480 with 1 Axes>"
      ]
     },
     "metadata": {},
     "output_type": "display_data"
    }
   ],
   "source": [
    "generated_reports_txt_path = \"inference/generated_reports_run25.txt\"\n",
    "generated_reports = []\n",
    "ref_reports = []\n",
    "bert_score = evaluate.load(\"bertscore\")\n",
    "sentence_tokenizer = spacy.load(\"en_core_web_trf\")\n",
    "tokenizer = get_tokenizer()\n",
    "\n",
    "# if you encounter a spacy-related error, try upgrading spacy to version 3.5.3 and spacy-transformers to version 1.2.5\n",
    "# pip install -U spacy\n",
    "# pip install -U spacy-transformers\n",
    "\n",
    "for i, image_path in tqdm(enumerate(images_paths)):\n",
    "    print(ids[i])\n",
    "    image = cv2.imread(image_path, cv2.IMREAD_UNCHANGED)\n",
    "    image_tensor = get_image_tensor(image_path)  # shape (1, 1, 512, 512)\n",
    "    generated_report = get_report_for_image(model, image_tensor, tokenizer, bert_score, sentence_tokenizer)\n",
    "    generated_reports.append(generated_report)\n",
    "    with open(reports_paths[i]) as f:\n",
    "        ref_reports.append(f.read())\n",
    "\n",
    "#for i, image_path in tqdm(enumerate(images_paths)):\n",
    "    #show\n",
    "    if i ==1:\n",
    "        #plt.imshow(image_tensor.detach().cpu().numpy()[0][0])\n",
    "        plt.imshow(image, cmap='gray')\n",
    "        print(\"generated reports: \", generated_reports[i])\n",
    "        print(\"reference report: \", ref_reports[i])\n",
    "\n",
    "write_generated_reports_to_txt(images_paths, ref_reports, generated_reports, generated_reports_txt_path)"
   ]
  },
  {
   "cell_type": "code",
   "execution_count": 30,
   "metadata": {},
   "outputs": [
    {
     "data": {
      "text/plain": [
       "(-0.5, 1735.5, 2021.5, -0.5)"
      ]
     },
     "execution_count": 30,
     "metadata": {},
     "output_type": "execute_result"
    },
    {
     "data": {
      "image/png": "[encoded data removed]",
      "text/plain": [
       "<Figure size 640x480 with 1 Axes>"
      ]
     },
     "metadata": {},
     "output_type": "display_data"
    }
   ],
   "source": [
    "#load im\n",
    "\n",
    "path = \"/home/hermione/Documents/data/physionet.org/files/mimic-cxr-jpg/2.0.0/files/p10/p10032409/s55250890/35b006d3-53b9d561-d46bbbe3-69a82eaa-677f1241.jpg\"\n",
    "\n",
    "image = cv2.imread(path, cv2.IMREAD_UNCHANGED)\n",
    "plt.imshow(image, cmap='gray')\n",
    "plt.axis(\"off\")"
   ]
  },
  {
   "cell_type": "code",
   "execution_count": null,
   "metadata": {},
   "outputs": [],
   "source": []
  }
 ],
 "metadata": {
  "kernelspec": {
   "display_name": "rgrg2",
   "language": "python",
   "name": "python3"
  },
  "language_info": {
   "codemirror_mode": {
    "name": "ipython",
    "version": 3
   },
   "file_extension": ".py",
   "mimetype": "text/x-python",
   "name": "python",
   "nbconvert_exporter": "python",
   "pygments_lexer": "ipython3",
   "version": "3.11.3"
  },
  "orig_nbformat": 4
 },
 "nbformat": 4,
 "nbformat_minor": 2
}
