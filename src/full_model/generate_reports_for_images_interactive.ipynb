{
 "cells": [
  {
   "attachments": {},
   "cell_type": "markdown",
   "metadata": {},
   "source": [
    "# Generating reports from images inference interactive script"
   ]
  },
  {
   "cell_type": "code",
   "execution_count": 33,
   "metadata": {},
   "outputs": [
    {
     "name": "stdout",
     "output_type": "stream",
     "text": [
      "device:  cuda:1\n"
     ]
    }
   ],
   "source": [
    "from collections import defaultdict\n",
    "\n",
    "import albumentations as A\n",
    "import cv2\n",
    "import evaluate\n",
    "import spacy\n",
    "import torch\n",
    "from albumentations.pytorch import ToTensorV2\n",
    "from tqdm import tqdm\n",
    "import os\n",
    "import matplotlib.pyplot as plt\n",
    "\n",
    "import sys\n",
    "sys.path.append(\"/home/hermione/Documents/VLP/TUM/rgrg_pretrained/\")\n",
    "from src.full_model.report_generation_model import ReportGenerationModel\n",
    "from src.full_model.train_full_model import get_tokenizer\n",
    "\n",
    "cuda_device_to_see = 1\n",
    "os.environ['CUDA_VISIBLE_DEVICES'] = f'{cuda_device_to_see}'\n",
    "device = torch.device(f\"cuda:{cuda_device_to_see}\" if torch.cuda.is_available() else \"cpu\")\n",
    "torch.cuda.set_device(cuda_device_to_see)\n",
    "print(\"device: \", device)\n",
    "\n",
    "BERTSCORE_SIMILARITY_THRESHOLD = 0.9\n",
    "IMAGE_INPUT_SIZE = 512\n",
    "MAX_NUM_TOKENS_GENERATE = 300\n",
    "NUM_BEAMS = 4\n",
    "mean = 0.471  # see get_transforms in src/dataset/compute_mean_std_dataset.py\n",
    "std = 0.302"
   ]
  },
  {
   "cell_type": "code",
   "execution_count": 34,
   "metadata": {},
   "outputs": [],
   "source": [
    "def write_generated_reports_to_txt(images_paths, reports, generated_reports, generated_reports_txt_path):\n",
    "    with open(generated_reports_txt_path, \"w\") as f:\n",
    "        for image_path, ref, gen in zip(images_paths, reports, generated_reports):\n",
    "            f.write(f\"Image path: {image_path}\\n\")\n",
    "            f.write(f\"Generated report: {gen}\\n\\n\")\n",
    "            f.write(f\"reports: {ref}\\n\\n\")\n",
    "            f.write(\"=\" * 30)\n",
    "            f.write(\"\\n\\n\")"
   ]
  },
  {
   "cell_type": "code",
   "execution_count": 36,
   "metadata": {},
   "outputs": [],
   "source": [
    "def get_report_for_image(model, image_tensor, tokenizer, bert_score, sentence_tokenizer):\n",
    "    with torch.autocast(device_type=\"cuda\", dtype=torch.float16):\n",
    "        output = model.generate(\n",
    "            image_tensor.to(device, non_blocking=True),\n",
    "            max_length=MAX_NUM_TOKENS_GENERATE,\n",
    "            num_beams=NUM_BEAMS,\n",
    "            early_stopping=True,\n",
    "        )\n",
    "\n",
    "    beam_search_output = output\n",
    "\n",
    "    generated_sents_for_selected_regions = tokenizer.batch_decode(\n",
    "        beam_search_output, skip_special_tokens=True, clean_up_tokenization_spaces=True\n",
    "    )  # list[str]\n",
    "\n",
    "    \"\"\" generated_report = convert_generated_sentences_to_report(\n",
    "        generated_sents_for_selected_regions, bert_score, sentence_tokenizer\n",
    "    )   \"\"\"# str\n",
    "    generated_report = generated_sents_for_selected_regions\n",
    "    return generated_report\n",
    "\n",
    "\n",
    "def get_image_tensor(image_path):\n",
    "    # cv2.imread by default loads an image with 3 channels\n",
    "    # since we have grayscale images, we only have 1 channel and thus use cv2.IMREAD_UNCHANGED to read in the 1 channel\n",
    "    image = cv2.imread(image_path, cv2.IMREAD_UNCHANGED)  # shape (3056, 2544)\n",
    "\n",
    "    val_test_transforms = A.Compose(\n",
    "        [\n",
    "            A.LongestMaxSize(max_size=IMAGE_INPUT_SIZE, interpolation=cv2.INTER_AREA),\n",
    "            A.PadIfNeeded(min_height=IMAGE_INPUT_SIZE, min_width=IMAGE_INPUT_SIZE, border_mode=cv2.BORDER_CONSTANT),\n",
    "            A.Normalize(mean=mean, std=std),\n",
    "            ToTensorV2(),\n",
    "        ]\n",
    "    )\n",
    "\n",
    "    transform = val_test_transforms(image=image)\n",
    "    image_transformed = transform[\"image\"]  # shape (1, 512, 512)\n",
    "    image_transformed_batch = image_transformed.unsqueeze(0)  # shape (1, 1, 512, 512)\n",
    "\n",
    "    return image_transformed_batch\n",
    "\n",
    "def get_model(checkpoint_path):\n",
    "    checkpoint = torch.load(\n",
    "        checkpoint_path,\n",
    "        map_location=torch.device(\"cpu\"),\n",
    "    )\n",
    "\n",
    "    # if there is a key error when loading checkpoint, try uncommenting down below\n",
    "    # since depending on the torch version, the state dicts may be different\n",
    "    # checkpoint[\"model\"][\"object_detector.rpn.head.conv.weight\"] = checkpoint[\"model\"].pop(\"object_detector.rpn.head.conv.0.0.weight\")\n",
    "    # checkpoint[\"model\"][\"object_detector.rpn.head.conv.bias\"] = checkpoint[\"model\"].pop(\"object_detector.rpn.head.conv.0.0.bias\")\n",
    "    model = ReportGenerationModel(pretrain_without_lm_model=False)\n",
    "    model.load_state_dict(checkpoint[\"model\"])\n",
    "    model.to(device, non_blocking=False)\n",
    "    model.eval()\n",
    "\n",
    "    del checkpoint\n",
    "\n",
    "    return model\n"
   ]
  },
  {
   "cell_type": "code",
   "execution_count": 46,
   "metadata": {},
   "outputs": [
    {
     "name": "stdout",
     "output_type": "stream",
     "text": [
      "Model instantiated.\n"
     ]
    }
   ],
   "source": [
    "checkpoint_path = \"/home/hermione/Documents/VLP/TUM/rgrg_pretrained/src/runs/full_model/run_21/saved_checkpoint/checkpoint_val_loss_2.060_overall_steps_258410.pt\"\n",
    "checkpoint_path = \"/home/hermione/Documents/VLP/TUM/rgrg_pretrained/src/runs/full_model/run_20/checkpoints/checkpoint_val_loss_1.778_overall_steps_501150.pt\"\n",
    "checkpoint_path = \"/home/hermione/Documents/VLP/TUM/rgrg_pretrained/src/runs/full_model/run_22/checkpoints/checkpoint_val_loss_2.034_overall_steps_309551.pt\"\n",
    "model = get_model(checkpoint_path)\n",
    "\n",
    "print(\"Model instantiated.\")"
   ]
  },
  {
   "cell_type": "code",
   "execution_count": 45,
   "metadata": {},
   "outputs": [
    {
     "data": {
      "text/html": [
       "<div>\n",
       "<style scoped>\n",
       "    .dataframe tbody tr th:only-of-type {\n",
       "        vertical-align: middle;\n",
       "    }\n",
       "\n",
       "    .dataframe tbody tr th {\n",
       "        vertical-align: top;\n",
       "    }\n",
       "\n",
       "    .dataframe thead th {\n",
       "        text-align: right;\n",
       "    }\n",
       "</style>\n",
       "<table border=\"1\" class=\"dataframe\">\n",
       "  <thead>\n",
       "    <tr style=\"text-align: right;\">\n",
       "      <th></th>\n",
       "      <th>subject_id</th>\n",
       "      <th>study_id</th>\n",
       "      <th>image_id</th>\n",
       "      <th>mimic_image_file_path</th>\n",
       "      <th>reference_report</th>\n",
       "    </tr>\n",
       "  </thead>\n",
       "  <tbody>\n",
       "    <tr>\n",
       "      <th>0</th>\n",
       "      <td>10005866</td>\n",
       "      <td>56175428</td>\n",
       "      <td>5d612499-b20019dc-d3324174-33b669e4-95ced958</td>\n",
       "      <td>/home/hermione/Documents/data/physionet.org/fi...</td>\n",
       "      <td>Endotracheal tube tip is slightly low lying, t...</td>\n",
       "    </tr>\n",
       "    <tr>\n",
       "      <th>1</th>\n",
       "      <td>10010471</td>\n",
       "      <td>59553780</td>\n",
       "      <td>eb4d5fb1-e0d7593f-e0a93f00-fe6e05b7-6fa1fe1e</td>\n",
       "      <td>/home/hermione/Documents/data/physionet.org/fi...</td>\n",
       "      <td>There are moderate bilateral pleural effusions...</td>\n",
       "    </tr>\n",
       "    <tr>\n",
       "      <th>2</th>\n",
       "      <td>10013569</td>\n",
       "      <td>53407104</td>\n",
       "      <td>2bf1576a-cb1775c8-7235d1b9-91495ebc-f93e4a0a</td>\n",
       "      <td>/home/hermione/Documents/data/physionet.org/fi...</td>\n",
       "      <td>Single AP upright portable view of the chest w...</td>\n",
       "    </tr>\n",
       "    <tr>\n",
       "      <th>3</th>\n",
       "      <td>10013569</td>\n",
       "      <td>56197670</td>\n",
       "      <td>7930aea9-d0108eda-0487f13b-5d2680c4-bd93f369</td>\n",
       "      <td>/home/hermione/Documents/data/physionet.org/fi...</td>\n",
       "      <td>As compared to the previous radiograph, the Sw...</td>\n",
       "    </tr>\n",
       "    <tr>\n",
       "      <th>4</th>\n",
       "      <td>10013569</td>\n",
       "      <td>57151026</td>\n",
       "      <td>63af38ce-8915b633-19f3a00b-3d6fde60-675b3525</td>\n",
       "      <td>/home/hermione/Documents/data/physionet.org/fi...</td>\n",
       "      <td>Portable AP chest radiograph demonstrates a la...</td>\n",
       "    </tr>\n",
       "    <tr>\n",
       "      <th>...</th>\n",
       "      <td>...</td>\n",
       "      <td>...</td>\n",
       "      <td>...</td>\n",
       "      <td>...</td>\n",
       "      <td>...</td>\n",
       "    </tr>\n",
       "    <tr>\n",
       "      <th>2600</th>\n",
       "      <td>11939844</td>\n",
       "      <td>57642216</td>\n",
       "      <td>01214854-6fbde20f-61bb6743-043ee819-2115c3f5</td>\n",
       "      <td>/home/hermione/Documents/data/physionet.org/fi...</td>\n",
       "      <td>Single portable view of the chest. The lungs a...</td>\n",
       "    </tr>\n",
       "    <tr>\n",
       "      <th>2601</th>\n",
       "      <td>12098619</td>\n",
       "      <td>58272842</td>\n",
       "      <td>d45916d9-f581f3c1-9c66e129-6bc0e8be-369bce53</td>\n",
       "      <td>/home/hermione/Documents/data/physionet.org/fi...</td>\n",
       "      <td>AP view of the chest. There are low lung volum...</td>\n",
       "    </tr>\n",
       "    <tr>\n",
       "      <th>2602</th>\n",
       "      <td>12252135</td>\n",
       "      <td>52701608</td>\n",
       "      <td>46accdd1-652c0175-9aca6183-6caabf21-5537bc63</td>\n",
       "      <td>/home/hermione/Documents/data/physionet.org/fi...</td>\n",
       "      <td>Chest, PA and lateral. Lung volumes are low du...</td>\n",
       "    </tr>\n",
       "    <tr>\n",
       "      <th>2603</th>\n",
       "      <td>12252135</td>\n",
       "      <td>52701608</td>\n",
       "      <td>eb03675d-31525034-9f6cda2b-6a71a695-bffe1bf7</td>\n",
       "      <td>/home/hermione/Documents/data/physionet.org/fi...</td>\n",
       "      <td>Chest, PA and lateral. Lung volumes are low du...</td>\n",
       "    </tr>\n",
       "    <tr>\n",
       "      <th>2604</th>\n",
       "      <td>12744308</td>\n",
       "      <td>58286464</td>\n",
       "      <td>237ee106-ac4ef504-1abfb989-4a1107ba-8b9792ab</td>\n",
       "      <td>/home/hermione/Documents/data/physionet.org/fi...</td>\n",
       "      <td>Portable chest x-ray. The lungs are grossly cl...</td>\n",
       "    </tr>\n",
       "  </tbody>\n",
       "</table>\n",
       "<p>2605 rows × 5 columns</p>\n",
       "</div>"
      ],
      "text/plain": [
       "      subject_id  study_id                                      image_id  \\\n",
       "0       10005866  56175428  5d612499-b20019dc-d3324174-33b669e4-95ced958   \n",
       "1       10010471  59553780  eb4d5fb1-e0d7593f-e0a93f00-fe6e05b7-6fa1fe1e   \n",
       "2       10013569  53407104  2bf1576a-cb1775c8-7235d1b9-91495ebc-f93e4a0a   \n",
       "3       10013569  56197670  7930aea9-d0108eda-0487f13b-5d2680c4-bd93f369   \n",
       "4       10013569  57151026  63af38ce-8915b633-19f3a00b-3d6fde60-675b3525   \n",
       "...          ...       ...                                           ...   \n",
       "2600    11939844  57642216  01214854-6fbde20f-61bb6743-043ee819-2115c3f5   \n",
       "2601    12098619  58272842  d45916d9-f581f3c1-9c66e129-6bc0e8be-369bce53   \n",
       "2602    12252135  52701608  46accdd1-652c0175-9aca6183-6caabf21-5537bc63   \n",
       "2603    12252135  52701608  eb03675d-31525034-9f6cda2b-6a71a695-bffe1bf7   \n",
       "2604    12744308  58286464  237ee106-ac4ef504-1abfb989-4a1107ba-8b9792ab   \n",
       "\n",
       "                                  mimic_image_file_path  \\\n",
       "0     /home/hermione/Documents/data/physionet.org/fi...   \n",
       "1     /home/hermione/Documents/data/physionet.org/fi...   \n",
       "2     /home/hermione/Documents/data/physionet.org/fi...   \n",
       "3     /home/hermione/Documents/data/physionet.org/fi...   \n",
       "4     /home/hermione/Documents/data/physionet.org/fi...   \n",
       "...                                                 ...   \n",
       "2600  /home/hermione/Documents/data/physionet.org/fi...   \n",
       "2601  /home/hermione/Documents/data/physionet.org/fi...   \n",
       "2602  /home/hermione/Documents/data/physionet.org/fi...   \n",
       "2603  /home/hermione/Documents/data/physionet.org/fi...   \n",
       "2604  /home/hermione/Documents/data/physionet.org/fi...   \n",
       "\n",
       "                                       reference_report  \n",
       "0     Endotracheal tube tip is slightly low lying, t...  \n",
       "1     There are moderate bilateral pleural effusions...  \n",
       "2     Single AP upright portable view of the chest w...  \n",
       "3     As compared to the previous radiograph, the Sw...  \n",
       "4     Portable AP chest radiograph demonstrates a la...  \n",
       "...                                                 ...  \n",
       "2600  Single portable view of the chest. The lungs a...  \n",
       "2601  AP view of the chest. There are low lung volum...  \n",
       "2602  Chest, PA and lateral. Lung volumes are low du...  \n",
       "2603  Chest, PA and lateral. Lung volumes are low du...  \n",
       "2604  Portable chest x-ray. The lungs are grossly cl...  \n",
       "\n",
       "[2605 rows x 5 columns]"
      ]
     },
     "execution_count": 45,
     "metadata": {},
     "output_type": "execute_result"
    }
   ],
   "source": [
    "import pandas as pd\n",
    "#train_final.to_csv(\"/home/hermione/Documents/data/rgrg/dataset-with-reference-reports/train_subset.csv\",index=False)\n",
    "val_final = pd.read_csv(\"/home/hermione/Documents/data/rgrg/dataset-with-reference-reports/test.csv\")\n",
    "val_final = pd.read_csv(\"/home/hermione/Documents/data/rgrg/dataset-with-reference-reports/test_card_vs_PE.csv\")\n",
    "val_final"
   ]
  },
  {
   "cell_type": "code",
   "execution_count": 47,
   "metadata": {},
   "outputs": [
    {
     "name": "stdout",
     "output_type": "stream",
     "text": [
      "0    p10005866/s56175428\n",
      "1    p10010471/s59553780\n",
      "2    p10013569/s53407104\n",
      "3    p10013569/s56197670\n",
      "4    p10013569/s57151026\n",
      "dtype: object\n"
     ]
    }
   ],
   "source": [
    "#ids = [\"p10/p10001038/s58224503\",\"p10/p10002428/s54831516\"]\n",
    "#im_ids = [\"28fad2ac-d6001216-b4f72c5b-2d4d452e-17b6c9a5\", \"852306b6-02fc04aa-82d30dbf-0c2dd18d-5c9ef054\"]\n",
    "import os\n",
    "im_ids = val_final[\"image_id\"]\n",
    "ids = \"p\"+val_final[\"subject_id\"].astype(str) + os.sep +\"s\"+ val_final[\"study_id\"].astype(str)\n",
    "print(ids[:5])\n",
    "im_ids = list(im_ids[:100])\n",
    "ids = list(ids[:100])"
   ]
  },
  {
   "cell_type": "code",
   "execution_count": 48,
   "metadata": {},
   "outputs": [
    {
     "name": "stdout",
     "output_type": "stream",
     "text": [
      "['/home/hermione/Documents/data/physionet.org/files/mimic-cxr-jpg/2.0.0/files/p10/p10005866/s56175428/5d612499-b20019dc-d3324174-33b669e4-95ced958.jpg', '/home/hermione/Documents/data/physionet.org/files/mimic-cxr-jpg/2.0.0/files/p10/p10010471/s59553780/eb4d5fb1-e0d7593f-e0a93f00-fe6e05b7-6fa1fe1e.jpg', '/home/hermione/Documents/data/physionet.org/files/mimic-cxr-jpg/2.0.0/files/p10/p10013569/s53407104/2bf1576a-cb1775c8-7235d1b9-91495ebc-f93e4a0a.jpg', '/home/hermione/Documents/data/physionet.org/files/mimic-cxr-jpg/2.0.0/files/p10/p10013569/s56197670/7930aea9-d0108eda-0487f13b-5d2680c4-bd93f369.jpg', '/home/hermione/Documents/data/physionet.org/files/mimic-cxr-jpg/2.0.0/files/p10/p10013569/s57151026/63af38ce-8915b633-19f3a00b-3d6fde60-675b3525.jpg', '/home/hermione/Documents/data/physionet.org/files/mimic-cxr-jpg/2.0.0/files/p10/p10013569/s57874790/f1057fa6-32b37b7c-913c3d01-dcd710bc-b269dde8.jpg', '/home/hermione/Documents/data/physionet.org/files/mimic-cxr-jpg/2.0.0/files/p10/p10013643/s53841005/6e58e826-fc08e4ee-a9ff0245-34c6f4cd-cd0aedc8.jpg', '/home/hermione/Documents/data/physionet.org/files/mimic-cxr-jpg/2.0.0/files/p10/p10013643/s58785837/e8b05d45-d370fd48-169c82f6-bd62e3b2-cddb088a.jpg', '/home/hermione/Documents/data/physionet.org/files/mimic-cxr-jpg/2.0.0/files/p10/p10015860/s55513261/f0c210ea-5e0e0d9b-41b8ed0f-40c2d6b7-ce43ab41.jpg', '/home/hermione/Documents/data/physionet.org/files/mimic-cxr-jpg/2.0.0/files/p10/p10018081/s50515796/906744d3-04cbdaa9-9b97b8ff-e89b52d6-be2d0f35.jpg', '/home/hermione/Documents/data/physionet.org/files/mimic-cxr-jpg/2.0.0/files/p10/p10018081/s51219318/67bc22be-de23eb44-c1d8c7d2-e5995d1b-830e4b6c.jpg', '/home/hermione/Documents/data/physionet.org/files/mimic-cxr-jpg/2.0.0/files/p10/p10018081/s51961926/1a272650-c7bb1d54-fb49a01c-393ca949-98a46eb8.jpg', '/home/hermione/Documents/data/physionet.org/files/mimic-cxr-jpg/2.0.0/files/p10/p10018081/s52241060/cdbe7025-a6c2f7e1-24d55700-cba314f8-87e6933f.jpg', '/home/hermione/Documents/data/physionet.org/files/mimic-cxr-jpg/2.0.0/files/p10/p10018081/s52355329/43ec0e23-b79e4a31-a716d0d2-3fe3fd4d-3b9ed58d.jpg', '/home/hermione/Documents/data/physionet.org/files/mimic-cxr-jpg/2.0.0/files/p10/p10018081/s52355329/e3851a89-1799d9d7-47fbed9c-aba7a3bb-fbf6c4b0.jpg', '/home/hermione/Documents/data/physionet.org/files/mimic-cxr-jpg/2.0.0/files/p10/p10018081/s53262913/e9f4fdd0-5b92d018-7c82c76d-64009aeb-b5bac7c5.jpg', '/home/hermione/Documents/data/physionet.org/files/mimic-cxr-jpg/2.0.0/files/p10/p10018081/s55554731/2d1b65b0-2c6f077b-84e27662-22c28d76-3e221ce8.jpg', '/home/hermione/Documents/data/physionet.org/files/mimic-cxr-jpg/2.0.0/files/p10/p10018081/s55879987/9f90327e-07eb3eda-6ccf7786-943fb2a1-cdb23371.jpg', '/home/hermione/Documents/data/physionet.org/files/mimic-cxr-jpg/2.0.0/files/p10/p10018081/s55937781/73e5e678-beb66300-0f63cf16-364b65b7-0b83c9e2.jpg', '/home/hermione/Documents/data/physionet.org/files/mimic-cxr-jpg/2.0.0/files/p10/p10018081/s56942504/66b67252-000e4090-269c617a-1f7c366b-c07fbb46.jpg', '/home/hermione/Documents/data/physionet.org/files/mimic-cxr-jpg/2.0.0/files/p10/p10018081/s57481090/cc021e2e-2f33c795-a51f7169-04fb6297-47cd5005.jpg', '/home/hermione/Documents/data/physionet.org/files/mimic-cxr-jpg/2.0.0/files/p10/p10018081/s57486705/793aa654-02b298d3-f124bf20-fa76ab53-14a77431.jpg', '/home/hermione/Documents/data/physionet.org/files/mimic-cxr-jpg/2.0.0/files/p10/p10018081/s58175153/af3ba1ca-464d7dd4-6467929b-c1fbc4dc-5ec5a15a.jpg', '/home/hermione/Documents/data/physionet.org/files/mimic-cxr-jpg/2.0.0/files/p10/p10018081/s58479559/1042b51c-73d5b47e-017ec27b-b3006c43-1f1e643f.jpg', '/home/hermione/Documents/data/physionet.org/files/mimic-cxr-jpg/2.0.0/files/p10/p10018423/s50526690/fb8ae1e9-05e3a012-43e61b7b-fb157e12-8f82ecbf.jpg', '/home/hermione/Documents/data/physionet.org/files/mimic-cxr-jpg/2.0.0/files/p10/p10018423/s51545426/b7d461a7-0c62f988-6f183936-a5893d35-bb834eb2.jpg', '/home/hermione/Documents/data/physionet.org/files/mimic-cxr-jpg/2.0.0/files/p10/p10019385/s51044398/6ba6bf22-2e6da66c-6b5e0a42-bacdd946-582ce789.jpg', '/home/hermione/Documents/data/physionet.org/files/mimic-cxr-jpg/2.0.0/files/p10/p10019385/s55200571/ec57652d-415ec4ea-c342e27a-53cce3cc-f83ef7a9.jpg', '/home/hermione/Documents/data/physionet.org/files/mimic-cxr-jpg/2.0.0/files/p10/p10019517/s56621765/e41ae230-550023fa-242f79bf-02394236-6b64ef7e.jpg', '/home/hermione/Documents/data/physionet.org/files/mimic-cxr-jpg/2.0.0/files/p10/p10019777/s55627966/e0e33b4a-58d195f6-f41f12ca-8f76cfde-f2d522b3.jpg', '/home/hermione/Documents/data/physionet.org/files/mimic-cxr-jpg/2.0.0/files/p10/p10019777/s55627966/e3d959e3-4c8f2fd1-39988b94-3f54fcb2-51c106c7.jpg', '/home/hermione/Documents/data/physionet.org/files/mimic-cxr-jpg/2.0.0/files/p10/p10019777/s57883142/44712083-6ebbda14-6e11adaf-578d786c-b736804f.jpg', '/home/hermione/Documents/data/physionet.org/files/mimic-cxr-jpg/2.0.0/files/p10/p10020944/s53903006/d4f53982-983bf534-b0336324-401607cc-29dcd072.jpg', '/home/hermione/Documents/data/physionet.org/files/mimic-cxr-jpg/2.0.0/files/p10/p10020944/s53903006/f45513a8-ddb75ffe-60e6a485-aa2aa958-d92d6ce0.jpg', '/home/hermione/Documents/data/physionet.org/files/mimic-cxr-jpg/2.0.0/files/p10/p10020944/s54752011/160eaaa6-2a12172c-85c2052e-837581bf-869f69e8.jpg', '/home/hermione/Documents/data/physionet.org/files/mimic-cxr-jpg/2.0.0/files/p10/p10020944/s55858000/99394394-357480b9-feb41b0a-5f47fb5e-65139ce7.jpg', '/home/hermione/Documents/data/physionet.org/files/mimic-cxr-jpg/2.0.0/files/p10/p10020944/s59169950/0787ed84-e851cbae-821132e6-de3c1845-613e590f.jpg', '/home/hermione/Documents/data/physionet.org/files/mimic-cxr-jpg/2.0.0/files/p10/p10020944/s59602114/2e5c818d-40b1be7b-5ef9c428-6983cdf0-bfb8dbb0.jpg', '/home/hermione/Documents/data/physionet.org/files/mimic-cxr-jpg/2.0.0/files/p10/p10020944/s59618738/20b1b75a-cb66a445-f1d0da82-144e0c02-0d8b4fa5.jpg', '/home/hermione/Documents/data/physionet.org/files/mimic-cxr-jpg/2.0.0/files/p10/p10021487/s50316375/247d6722-c9edd24c-4566f541-3c51a14b-421ddb93.jpg', '/home/hermione/Documents/data/physionet.org/files/mimic-cxr-jpg/2.0.0/files/p10/p10021487/s50316375/dbd5e32e-550bcc39-c1cf82c8-a475d285-1fcf2887.jpg', '/home/hermione/Documents/data/physionet.org/files/mimic-cxr-jpg/2.0.0/files/p10/p10021487/s50763544/db3d3e1f-bf54356f-97058137-f7012e09-fdd1716f.jpg', '/home/hermione/Documents/data/physionet.org/files/mimic-cxr-jpg/2.0.0/files/p10/p10021487/s52487989/434a58ad-d035720e-c1d755b9-215f038c-43ac737b.jpg', '/home/hermione/Documents/data/physionet.org/files/mimic-cxr-jpg/2.0.0/files/p10/p10021487/s52512958/7a9d9bed-499b84ef-282587f0-7beb2404-f5f9f1d6.jpg', '/home/hermione/Documents/data/physionet.org/files/mimic-cxr-jpg/2.0.0/files/p10/p10021487/s53109949/ee7287c9-969bff42-1519469b-1e4372f7-f8f86cfe.jpg', '/home/hermione/Documents/data/physionet.org/files/mimic-cxr-jpg/2.0.0/files/p10/p10021487/s53139340/d7db2133-ada2333e-2e572dee-874e7484-bf06f86b.jpg', '/home/hermione/Documents/data/physionet.org/files/mimic-cxr-jpg/2.0.0/files/p10/p10021487/s54626295/05208944-8e9ce46d-90f6f03d-f687c8e5-de0044d8.jpg', '/home/hermione/Documents/data/physionet.org/files/mimic-cxr-jpg/2.0.0/files/p10/p10021487/s55681272/cd4ac979-ce417d3e-37b3ee82-e1e3deac-b6a91fe5.jpg', '/home/hermione/Documents/data/physionet.org/files/mimic-cxr-jpg/2.0.0/files/p10/p10021487/s57174722/a83cbc15-9f45869b-3a99d499-07a3276d-4a96b453.jpg', '/home/hermione/Documents/data/physionet.org/files/mimic-cxr-jpg/2.0.0/files/p10/p10021487/s57544796/b9b552e6-4e319be2-4d1102d1-c89b2ff8-d21f0e82.jpg', '/home/hermione/Documents/data/physionet.org/files/mimic-cxr-jpg/2.0.0/files/p10/p10021487/s57861581/a3692227-7756b781-f9053e7a-563a314a-8578964d.jpg', '/home/hermione/Documents/data/physionet.org/files/mimic-cxr-jpg/2.0.0/files/p10/p10021487/s58098754/be7a6119-ada34607-44a15883-f2dc1723-e27ace37.jpg', '/home/hermione/Documents/data/physionet.org/files/mimic-cxr-jpg/2.0.0/files/p10/p10021487/s59671735/4483cc52-27eb44e8-3b4d1b59-1bd4039c-f6f29423.jpg', '/home/hermione/Documents/data/physionet.org/files/mimic-cxr-jpg/2.0.0/files/p10/p10021487/s59671735/ddc47471-94c7b59c-b7dcd54a-0ecf3cfd-339563ee.jpg', '/home/hermione/Documents/data/physionet.org/files/mimic-cxr-jpg/2.0.0/files/p10/p10026255/s50395086/1b40b359-f117c278-09d3ae57-cc779db7-506cc568.jpg', '/home/hermione/Documents/data/physionet.org/files/mimic-cxr-jpg/2.0.0/files/p10/p10026255/s50395086/6972d944-9c4ff208-e74d9592-0cef5cb2-2583bbdf.jpg', '/home/hermione/Documents/data/physionet.org/files/mimic-cxr-jpg/2.0.0/files/p10/p10026255/s50617488/ad544646-49099913-259d0083-58d5da8f-ce10235d.jpg', '/home/hermione/Documents/data/physionet.org/files/mimic-cxr-jpg/2.0.0/files/p10/p10026255/s57824622/c29320a7-dc1b4175-ea373549-5304bb54-54587c85.jpg', '/home/hermione/Documents/data/physionet.org/files/mimic-cxr-jpg/2.0.0/files/p10/p10028480/s52781231/f4d85d2d-754648de-3f1b90a9-b6d98a97-dcd0367f.jpg', '/home/hermione/Documents/data/physionet.org/files/mimic-cxr-jpg/2.0.0/files/p10/p10029106/s55861994/49a95453-2007da91-29f0b1b7-43b27aae-ba9469d3.jpg', '/home/hermione/Documents/data/physionet.org/files/mimic-cxr-jpg/2.0.0/files/p10/p10029291/s52115281/f54633d1-480972a2-7841a264-4f148912-55b9bd2b.jpg', '/home/hermione/Documents/data/physionet.org/files/mimic-cxr-jpg/2.0.0/files/p10/p10030753/s53034862/4ca30812-66223a45-eb9a1cff-e12e4f0c-284d5b0b.jpg', '/home/hermione/Documents/data/physionet.org/files/mimic-cxr-jpg/2.0.0/files/p10/p10038999/s50971552/1fa9e818-e87b1da0-a236c55f-2b940f25-eb8769bd.jpg', '/home/hermione/Documents/data/physionet.org/files/mimic-cxr-jpg/2.0.0/files/p10/p10038999/s51760120/d2f96e60-1e980173-cc6267fc-9a5ff2f3-a72e002d.jpg', '/home/hermione/Documents/data/physionet.org/files/mimic-cxr-jpg/2.0.0/files/p10/p10039360/s53999249/6b2e134c-da7d94d2-61b74f39-a0149009-edcd3e02.jpg', '/home/hermione/Documents/data/physionet.org/files/mimic-cxr-jpg/2.0.0/files/p10/p10041408/s54849524/e57f6229-5940c409-841863b4-45240c0e-18414502.jpg', '/home/hermione/Documents/data/physionet.org/files/mimic-cxr-jpg/2.0.0/files/p10/p10041408/s58489475/594f43de-f4a838a7-bb1228c9-84e791b7-9bd751f6.jpg', '/home/hermione/Documents/data/physionet.org/files/mimic-cxr-jpg/2.0.0/files/p10/p10042769/s59055102/ef53d81b-161186ba-9bd81b0d-2332180d-9fb05c76.jpg', '/home/hermione/Documents/data/physionet.org/files/mimic-cxr-jpg/2.0.0/files/p10/p10049334/s54625686/365c3964-761866ac-ee60c75f-841205cc-0f738530.jpg', '/home/hermione/Documents/data/physionet.org/files/mimic-cxr-jpg/2.0.0/files/p10/p10049897/s52851881/a8e8f831-f34a9649-38a2c766-f544217c-9af05cea.jpg', '/home/hermione/Documents/data/physionet.org/files/mimic-cxr-jpg/2.0.0/files/p10/p10052926/s56799999/188bbe4f-2bba8049-050d1ccb-d41d47fa-56d3eb0e.jpg', '/home/hermione/Documents/data/physionet.org/files/mimic-cxr-jpg/2.0.0/files/p10/p10052992/s51784751/9723b24d-542071ec-ecf6f74c-b76e5fb4-c574828a.jpg', '/home/hermione/Documents/data/physionet.org/files/mimic-cxr-jpg/2.0.0/files/p10/p10054639/s58535890/636d0753-8da5e709-dfe9a15b-108c7a57-4bb4fc94.jpg', '/home/hermione/Documents/data/physionet.org/files/mimic-cxr-jpg/2.0.0/files/p10/p10060142/s56946673/27bdfa7d-83f1df3d-6beb8bf4-74bf14b6-08e729d8.jpg', '/home/hermione/Documents/data/physionet.org/files/mimic-cxr-jpg/2.0.0/files/p10/p10062020/s55700573/1edaea22-f6c9cbad-c824fa0a-4b169775-dba21c77.jpg', '/home/hermione/Documents/data/physionet.org/files/mimic-cxr-jpg/2.0.0/files/p10/p10062020/s55700573/a66d5d78-5dd150f3-775fa37e-b58b34c7-995ec89d.jpg', '/home/hermione/Documents/data/physionet.org/files/mimic-cxr-jpg/2.0.0/files/p10/p10062020/s58128787/9c18ce80-0a62dcdc-20e344bd-bd705803-d2c5c554.jpg', '/home/hermione/Documents/data/physionet.org/files/mimic-cxr-jpg/2.0.0/files/p10/p10069423/s55700778/20ec92a1-43c132e3-b834b133-98b52e8f-ef88be5e.jpg', '/home/hermione/Documents/data/physionet.org/files/mimic-cxr-jpg/2.0.0/files/p10/p10069423/s59981182/0401a3a1-7a65f8d7-e2b00c82-0763edca-d7c6bd93.jpg', '/home/hermione/Documents/data/physionet.org/files/mimic-cxr-jpg/2.0.0/files/p10/p10072153/s52900702/6743f944-0d5253ca-c6564a3e-84ae7928-9b90e448.jpg', '/home/hermione/Documents/data/physionet.org/files/mimic-cxr-jpg/2.0.0/files/p10/p10072153/s52900702/7f8e0a26-45a960d6-3b04f74b-a8283d6a-32adaf7f.jpg', '/home/hermione/Documents/data/physionet.org/files/mimic-cxr-jpg/2.0.0/files/p10/p10072153/s55066102/b901e2be-f884fd8a-022090d6-08aa2419-2301456a.jpg', '/home/hermione/Documents/data/physionet.org/files/mimic-cxr-jpg/2.0.0/files/p10/p10072153/s59129101/7c490255-356ce12c-24dbca54-e6dd88b9-b65dc16d.jpg', '/home/hermione/Documents/data/physionet.org/files/mimic-cxr-jpg/2.0.0/files/p10/p10075002/s56977907/b49ba346-71f5a3ac-9bb7e475-ffce92fa-7931b7f6.jpg', '/home/hermione/Documents/data/physionet.org/files/mimic-cxr-jpg/2.0.0/files/p10/p10075925/s51010496/2d783c8a-492984b7-28aaf571-bfc30156-61ab26f6.jpg', '/home/hermione/Documents/data/physionet.org/files/mimic-cxr-jpg/2.0.0/files/p10/p10076526/s53465958/8267c783-a060c8eb-5555d11c-f2c358e7-56b394b9.jpg', '/home/hermione/Documents/data/physionet.org/files/mimic-cxr-jpg/2.0.0/files/p10/p10076526/s54880968/40c7c04e-abfd0ddb-8b54da20-c64a3f3d-243483df.jpg', '/home/hermione/Documents/data/physionet.org/files/mimic-cxr-jpg/2.0.0/files/p10/p10076526/s56817357/a9056c38-38d0ec50-804fa9bb-ccda26fa-7658a3c4.jpg', '/home/hermione/Documents/data/physionet.org/files/mimic-cxr-jpg/2.0.0/files/p10/p10076616/s51437161/96c442df-f6f4b2ba-9f54b34d-985740c4-f5871169.jpg', '/home/hermione/Documents/data/physionet.org/files/mimic-cxr-jpg/2.0.0/files/p10/p10080961/s58001323/5d3c8282-f81779ea-71d41c9e-9c4308a8-122dbe54.jpg', '/home/hermione/Documents/data/physionet.org/files/mimic-cxr-jpg/2.0.0/files/p10/p10081891/s56639766/3dfdaa3b-a1532010-731d6b5d-0048bac5-731cdd39.jpg', '/home/hermione/Documents/data/physionet.org/files/mimic-cxr-jpg/2.0.0/files/p10/p10081891/s58454343/371e8689-d0512fe0-553edd0a-6ee7c3f9-e7fd0a8e.jpg', '/home/hermione/Documents/data/physionet.org/files/mimic-cxr-jpg/2.0.0/files/p10/p10088966/s54520029/37e43dbf-ee04ac48-c3a6f163-934efb17-7a171f5c.jpg', '/home/hermione/Documents/data/physionet.org/files/mimic-cxr-jpg/2.0.0/files/p10/p10088966/s56032947/ee08ec1c-18549e04-783e1f9d-64adf267-8f77232f.jpg', '/home/hermione/Documents/data/physionet.org/files/mimic-cxr-jpg/2.0.0/files/p10/p10094107/s52616515/4254cf41-62a7725b-6f185316-581f9fbc-f22f1ace.jpg', '/home/hermione/Documents/data/physionet.org/files/mimic-cxr-jpg/2.0.0/files/p10/p10094582/s57503344/6bc7142b-48d2307b-3185975d-b7f4b25f-23fc8266.jpg', '/home/hermione/Documents/data/physionet.org/files/mimic-cxr-jpg/2.0.0/files/p10/p10097612/s51532014/fb1f372a-465d7622-6c0c9d9a-732f9f44-47534bea.jpg', '/home/hermione/Documents/data/physionet.org/files/mimic-cxr-jpg/2.0.0/files/p10/p10097612/s51968731/293fca34-b49ffe0f-52f4185e-1dd82a6a-7976d653.jpg', '/home/hermione/Documents/data/physionet.org/files/mimic-cxr-jpg/2.0.0/files/p10/p10097612/s55662521/281667f2-e304c8e8-379f0ac0-095dc24e-d4a78e00.jpg', '/home/hermione/Documents/data/physionet.org/files/mimic-cxr-jpg/2.0.0/files/p10/p10097612/s56461207/fa4aa8ac-ccad1c01-2c21fc31-cba9a55b-02329b68.jpg']\n",
      "['/home/hermione/Documents/data/physionet.org/files/mimic-cxr/2.0.0/mimic-cxr-reports/files/p10/p10005866/s56175428.txt', '/home/hermione/Documents/data/physionet.org/files/mimic-cxr/2.0.0/mimic-cxr-reports/files/p10/p10010471/s59553780.txt', '/home/hermione/Documents/data/physionet.org/files/mimic-cxr/2.0.0/mimic-cxr-reports/files/p10/p10013569/s53407104.txt', '/home/hermione/Documents/data/physionet.org/files/mimic-cxr/2.0.0/mimic-cxr-reports/files/p10/p10013569/s56197670.txt', '/home/hermione/Documents/data/physionet.org/files/mimic-cxr/2.0.0/mimic-cxr-reports/files/p10/p10013569/s57151026.txt', '/home/hermione/Documents/data/physionet.org/files/mimic-cxr/2.0.0/mimic-cxr-reports/files/p10/p10013569/s57874790.txt', '/home/hermione/Documents/data/physionet.org/files/mimic-cxr/2.0.0/mimic-cxr-reports/files/p10/p10013643/s53841005.txt', '/home/hermione/Documents/data/physionet.org/files/mimic-cxr/2.0.0/mimic-cxr-reports/files/p10/p10013643/s58785837.txt', '/home/hermione/Documents/data/physionet.org/files/mimic-cxr/2.0.0/mimic-cxr-reports/files/p10/p10015860/s55513261.txt', '/home/hermione/Documents/data/physionet.org/files/mimic-cxr/2.0.0/mimic-cxr-reports/files/p10/p10018081/s50515796.txt', '/home/hermione/Documents/data/physionet.org/files/mimic-cxr/2.0.0/mimic-cxr-reports/files/p10/p10018081/s51219318.txt', '/home/hermione/Documents/data/physionet.org/files/mimic-cxr/2.0.0/mimic-cxr-reports/files/p10/p10018081/s51961926.txt', '/home/hermione/Documents/data/physionet.org/files/mimic-cxr/2.0.0/mimic-cxr-reports/files/p10/p10018081/s52241060.txt', '/home/hermione/Documents/data/physionet.org/files/mimic-cxr/2.0.0/mimic-cxr-reports/files/p10/p10018081/s52355329.txt', '/home/hermione/Documents/data/physionet.org/files/mimic-cxr/2.0.0/mimic-cxr-reports/files/p10/p10018081/s52355329.txt', '/home/hermione/Documents/data/physionet.org/files/mimic-cxr/2.0.0/mimic-cxr-reports/files/p10/p10018081/s53262913.txt', '/home/hermione/Documents/data/physionet.org/files/mimic-cxr/2.0.0/mimic-cxr-reports/files/p10/p10018081/s55554731.txt', '/home/hermione/Documents/data/physionet.org/files/mimic-cxr/2.0.0/mimic-cxr-reports/files/p10/p10018081/s55879987.txt', '/home/hermione/Documents/data/physionet.org/files/mimic-cxr/2.0.0/mimic-cxr-reports/files/p10/p10018081/s55937781.txt', '/home/hermione/Documents/data/physionet.org/files/mimic-cxr/2.0.0/mimic-cxr-reports/files/p10/p10018081/s56942504.txt', '/home/hermione/Documents/data/physionet.org/files/mimic-cxr/2.0.0/mimic-cxr-reports/files/p10/p10018081/s57481090.txt', '/home/hermione/Documents/data/physionet.org/files/mimic-cxr/2.0.0/mimic-cxr-reports/files/p10/p10018081/s57486705.txt', '/home/hermione/Documents/data/physionet.org/files/mimic-cxr/2.0.0/mimic-cxr-reports/files/p10/p10018081/s58175153.txt', '/home/hermione/Documents/data/physionet.org/files/mimic-cxr/2.0.0/mimic-cxr-reports/files/p10/p10018081/s58479559.txt', '/home/hermione/Documents/data/physionet.org/files/mimic-cxr/2.0.0/mimic-cxr-reports/files/p10/p10018423/s50526690.txt', '/home/hermione/Documents/data/physionet.org/files/mimic-cxr/2.0.0/mimic-cxr-reports/files/p10/p10018423/s51545426.txt', '/home/hermione/Documents/data/physionet.org/files/mimic-cxr/2.0.0/mimic-cxr-reports/files/p10/p10019385/s51044398.txt', '/home/hermione/Documents/data/physionet.org/files/mimic-cxr/2.0.0/mimic-cxr-reports/files/p10/p10019385/s55200571.txt', '/home/hermione/Documents/data/physionet.org/files/mimic-cxr/2.0.0/mimic-cxr-reports/files/p10/p10019517/s56621765.txt', '/home/hermione/Documents/data/physionet.org/files/mimic-cxr/2.0.0/mimic-cxr-reports/files/p10/p10019777/s55627966.txt', '/home/hermione/Documents/data/physionet.org/files/mimic-cxr/2.0.0/mimic-cxr-reports/files/p10/p10019777/s55627966.txt', '/home/hermione/Documents/data/physionet.org/files/mimic-cxr/2.0.0/mimic-cxr-reports/files/p10/p10019777/s57883142.txt', '/home/hermione/Documents/data/physionet.org/files/mimic-cxr/2.0.0/mimic-cxr-reports/files/p10/p10020944/s53903006.txt', '/home/hermione/Documents/data/physionet.org/files/mimic-cxr/2.0.0/mimic-cxr-reports/files/p10/p10020944/s53903006.txt', '/home/hermione/Documents/data/physionet.org/files/mimic-cxr/2.0.0/mimic-cxr-reports/files/p10/p10020944/s54752011.txt', '/home/hermione/Documents/data/physionet.org/files/mimic-cxr/2.0.0/mimic-cxr-reports/files/p10/p10020944/s55858000.txt', '/home/hermione/Documents/data/physionet.org/files/mimic-cxr/2.0.0/mimic-cxr-reports/files/p10/p10020944/s59169950.txt', '/home/hermione/Documents/data/physionet.org/files/mimic-cxr/2.0.0/mimic-cxr-reports/files/p10/p10020944/s59602114.txt', '/home/hermione/Documents/data/physionet.org/files/mimic-cxr/2.0.0/mimic-cxr-reports/files/p10/p10020944/s59618738.txt', '/home/hermione/Documents/data/physionet.org/files/mimic-cxr/2.0.0/mimic-cxr-reports/files/p10/p10021487/s50316375.txt', '/home/hermione/Documents/data/physionet.org/files/mimic-cxr/2.0.0/mimic-cxr-reports/files/p10/p10021487/s50316375.txt', '/home/hermione/Documents/data/physionet.org/files/mimic-cxr/2.0.0/mimic-cxr-reports/files/p10/p10021487/s50763544.txt', '/home/hermione/Documents/data/physionet.org/files/mimic-cxr/2.0.0/mimic-cxr-reports/files/p10/p10021487/s52487989.txt', '/home/hermione/Documents/data/physionet.org/files/mimic-cxr/2.0.0/mimic-cxr-reports/files/p10/p10021487/s52512958.txt', '/home/hermione/Documents/data/physionet.org/files/mimic-cxr/2.0.0/mimic-cxr-reports/files/p10/p10021487/s53109949.txt', '/home/hermione/Documents/data/physionet.org/files/mimic-cxr/2.0.0/mimic-cxr-reports/files/p10/p10021487/s53139340.txt', '/home/hermione/Documents/data/physionet.org/files/mimic-cxr/2.0.0/mimic-cxr-reports/files/p10/p10021487/s54626295.txt', '/home/hermione/Documents/data/physionet.org/files/mimic-cxr/2.0.0/mimic-cxr-reports/files/p10/p10021487/s55681272.txt', '/home/hermione/Documents/data/physionet.org/files/mimic-cxr/2.0.0/mimic-cxr-reports/files/p10/p10021487/s57174722.txt', '/home/hermione/Documents/data/physionet.org/files/mimic-cxr/2.0.0/mimic-cxr-reports/files/p10/p10021487/s57544796.txt', '/home/hermione/Documents/data/physionet.org/files/mimic-cxr/2.0.0/mimic-cxr-reports/files/p10/p10021487/s57861581.txt', '/home/hermione/Documents/data/physionet.org/files/mimic-cxr/2.0.0/mimic-cxr-reports/files/p10/p10021487/s58098754.txt', '/home/hermione/Documents/data/physionet.org/files/mimic-cxr/2.0.0/mimic-cxr-reports/files/p10/p10021487/s59671735.txt', '/home/hermione/Documents/data/physionet.org/files/mimic-cxr/2.0.0/mimic-cxr-reports/files/p10/p10021487/s59671735.txt', '/home/hermione/Documents/data/physionet.org/files/mimic-cxr/2.0.0/mimic-cxr-reports/files/p10/p10026255/s50395086.txt', '/home/hermione/Documents/data/physionet.org/files/mimic-cxr/2.0.0/mimic-cxr-reports/files/p10/p10026255/s50395086.txt', '/home/hermione/Documents/data/physionet.org/files/mimic-cxr/2.0.0/mimic-cxr-reports/files/p10/p10026255/s50617488.txt', '/home/hermione/Documents/data/physionet.org/files/mimic-cxr/2.0.0/mimic-cxr-reports/files/p10/p10026255/s57824622.txt', '/home/hermione/Documents/data/physionet.org/files/mimic-cxr/2.0.0/mimic-cxr-reports/files/p10/p10028480/s52781231.txt', '/home/hermione/Documents/data/physionet.org/files/mimic-cxr/2.0.0/mimic-cxr-reports/files/p10/p10029106/s55861994.txt', '/home/hermione/Documents/data/physionet.org/files/mimic-cxr/2.0.0/mimic-cxr-reports/files/p10/p10029291/s52115281.txt', '/home/hermione/Documents/data/physionet.org/files/mimic-cxr/2.0.0/mimic-cxr-reports/files/p10/p10030753/s53034862.txt', '/home/hermione/Documents/data/physionet.org/files/mimic-cxr/2.0.0/mimic-cxr-reports/files/p10/p10038999/s50971552.txt', '/home/hermione/Documents/data/physionet.org/files/mimic-cxr/2.0.0/mimic-cxr-reports/files/p10/p10038999/s51760120.txt', '/home/hermione/Documents/data/physionet.org/files/mimic-cxr/2.0.0/mimic-cxr-reports/files/p10/p10039360/s53999249.txt', '/home/hermione/Documents/data/physionet.org/files/mimic-cxr/2.0.0/mimic-cxr-reports/files/p10/p10041408/s54849524.txt', '/home/hermione/Documents/data/physionet.org/files/mimic-cxr/2.0.0/mimic-cxr-reports/files/p10/p10041408/s58489475.txt', '/home/hermione/Documents/data/physionet.org/files/mimic-cxr/2.0.0/mimic-cxr-reports/files/p10/p10042769/s59055102.txt', '/home/hermione/Documents/data/physionet.org/files/mimic-cxr/2.0.0/mimic-cxr-reports/files/p10/p10049334/s54625686.txt', '/home/hermione/Documents/data/physionet.org/files/mimic-cxr/2.0.0/mimic-cxr-reports/files/p10/p10049897/s52851881.txt', '/home/hermione/Documents/data/physionet.org/files/mimic-cxr/2.0.0/mimic-cxr-reports/files/p10/p10052926/s56799999.txt', '/home/hermione/Documents/data/physionet.org/files/mimic-cxr/2.0.0/mimic-cxr-reports/files/p10/p10052992/s51784751.txt', '/home/hermione/Documents/data/physionet.org/files/mimic-cxr/2.0.0/mimic-cxr-reports/files/p10/p10054639/s58535890.txt', '/home/hermione/Documents/data/physionet.org/files/mimic-cxr/2.0.0/mimic-cxr-reports/files/p10/p10060142/s56946673.txt', '/home/hermione/Documents/data/physionet.org/files/mimic-cxr/2.0.0/mimic-cxr-reports/files/p10/p10062020/s55700573.txt', '/home/hermione/Documents/data/physionet.org/files/mimic-cxr/2.0.0/mimic-cxr-reports/files/p10/p10062020/s55700573.txt', '/home/hermione/Documents/data/physionet.org/files/mimic-cxr/2.0.0/mimic-cxr-reports/files/p10/p10062020/s58128787.txt', '/home/hermione/Documents/data/physionet.org/files/mimic-cxr/2.0.0/mimic-cxr-reports/files/p10/p10069423/s55700778.txt', '/home/hermione/Documents/data/physionet.org/files/mimic-cxr/2.0.0/mimic-cxr-reports/files/p10/p10069423/s59981182.txt', '/home/hermione/Documents/data/physionet.org/files/mimic-cxr/2.0.0/mimic-cxr-reports/files/p10/p10072153/s52900702.txt', '/home/hermione/Documents/data/physionet.org/files/mimic-cxr/2.0.0/mimic-cxr-reports/files/p10/p10072153/s52900702.txt', '/home/hermione/Documents/data/physionet.org/files/mimic-cxr/2.0.0/mimic-cxr-reports/files/p10/p10072153/s55066102.txt', '/home/hermione/Documents/data/physionet.org/files/mimic-cxr/2.0.0/mimic-cxr-reports/files/p10/p10072153/s59129101.txt', '/home/hermione/Documents/data/physionet.org/files/mimic-cxr/2.0.0/mimic-cxr-reports/files/p10/p10075002/s56977907.txt', '/home/hermione/Documents/data/physionet.org/files/mimic-cxr/2.0.0/mimic-cxr-reports/files/p10/p10075925/s51010496.txt', '/home/hermione/Documents/data/physionet.org/files/mimic-cxr/2.0.0/mimic-cxr-reports/files/p10/p10076526/s53465958.txt', '/home/hermione/Documents/data/physionet.org/files/mimic-cxr/2.0.0/mimic-cxr-reports/files/p10/p10076526/s54880968.txt', '/home/hermione/Documents/data/physionet.org/files/mimic-cxr/2.0.0/mimic-cxr-reports/files/p10/p10076526/s56817357.txt', '/home/hermione/Documents/data/physionet.org/files/mimic-cxr/2.0.0/mimic-cxr-reports/files/p10/p10076616/s51437161.txt', '/home/hermione/Documents/data/physionet.org/files/mimic-cxr/2.0.0/mimic-cxr-reports/files/p10/p10080961/s58001323.txt', '/home/hermione/Documents/data/physionet.org/files/mimic-cxr/2.0.0/mimic-cxr-reports/files/p10/p10081891/s56639766.txt', '/home/hermione/Documents/data/physionet.org/files/mimic-cxr/2.0.0/mimic-cxr-reports/files/p10/p10081891/s58454343.txt', '/home/hermione/Documents/data/physionet.org/files/mimic-cxr/2.0.0/mimic-cxr-reports/files/p10/p10088966/s54520029.txt', '/home/hermione/Documents/data/physionet.org/files/mimic-cxr/2.0.0/mimic-cxr-reports/files/p10/p10088966/s56032947.txt', '/home/hermione/Documents/data/physionet.org/files/mimic-cxr/2.0.0/mimic-cxr-reports/files/p10/p10094107/s52616515.txt', '/home/hermione/Documents/data/physionet.org/files/mimic-cxr/2.0.0/mimic-cxr-reports/files/p10/p10094582/s57503344.txt', '/home/hermione/Documents/data/physionet.org/files/mimic-cxr/2.0.0/mimic-cxr-reports/files/p10/p10097612/s51532014.txt', '/home/hermione/Documents/data/physionet.org/files/mimic-cxr/2.0.0/mimic-cxr-reports/files/p10/p10097612/s51968731.txt', '/home/hermione/Documents/data/physionet.org/files/mimic-cxr/2.0.0/mimic-cxr-reports/files/p10/p10097612/s55662521.txt', '/home/hermione/Documents/data/physionet.org/files/mimic-cxr/2.0.0/mimic-cxr-reports/files/p10/p10097612/s56461207.txt']\n"
     ]
    }
   ],
   "source": [
    "\n",
    "# paths to the images that we want to generate reports for\n",
    "images_paths = []\n",
    "reports_paths = []\n",
    "for n,i in enumerate(ids):\n",
    "    images_paths.append(f\"/home/hermione/Documents/data/physionet.org/files/mimic-cxr-jpg/2.0.0/files/p10/{i}/{im_ids[n]}.jpg\")\n",
    "    reports_paths.append(f\"/home/hermione/Documents/data/physionet.org/files/mimic-cxr/2.0.0/mimic-cxr-reports/files/p10/{i}.txt\")\n",
    "\n",
    "print(images_paths)\n",
    "print(reports_paths)"
   ]
  },
  {
   "cell_type": "code",
   "execution_count": 49,
   "metadata": {},
   "outputs": [
    {
     "name": "stderr",
     "output_type": "stream",
     "text": [
      "0it [00:00, ?it/s]"
     ]
    },
    {
     "name": "stdout",
     "output_type": "stream",
     "text": [
      "p10005866/s56175428\n"
     ]
    },
    {
     "name": "stderr",
     "output_type": "stream",
     "text": [
      "1it [00:01,  1.03s/it]"
     ]
    },
    {
     "name": "stdout",
     "output_type": "stream",
     "text": [
      "p10010471/s59553780\n"
     ]
    },
    {
     "name": "stderr",
     "output_type": "stream",
     "text": [
      "2it [00:02,  1.04s/it]"
     ]
    },
    {
     "name": "stdout",
     "output_type": "stream",
     "text": [
      "generated reports:  ['As compared to the previous radiograph, there is no relevant change in the appearance of the cardiac silhouette. No pleural effusion or pneumothorax is seen.']\n",
      "reference report:                                   FINAL REPORT\n",
      " EXAMINATION:\n",
      " Chest:  Frontal and lateral views\n",
      " \n",
      " INDICATION:  History: ___F with sob  // eval for pulm edema\n",
      " \n",
      " TECHNIQUE:  Chest:  Frontal and Lateral\n",
      " \n",
      " COMPARISON:  None.\n",
      " \n",
      " FINDINGS: \n",
      " \n",
      " There are moderate bilateral pleural effusions with overlying atelectasis. \n",
      " The cardiac silhouette is mild to moderately enlarged.  There is prominence of\n",
      " the bilateral central pulmonary vasculature worrisome for pulmonary edema. \n",
      " Right infrahilar opacity may be due to combination of pleural effusion and\n",
      " atelectasis, but underlying consolidation or other pulmonary lesion not\n",
      " excluded.  Recommend follow-up chest imaging following acute episode/diuresis.\n",
      " The aorta is calcified.\n",
      " \n",
      " IMPRESSION: \n",
      " \n",
      " Moderate bilateral pleural effusions with overlying atelectasis.  Pulmonary\n",
      " edema.  Cardiomegaly.  Constellation of findings suggest CHF.\n",
      " \n",
      " Right infrahilar opacity may be secondary to the above findings, but\n",
      " underlying consolidation or other pulmonary lesion not excluded.  Recommend\n",
      " follow-up chest imaging after acute episode/ diuresis.\n",
      "\n",
      "p10013569/s53407104\n"
     ]
    },
    {
     "name": "stderr",
     "output_type": "stream",
     "text": [
      "3it [00:03,  1.04s/it]"
     ]
    },
    {
     "name": "stdout",
     "output_type": "stream",
     "text": [
      "p10013569/s56197670\n"
     ]
    },
    {
     "name": "stderr",
     "output_type": "stream",
     "text": [
      "4it [00:04,  1.12s/it]"
     ]
    },
    {
     "name": "stdout",
     "output_type": "stream",
     "text": [
      "p10013569/s57151026\n"
     ]
    },
    {
     "name": "stderr",
     "output_type": "stream",
     "text": [
      "5it [00:05,  1.08s/it]"
     ]
    },
    {
     "name": "stdout",
     "output_type": "stream",
     "text": [
      "p10013569/s57874790\n"
     ]
    },
    {
     "name": "stderr",
     "output_type": "stream",
     "text": [
      "6it [00:06,  1.07s/it]"
     ]
    },
    {
     "name": "stdout",
     "output_type": "stream",
     "text": [
      "p10013643/s53841005\n"
     ]
    },
    {
     "name": "stderr",
     "output_type": "stream",
     "text": [
      "7it [00:07,  1.02s/it]"
     ]
    },
    {
     "name": "stdout",
     "output_type": "stream",
     "text": [
      "p10013643/s58785837\n"
     ]
    },
    {
     "name": "stderr",
     "output_type": "stream",
     "text": [
      "8it [00:08,  1.03s/it]"
     ]
    },
    {
     "name": "stdout",
     "output_type": "stream",
     "text": [
      "p10015860/s55513261\n"
     ]
    },
    {
     "name": "stderr",
     "output_type": "stream",
     "text": [
      "9it [00:09,  1.02s/it]"
     ]
    },
    {
     "name": "stdout",
     "output_type": "stream",
     "text": [
      "p10018081/s50515796\n"
     ]
    },
    {
     "name": "stderr",
     "output_type": "stream",
     "text": [
      "10it [00:10,  1.02s/it]"
     ]
    },
    {
     "name": "stdout",
     "output_type": "stream",
     "text": [
      "p10018081/s51219318\n"
     ]
    },
    {
     "name": "stderr",
     "output_type": "stream",
     "text": [
      "11it [00:11,  1.02s/it]"
     ]
    },
    {
     "name": "stdout",
     "output_type": "stream",
     "text": [
      "p10018081/s51961926\n"
     ]
    },
    {
     "name": "stderr",
     "output_type": "stream",
     "text": [
      "12it [00:12,  1.02s/it]"
     ]
    },
    {
     "name": "stdout",
     "output_type": "stream",
     "text": [
      "p10018081/s52241060\n"
     ]
    },
    {
     "name": "stderr",
     "output_type": "stream",
     "text": [
      "13it [00:13,  1.01s/it]"
     ]
    },
    {
     "name": "stdout",
     "output_type": "stream",
     "text": [
      "p10018081/s52355329\n"
     ]
    },
    {
     "name": "stderr",
     "output_type": "stream",
     "text": [
      "14it [00:14,  1.01s/it]"
     ]
    },
    {
     "name": "stdout",
     "output_type": "stream",
     "text": [
      "p10018081/s52355329\n"
     ]
    },
    {
     "name": "stderr",
     "output_type": "stream",
     "text": [
      "15it [00:15,  1.03s/it]"
     ]
    },
    {
     "name": "stdout",
     "output_type": "stream",
     "text": [
      "p10018081/s53262913\n"
     ]
    },
    {
     "name": "stderr",
     "output_type": "stream",
     "text": [
      "16it [00:16,  1.07s/it]"
     ]
    },
    {
     "name": "stdout",
     "output_type": "stream",
     "text": [
      "p10018081/s55554731\n"
     ]
    },
    {
     "name": "stderr",
     "output_type": "stream",
     "text": [
      "17it [00:17,  1.06s/it]"
     ]
    },
    {
     "name": "stdout",
     "output_type": "stream",
     "text": [
      "p10018081/s55879987\n"
     ]
    },
    {
     "name": "stderr",
     "output_type": "stream",
     "text": [
      "18it [00:18,  1.05s/it]"
     ]
    },
    {
     "name": "stdout",
     "output_type": "stream",
     "text": [
      "p10018081/s55937781\n"
     ]
    },
    {
     "name": "stderr",
     "output_type": "stream",
     "text": [
      "19it [00:19,  1.04s/it]"
     ]
    },
    {
     "name": "stdout",
     "output_type": "stream",
     "text": [
      "p10018081/s56942504\n"
     ]
    },
    {
     "name": "stderr",
     "output_type": "stream",
     "text": [
      "20it [00:20,  1.03s/it]"
     ]
    },
    {
     "name": "stdout",
     "output_type": "stream",
     "text": [
      "p10018081/s57481090\n"
     ]
    },
    {
     "name": "stderr",
     "output_type": "stream",
     "text": [
      "21it [00:21,  1.01s/it]"
     ]
    },
    {
     "name": "stdout",
     "output_type": "stream",
     "text": [
      "p10018081/s57486705\n"
     ]
    },
    {
     "name": "stderr",
     "output_type": "stream",
     "text": [
      "22it [00:22,  1.01s/it]"
     ]
    },
    {
     "name": "stdout",
     "output_type": "stream",
     "text": [
      "p10018081/s58175153\n"
     ]
    },
    {
     "name": "stderr",
     "output_type": "stream",
     "text": [
      "23it [00:23,  1.01s/it]"
     ]
    },
    {
     "name": "stdout",
     "output_type": "stream",
     "text": [
      "p10018081/s58479559\n"
     ]
    },
    {
     "name": "stderr",
     "output_type": "stream",
     "text": [
      "24it [00:24,  1.01s/it]"
     ]
    },
    {
     "name": "stdout",
     "output_type": "stream",
     "text": [
      "p10018423/s50526690\n"
     ]
    },
    {
     "name": "stderr",
     "output_type": "stream",
     "text": [
      "25it [00:25,  1.01it/s]"
     ]
    },
    {
     "name": "stdout",
     "output_type": "stream",
     "text": [
      "p10018423/s51545426\n"
     ]
    },
    {
     "name": "stderr",
     "output_type": "stream",
     "text": [
      "26it [00:26,  1.01s/it]"
     ]
    },
    {
     "name": "stdout",
     "output_type": "stream",
     "text": [
      "p10019385/s51044398\n"
     ]
    },
    {
     "name": "stderr",
     "output_type": "stream",
     "text": [
      "27it [00:27,  1.00s/it]"
     ]
    },
    {
     "name": "stdout",
     "output_type": "stream",
     "text": [
      "p10019385/s55200571\n"
     ]
    },
    {
     "name": "stderr",
     "output_type": "stream",
     "text": [
      "28it [00:28,  1.01s/it]"
     ]
    },
    {
     "name": "stdout",
     "output_type": "stream",
     "text": [
      "p10019517/s56621765\n"
     ]
    },
    {
     "name": "stderr",
     "output_type": "stream",
     "text": [
      "29it [00:29,  1.01s/it]"
     ]
    },
    {
     "name": "stdout",
     "output_type": "stream",
     "text": [
      "p10019777/s55627966\n"
     ]
    },
    {
     "name": "stderr",
     "output_type": "stream",
     "text": [
      "30it [00:30,  1.00it/s]"
     ]
    },
    {
     "name": "stdout",
     "output_type": "stream",
     "text": [
      "p10019777/s55627966\n"
     ]
    },
    {
     "name": "stderr",
     "output_type": "stream",
     "text": [
      "31it [00:31,  1.00it/s]"
     ]
    },
    {
     "name": "stdout",
     "output_type": "stream",
     "text": [
      "p10019777/s57883142\n"
     ]
    },
    {
     "name": "stderr",
     "output_type": "stream",
     "text": [
      "32it [00:32,  1.01s/it]"
     ]
    },
    {
     "name": "stdout",
     "output_type": "stream",
     "text": [
      "p10020944/s53903006\n"
     ]
    },
    {
     "name": "stderr",
     "output_type": "stream",
     "text": [
      "33it [00:33,  1.02s/it]"
     ]
    },
    {
     "name": "stdout",
     "output_type": "stream",
     "text": [
      "p10020944/s53903006\n"
     ]
    },
    {
     "name": "stderr",
     "output_type": "stream",
     "text": [
      "34it [00:34,  1.02s/it]"
     ]
    },
    {
     "name": "stdout",
     "output_type": "stream",
     "text": [
      "p10020944/s54752011\n"
     ]
    },
    {
     "name": "stderr",
     "output_type": "stream",
     "text": [
      "35it [00:35,  1.03s/it]"
     ]
    },
    {
     "name": "stdout",
     "output_type": "stream",
     "text": [
      "p10020944/s55858000\n"
     ]
    },
    {
     "name": "stderr",
     "output_type": "stream",
     "text": [
      "36it [00:36,  1.03s/it]"
     ]
    },
    {
     "name": "stdout",
     "output_type": "stream",
     "text": [
      "p10020944/s59169950\n"
     ]
    },
    {
     "name": "stderr",
     "output_type": "stream",
     "text": [
      "37it [00:37,  1.03s/it]"
     ]
    },
    {
     "name": "stdout",
     "output_type": "stream",
     "text": [
      "p10020944/s59602114\n"
     ]
    },
    {
     "name": "stderr",
     "output_type": "stream",
     "text": [
      "38it [00:39,  1.05s/it]"
     ]
    },
    {
     "name": "stdout",
     "output_type": "stream",
     "text": [
      "p10020944/s59618738\n"
     ]
    },
    {
     "name": "stderr",
     "output_type": "stream",
     "text": [
      "39it [00:39,  1.02s/it]"
     ]
    },
    {
     "name": "stdout",
     "output_type": "stream",
     "text": [
      "p10021487/s50316375\n"
     ]
    },
    {
     "name": "stderr",
     "output_type": "stream",
     "text": [
      "40it [00:40,  1.00s/it]"
     ]
    },
    {
     "name": "stdout",
     "output_type": "stream",
     "text": [
      "p10021487/s50316375\n"
     ]
    },
    {
     "name": "stderr",
     "output_type": "stream",
     "text": [
      "41it [00:41,  1.00it/s]"
     ]
    },
    {
     "name": "stdout",
     "output_type": "stream",
     "text": [
      "p10021487/s50763544\n"
     ]
    },
    {
     "name": "stderr",
     "output_type": "stream",
     "text": [
      "42it [00:42,  1.02s/it]"
     ]
    },
    {
     "name": "stdout",
     "output_type": "stream",
     "text": [
      "p10021487/s52487989\n"
     ]
    },
    {
     "name": "stderr",
     "output_type": "stream",
     "text": [
      "43it [00:43,  1.00it/s]"
     ]
    },
    {
     "name": "stdout",
     "output_type": "stream",
     "text": [
      "p10021487/s52512958\n"
     ]
    },
    {
     "name": "stderr",
     "output_type": "stream",
     "text": [
      "44it [00:44,  1.03it/s]"
     ]
    },
    {
     "name": "stdout",
     "output_type": "stream",
     "text": [
      "p10021487/s53109949\n"
     ]
    },
    {
     "name": "stderr",
     "output_type": "stream",
     "text": [
      "45it [00:45,  1.00it/s]"
     ]
    },
    {
     "name": "stdout",
     "output_type": "stream",
     "text": [
      "p10021487/s53139340\n"
     ]
    },
    {
     "name": "stderr",
     "output_type": "stream",
     "text": [
      "46it [00:47,  1.03s/it]"
     ]
    },
    {
     "name": "stdout",
     "output_type": "stream",
     "text": [
      "p10021487/s54626295\n"
     ]
    },
    {
     "name": "stderr",
     "output_type": "stream",
     "text": [
      "47it [00:48,  1.03s/it]"
     ]
    },
    {
     "name": "stdout",
     "output_type": "stream",
     "text": [
      "p10021487/s55681272\n"
     ]
    },
    {
     "name": "stderr",
     "output_type": "stream",
     "text": [
      "48it [00:49,  1.03s/it]"
     ]
    },
    {
     "name": "stdout",
     "output_type": "stream",
     "text": [
      "p10021487/s57174722\n"
     ]
    },
    {
     "name": "stderr",
     "output_type": "stream",
     "text": [
      "49it [00:50,  1.04s/it]"
     ]
    },
    {
     "name": "stdout",
     "output_type": "stream",
     "text": [
      "p10021487/s57544796\n"
     ]
    },
    {
     "name": "stderr",
     "output_type": "stream",
     "text": [
      "50it [00:51,  1.02s/it]"
     ]
    },
    {
     "name": "stdout",
     "output_type": "stream",
     "text": [
      "p10021487/s57861581\n"
     ]
    },
    {
     "name": "stderr",
     "output_type": "stream",
     "text": [
      "51it [00:52,  1.03s/it]"
     ]
    },
    {
     "name": "stdout",
     "output_type": "stream",
     "text": [
      "p10021487/s58098754\n"
     ]
    },
    {
     "name": "stderr",
     "output_type": "stream",
     "text": [
      "52it [00:53,  1.03s/it]"
     ]
    },
    {
     "name": "stdout",
     "output_type": "stream",
     "text": [
      "p10021487/s59671735\n"
     ]
    },
    {
     "name": "stderr",
     "output_type": "stream",
     "text": [
      "53it [00:54,  1.04s/it]"
     ]
    },
    {
     "name": "stdout",
     "output_type": "stream",
     "text": [
      "p10021487/s59671735\n"
     ]
    },
    {
     "name": "stderr",
     "output_type": "stream",
     "text": [
      "54it [00:55,  1.03s/it]"
     ]
    },
    {
     "name": "stdout",
     "output_type": "stream",
     "text": [
      "p10026255/s50395086\n"
     ]
    },
    {
     "name": "stderr",
     "output_type": "stream",
     "text": [
      "55it [00:56,  1.03s/it]"
     ]
    },
    {
     "name": "stdout",
     "output_type": "stream",
     "text": [
      "p10026255/s50395086\n"
     ]
    },
    {
     "name": "stderr",
     "output_type": "stream",
     "text": [
      "56it [00:57,  1.04s/it]"
     ]
    },
    {
     "name": "stdout",
     "output_type": "stream",
     "text": [
      "p10026255/s50617488\n"
     ]
    },
    {
     "name": "stderr",
     "output_type": "stream",
     "text": [
      "57it [00:58,  1.04s/it]"
     ]
    },
    {
     "name": "stdout",
     "output_type": "stream",
     "text": [
      "p10026255/s57824622\n"
     ]
    },
    {
     "name": "stderr",
     "output_type": "stream",
     "text": [
      "58it [00:59,  1.04s/it]"
     ]
    },
    {
     "name": "stdout",
     "output_type": "stream",
     "text": [
      "p10028480/s52781231\n"
     ]
    },
    {
     "name": "stderr",
     "output_type": "stream",
     "text": [
      "59it [01:00,  1.03s/it]"
     ]
    },
    {
     "name": "stdout",
     "output_type": "stream",
     "text": [
      "p10029106/s55861994\n"
     ]
    },
    {
     "name": "stderr",
     "output_type": "stream",
     "text": [
      "60it [01:01,  1.03s/it]"
     ]
    },
    {
     "name": "stdout",
     "output_type": "stream",
     "text": [
      "p10029291/s52115281\n"
     ]
    },
    {
     "name": "stderr",
     "output_type": "stream",
     "text": [
      "61it [01:02,  1.03s/it]"
     ]
    },
    {
     "name": "stdout",
     "output_type": "stream",
     "text": [
      "p10030753/s53034862\n"
     ]
    },
    {
     "name": "stderr",
     "output_type": "stream",
     "text": [
      "62it [01:03,  1.02s/it]"
     ]
    },
    {
     "name": "stdout",
     "output_type": "stream",
     "text": [
      "p10038999/s50971552\n"
     ]
    },
    {
     "name": "stderr",
     "output_type": "stream",
     "text": [
      "63it [01:04,  1.08s/it]"
     ]
    },
    {
     "name": "stdout",
     "output_type": "stream",
     "text": [
      "p10038999/s51760120\n"
     ]
    },
    {
     "name": "stderr",
     "output_type": "stream",
     "text": [
      "64it [01:05,  1.07s/it]"
     ]
    },
    {
     "name": "stdout",
     "output_type": "stream",
     "text": [
      "p10039360/s53999249\n"
     ]
    },
    {
     "name": "stderr",
     "output_type": "stream",
     "text": [
      "65it [01:06,  1.06s/it]"
     ]
    },
    {
     "name": "stdout",
     "output_type": "stream",
     "text": [
      "p10041408/s54849524\n"
     ]
    },
    {
     "name": "stderr",
     "output_type": "stream",
     "text": [
      "66it [01:07,  1.05s/it]"
     ]
    },
    {
     "name": "stdout",
     "output_type": "stream",
     "text": [
      "p10041408/s58489475\n"
     ]
    },
    {
     "name": "stderr",
     "output_type": "stream",
     "text": [
      "67it [01:08,  1.04s/it]"
     ]
    },
    {
     "name": "stdout",
     "output_type": "stream",
     "text": [
      "p10042769/s59055102\n"
     ]
    },
    {
     "name": "stderr",
     "output_type": "stream",
     "text": [
      "68it [01:09,  1.02s/it]"
     ]
    },
    {
     "name": "stdout",
     "output_type": "stream",
     "text": [
      "p10049334/s54625686\n"
     ]
    },
    {
     "name": "stderr",
     "output_type": "stream",
     "text": [
      "69it [01:10,  1.03s/it]"
     ]
    },
    {
     "name": "stdout",
     "output_type": "stream",
     "text": [
      "p10049897/s52851881\n"
     ]
    },
    {
     "name": "stderr",
     "output_type": "stream",
     "text": [
      "70it [01:11,  1.03s/it]"
     ]
    },
    {
     "name": "stdout",
     "output_type": "stream",
     "text": [
      "p10052926/s56799999\n"
     ]
    },
    {
     "name": "stderr",
     "output_type": "stream",
     "text": [
      "71it [01:12,  1.02s/it]"
     ]
    },
    {
     "name": "stdout",
     "output_type": "stream",
     "text": [
      "p10052992/s51784751\n"
     ]
    },
    {
     "name": "stderr",
     "output_type": "stream",
     "text": [
      "72it [01:13,  1.01it/s]"
     ]
    },
    {
     "name": "stdout",
     "output_type": "stream",
     "text": [
      "p10054639/s58535890\n"
     ]
    },
    {
     "name": "stderr",
     "output_type": "stream",
     "text": [
      "73it [01:14,  1.02it/s]"
     ]
    },
    {
     "name": "stdout",
     "output_type": "stream",
     "text": [
      "p10060142/s56946673\n"
     ]
    },
    {
     "name": "stderr",
     "output_type": "stream",
     "text": [
      "74it [01:15,  1.00it/s]"
     ]
    },
    {
     "name": "stdout",
     "output_type": "stream",
     "text": [
      "p10062020/s55700573\n"
     ]
    },
    {
     "name": "stderr",
     "output_type": "stream",
     "text": [
      "75it [01:16,  1.01s/it]"
     ]
    },
    {
     "name": "stdout",
     "output_type": "stream",
     "text": [
      "p10062020/s55700573\n"
     ]
    },
    {
     "name": "stderr",
     "output_type": "stream",
     "text": [
      "76it [01:17,  1.00s/it]"
     ]
    },
    {
     "name": "stdout",
     "output_type": "stream",
     "text": [
      "p10062020/s58128787\n"
     ]
    },
    {
     "name": "stderr",
     "output_type": "stream",
     "text": [
      "77it [01:18,  1.03s/it]"
     ]
    },
    {
     "name": "stdout",
     "output_type": "stream",
     "text": [
      "p10069423/s55700778\n"
     ]
    },
    {
     "name": "stderr",
     "output_type": "stream",
     "text": [
      "78it [01:20,  1.04s/it]"
     ]
    },
    {
     "name": "stdout",
     "output_type": "stream",
     "text": [
      "p10069423/s59981182\n"
     ]
    },
    {
     "name": "stderr",
     "output_type": "stream",
     "text": [
      "79it [01:21,  1.03s/it]"
     ]
    },
    {
     "name": "stdout",
     "output_type": "stream",
     "text": [
      "p10072153/s52900702\n"
     ]
    },
    {
     "name": "stderr",
     "output_type": "stream",
     "text": [
      "80it [01:22,  1.03s/it]"
     ]
    },
    {
     "name": "stdout",
     "output_type": "stream",
     "text": [
      "p10072153/s52900702\n"
     ]
    },
    {
     "name": "stderr",
     "output_type": "stream",
     "text": [
      "81it [01:23,  1.04s/it]"
     ]
    },
    {
     "name": "stdout",
     "output_type": "stream",
     "text": [
      "p10072153/s55066102\n"
     ]
    },
    {
     "name": "stderr",
     "output_type": "stream",
     "text": [
      "82it [01:24,  1.05s/it]"
     ]
    },
    {
     "name": "stdout",
     "output_type": "stream",
     "text": [
      "p10072153/s59129101\n"
     ]
    },
    {
     "name": "stderr",
     "output_type": "stream",
     "text": [
      "83it [01:25,  1.05s/it]"
     ]
    },
    {
     "name": "stdout",
     "output_type": "stream",
     "text": [
      "p10075002/s56977907\n"
     ]
    },
    {
     "name": "stderr",
     "output_type": "stream",
     "text": [
      "84it [01:26,  1.02s/it]"
     ]
    },
    {
     "name": "stdout",
     "output_type": "stream",
     "text": [
      "p10075925/s51010496\n"
     ]
    },
    {
     "name": "stderr",
     "output_type": "stream",
     "text": [
      "85it [01:27,  1.02s/it]"
     ]
    },
    {
     "name": "stdout",
     "output_type": "stream",
     "text": [
      "p10076526/s53465958\n"
     ]
    },
    {
     "name": "stderr",
     "output_type": "stream",
     "text": [
      "86it [01:28,  1.01s/it]"
     ]
    },
    {
     "name": "stdout",
     "output_type": "stream",
     "text": [
      "p10076526/s54880968\n"
     ]
    },
    {
     "name": "stderr",
     "output_type": "stream",
     "text": [
      "87it [01:29,  1.02s/it]"
     ]
    },
    {
     "name": "stdout",
     "output_type": "stream",
     "text": [
      "p10076526/s56817357\n"
     ]
    },
    {
     "name": "stderr",
     "output_type": "stream",
     "text": [
      "88it [01:30,  1.04s/it]"
     ]
    },
    {
     "name": "stdout",
     "output_type": "stream",
     "text": [
      "p10076616/s51437161\n"
     ]
    },
    {
     "name": "stderr",
     "output_type": "stream",
     "text": [
      "89it [01:31,  1.04s/it]"
     ]
    },
    {
     "name": "stdout",
     "output_type": "stream",
     "text": [
      "p10080961/s58001323\n"
     ]
    },
    {
     "name": "stderr",
     "output_type": "stream",
     "text": [
      "90it [01:32,  1.09s/it]"
     ]
    },
    {
     "name": "stdout",
     "output_type": "stream",
     "text": [
      "p10081891/s56639766\n"
     ]
    },
    {
     "name": "stderr",
     "output_type": "stream",
     "text": [
      "91it [01:33,  1.08s/it]"
     ]
    },
    {
     "name": "stdout",
     "output_type": "stream",
     "text": [
      "p10081891/s58454343\n"
     ]
    },
    {
     "name": "stderr",
     "output_type": "stream",
     "text": [
      "92it [01:34,  1.06s/it]"
     ]
    },
    {
     "name": "stdout",
     "output_type": "stream",
     "text": [
      "p10088966/s54520029\n"
     ]
    },
    {
     "name": "stderr",
     "output_type": "stream",
     "text": [
      "93it [01:35,  1.05s/it]"
     ]
    },
    {
     "name": "stdout",
     "output_type": "stream",
     "text": [
      "p10088966/s56032947\n"
     ]
    },
    {
     "name": "stderr",
     "output_type": "stream",
     "text": [
      "94it [01:36,  1.04s/it]"
     ]
    },
    {
     "name": "stdout",
     "output_type": "stream",
     "text": [
      "p10094107/s52616515\n"
     ]
    },
    {
     "name": "stderr",
     "output_type": "stream",
     "text": [
      "95it [01:37,  1.05s/it]"
     ]
    },
    {
     "name": "stdout",
     "output_type": "stream",
     "text": [
      "p10094582/s57503344\n"
     ]
    },
    {
     "name": "stderr",
     "output_type": "stream",
     "text": [
      "96it [01:38,  1.03s/it]"
     ]
    },
    {
     "name": "stdout",
     "output_type": "stream",
     "text": [
      "p10097612/s51532014\n"
     ]
    },
    {
     "name": "stderr",
     "output_type": "stream",
     "text": [
      "97it [01:39,  1.03s/it]"
     ]
    },
    {
     "name": "stdout",
     "output_type": "stream",
     "text": [
      "p10097612/s51968731\n"
     ]
    },
    {
     "name": "stderr",
     "output_type": "stream",
     "text": [
      "98it [01:40,  1.04s/it]"
     ]
    },
    {
     "name": "stdout",
     "output_type": "stream",
     "text": [
      "p10097612/s55662521\n"
     ]
    },
    {
     "name": "stderr",
     "output_type": "stream",
     "text": [
      "99it [01:41,  1.03s/it]"
     ]
    },
    {
     "name": "stdout",
     "output_type": "stream",
     "text": [
      "p10097612/s56461207\n"
     ]
    },
    {
     "name": "stderr",
     "output_type": "stream",
     "text": [
      "100it [01:42,  1.03s/it]\n"
     ]
    },
    {
     "data": {
      "image/png": "[encoded data removed]",
      "text/plain": [
       "<Figure size 640x480 with 1 Axes>"
      ]
     },
     "metadata": {},
     "output_type": "display_data"
    }
   ],
   "source": [
    "generated_reports_txt_path = \"inference/generated_reports_run22.txt\"\n",
    "generated_reports = []\n",
    "ref_reports = []\n",
    "bert_score = evaluate.load(\"bertscore\")\n",
    "sentence_tokenizer = spacy.load(\"en_core_web_trf\")\n",
    "tokenizer = get_tokenizer()\n",
    "\n",
    "# if you encounter a spacy-related error, try upgrading spacy to version 3.5.3 and spacy-transformers to version 1.2.5\n",
    "# pip install -U spacy\n",
    "# pip install -U spacy-transformers\n",
    "\n",
    "for i, image_path in tqdm(enumerate(images_paths)):\n",
    "    print(ids[i])\n",
    "    image = cv2.imread(image_path, cv2.IMREAD_UNCHANGED)\n",
    "    image_tensor = get_image_tensor(image_path)  # shape (1, 1, 512, 512)\n",
    "    generated_report = get_report_for_image(model, image_tensor, tokenizer, bert_score, sentence_tokenizer)\n",
    "    generated_reports.append(generated_report)\n",
    "    with open(reports_paths[i]) as f:\n",
    "        ref_reports.append(f.read())\n",
    "\n",
    "#for i, image_path in tqdm(enumerate(images_paths)):\n",
    "    #show\n",
    "    if i ==1:\n",
    "        plt.imshow(image_tensor.detach().cpu().numpy()[0][0])\n",
    "        #plt.imshow(image, cmap='gray')\n",
    "        print(\"generated reports: \", generated_reports[i])\n",
    "        print(\"reference report: \", ref_reports[i])\n",
    "\n",
    "write_generated_reports_to_txt(images_paths, ref_reports, generated_reports, generated_reports_txt_path)"
   ]
  },
  {
   "cell_type": "code",
   "execution_count": 30,
   "metadata": {},
   "outputs": [
    {
     "data": {
      "text/plain": [
       "(-0.5, 1735.5, 2021.5, -0.5)"
      ]
     },
     "execution_count": 30,
     "metadata": {},
     "output_type": "execute_result"
    },
    {
     "data": {
      "image/png": "[encoded data removed]",
      "text/plain": [
       "<Figure size 640x480 with 1 Axes>"
      ]
     },
     "metadata": {},
     "output_type": "display_data"
    }
   ],
   "source": [
    "#load im\n",
    "\n",
    "path = \"/home/hermione/Documents/data/physionet.org/files/mimic-cxr-jpg/2.0.0/files/p10/p10032409/s55250890/35b006d3-53b9d561-d46bbbe3-69a82eaa-677f1241.jpg\"\n",
    "\n",
    "image = cv2.imread(path, cv2.IMREAD_UNCHANGED)\n",
    "plt.imshow(image, cmap='gray')\n",
    "plt.axis(\"off\")"
   ]
  },
  {
   "cell_type": "code",
   "execution_count": null,
   "metadata": {},
   "outputs": [],
   "source": []
  }
 ],
 "metadata": {
  "kernelspec": {
   "display_name": "rgrg2",
   "language": "python",
   "name": "python3"
  },
  "language_info": {
   "codemirror_mode": {
    "name": "ipython",
    "version": 3
   },
   "file_extension": ".py",
   "mimetype": "text/x-python",
   "name": "python",
   "nbconvert_exporter": "python",
   "pygments_lexer": "ipython3",
   "version": "3.11.3"
  },
  "orig_nbformat": 4
 },
 "nbformat": 4,
 "nbformat_minor": 2
}
