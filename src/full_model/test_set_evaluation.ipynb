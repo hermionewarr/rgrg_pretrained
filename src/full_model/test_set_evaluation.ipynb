{
 "cells": [
  {
   "attachments": {},
   "cell_type": "markdown",
   "metadata": {},
   "source": [
    "Test set evaluation"
   ]
  },
  {
   "cell_type": "code",
   "execution_count": 3,
   "metadata": {},
   "outputs": [
    {
     "name": "stdout",
     "output_type": "stream",
     "text": [
      "device:  cuda:1\n"
     ]
    }
   ],
   "source": [
    "from ast import literal_eval\n",
    "import logging\n",
    "import os\n",
    "import random\n",
    "\n",
    "import albumentations as A\n",
    "from albumentations.pytorch import ToTensorV2\n",
    "import cv2\n",
    "from datasets import Dataset\n",
    "import numpy as np\n",
    "import pandas as pd\n",
    "import spacy\n",
    "import torch\n",
    "from torch.utils.data import DataLoader\n",
    "import torchmetrics\n",
    "from tqdm import tqdm\n",
    "\n",
    "\n",
    "import sys\n",
    "sys.path.append(\"/home/hermione/Documents/VLP/TUM/rgrg_pretrained/\")\n",
    "from src.dataset.constants import ANATOMICAL_REGIONS\n",
    "from src.full_model.custom_collator import CustomCollator\n",
    "from src.full_model.custom_dataset import CustomDataset\n",
    "from src.full_model.evaluate_full_model.evaluate_language_model import (\n",
    "    get_ref_sentences_for_selected_regions,\n",
    "    get_generated_reports,\n",
    "    compute_language_model_scores\n",
    ")\n",
    "from src.full_model.report_generation_model import ReportGenerationModel\n",
    "from src.full_model.train_full_model import get_tokenizer\n",
    "from src.path_datasets_and_weights import path_full_dataset, path_runs_full_model, path_test_set_evaluation_scores_txt_files\n",
    "\n",
    "# specify the checkpoint you want to evaluate by setting \"RUN\" and \"CHECKPOINT\"\n",
    "RUN = 20\n",
    "CHECKPOINT = \"checkpoint_val_loss_1.778_overall_steps_501150.pt\" #src/runs/full_model/run_20/checkpoints/\n",
    "BERTSCORE_SIMILARITY_THRESHOLD = 0.9\n",
    "IMAGE_INPUT_SIZE = 512\n",
    "BATCH_SIZE = 8\n",
    "NUM_WORKERS = 10\n",
    "NUM_BEAMS = 4\n",
    "MAX_NUM_TOKENS_GENERATE = 300\n",
    "NUM_BATCHES_OF_GENERATED_SENTENCES_TO_SAVE_TO_FILE = 100\n",
    "NUM_BATCHES_OF_GENERATED_REPORTS_TO_SAVE_TO_FILE = 100\n",
    "\n",
    "# set the seed value for reproducibility\n",
    "seed_val = 42\n",
    "\n",
    "random.seed(seed_val)\n",
    "np.random.seed(seed_val)\n",
    "torch.manual_seed(seed_val)\n",
    "torch.cuda.manual_seed_all(seed_val)\n",
    "\n",
    "\"\"\"\n",
    "Folder specified by path_test_set_evaluation_scores_txt_files will have these files after test set evaluation:\n",
    "\n",
    "    - final_scores.txt\n",
    "    - generated_sentences.txt\n",
    "    - generated_abnormal_sentences.txt\n",
    "    - generated_reports.txt\n",
    "\"\"\"\n",
    "final_scores_txt_file = os.path.join(path_test_set_evaluation_scores_txt_files, \"final_scores.txt\")"
   ]
  },
  {
   "cell_type": "code",
   "execution_count": null,
   "metadata": {},
   "outputs": [],
   "source": []
  }
 ],
 "metadata": {
  "kernelspec": {
   "display_name": "rgrg2",
   "language": "python",
   "name": "python3"
  },
  "language_info": {
   "codemirror_mode": {
    "name": "ipython",
    "version": 3
   },
   "file_extension": ".py",
   "mimetype": "text/x-python",
   "name": "python",
   "nbconvert_exporter": "python",
   "pygments_lexer": "ipython3",
   "version": "3.11.3"
  },
  "orig_nbformat": 4
 },
 "nbformat": 4,
 "nbformat_minor": 2
}
