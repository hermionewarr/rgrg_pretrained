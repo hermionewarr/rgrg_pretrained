{
 "cells": [
  {
   "attachments": {},
   "cell_type": "markdown",
   "metadata": {},
   "source": [
    "# Create training sub set\n",
    "Create a random subset of training and val data either on a balanced set of chexpert diseases or on just one disease."
   ]
  },
  {
   "cell_type": "code",
   "execution_count": 13,
   "metadata": {},
   "outputs": [
    {
     "ename": "TypeError",
     "evalue": "unsupported operand type(s) for +: 'int' and 'str'",
     "output_type": "error",
     "traceback": [
      "\u001b[0;31m---------------------------------------------------------------------------\u001b[0m",
      "\u001b[0;31mTypeError\u001b[0m                                 Traceback (most recent call last)",
      "File \u001b[0;32m~/miniconda3/envs/rgrg2/lib/python3.11/site-packages/pandas/core/ops/array_ops.py:165\u001b[0m, in \u001b[0;36m_na_arithmetic_op\u001b[0;34m(left, right, op, is_cmp)\u001b[0m\n\u001b[1;32m    164\u001b[0m \u001b[39mtry\u001b[39;00m:\n\u001b[0;32m--> 165\u001b[0m     result \u001b[39m=\u001b[39m func(left, right)\n\u001b[1;32m    166\u001b[0m \u001b[39mexcept\u001b[39;00m \u001b[39mTypeError\u001b[39;00m:\n",
      "File \u001b[0;32m~/miniconda3/envs/rgrg2/lib/python3.11/site-packages/pandas/core/computation/expressions.py:241\u001b[0m, in \u001b[0;36mevaluate\u001b[0;34m(op, a, b, use_numexpr)\u001b[0m\n\u001b[1;32m    239\u001b[0m     \u001b[39mif\u001b[39;00m use_numexpr:\n\u001b[1;32m    240\u001b[0m         \u001b[39m# error: \"None\" not callable\u001b[39;00m\n\u001b[0;32m--> 241\u001b[0m         \u001b[39mreturn\u001b[39;00m _evaluate(op, op_str, a, b)  \u001b[39m# type: ignore[misc]\u001b[39;00m\n\u001b[1;32m    242\u001b[0m \u001b[39mreturn\u001b[39;00m _evaluate_standard(op, op_str, a, b)\n",
      "File \u001b[0;32m~/miniconda3/envs/rgrg2/lib/python3.11/site-packages/pandas/core/computation/expressions.py:129\u001b[0m, in \u001b[0;36m_evaluate_numexpr\u001b[0;34m(op, op_str, a, b)\u001b[0m\n\u001b[1;32m    128\u001b[0m \u001b[39mif\u001b[39;00m result \u001b[39mis\u001b[39;00m \u001b[39mNone\u001b[39;00m:\n\u001b[0;32m--> 129\u001b[0m     result \u001b[39m=\u001b[39m _evaluate_standard(op, op_str, a, b)\n\u001b[1;32m    131\u001b[0m \u001b[39mreturn\u001b[39;00m result\n",
      "File \u001b[0;32m~/miniconda3/envs/rgrg2/lib/python3.11/site-packages/pandas/core/computation/expressions.py:70\u001b[0m, in \u001b[0;36m_evaluate_standard\u001b[0;34m(op, op_str, a, b)\u001b[0m\n\u001b[1;32m     69\u001b[0m     _store_test_result(\u001b[39mFalse\u001b[39;00m)\n\u001b[0;32m---> 70\u001b[0m \u001b[39mreturn\u001b[39;00m op(a, b)\n",
      "File \u001b[0;32m~/miniconda3/envs/rgrg2/lib/python3.11/site-packages/pandas/core/roperator.py:11\u001b[0m, in \u001b[0;36mradd\u001b[0;34m(left, right)\u001b[0m\n\u001b[1;32m     10\u001b[0m \u001b[39mdef\u001b[39;00m \u001b[39mradd\u001b[39m(left, right):\n\u001b[0;32m---> 11\u001b[0m     \u001b[39mreturn\u001b[39;00m right \u001b[39m+\u001b[39;49m left\n",
      "\u001b[0;31mTypeError\u001b[0m: unsupported operand type(s) for +: 'int' and 'str'",
      "\nDuring handling of the above exception, another exception occurred:\n",
      "\u001b[0;31mTypeError\u001b[0m                                 Traceback (most recent call last)",
      "Cell \u001b[0;32mIn[13], line 27\u001b[0m\n\u001b[1;32m     25\u001b[0m         \u001b[39mreturn\u001b[39;00m frac\n\u001b[1;32m     26\u001b[0m     \u001b[39m#summary[col] = [dis_sum(chexpert), dis_sum(train_chex), dis_sum(val_chex)]\u001b[39;00m\n\u001b[0;32m---> 27\u001b[0m     summary[col] \u001b[39m=\u001b[39m [dis_sum(chexpert), dis_frac(chexpert), dis_sum(train_chex), dis_frac(train_chex), dis_sum(val_chex), dis_frac(val_chex)]\n\u001b[1;32m     28\u001b[0m     \u001b[39m#print(np.sum(chexpert[chexpert[col]==1][col].astype(int)))\u001b[39;00m\n\u001b[1;32m     29\u001b[0m     \u001b[39m#print(np.sum(train_chex[train_chex[col]==1][col].astype(int)))\u001b[39;00m\n\u001b[1;32m     30\u001b[0m     \u001b[39m#print(np.sum(val_chex[val_chex[col]==1][col].astype(int)))\u001b[39;00m\n\u001b[1;32m     32\u001b[0m \u001b[39mprint\u001b[39m(\u001b[39mlen\u001b[39m(chexpert), \u001b[39mlen\u001b[39m(train), \u001b[39mlen\u001b[39m(val))\n",
      "Cell \u001b[0;32mIn[13], line 24\u001b[0m, in \u001b[0;36mdis_frac\u001b[0;34m(data)\u001b[0m\n\u001b[1;32m     22\u001b[0m \u001b[39mdef\u001b[39;00m \u001b[39mdis_frac\u001b[39m(data):\n\u001b[1;32m     23\u001b[0m     subset \u001b[39m=\u001b[39m data\u001b[39m.\u001b[39miloc[\u001b[39m2\u001b[39m:]\n\u001b[0;32m---> 24\u001b[0m     frac \u001b[39m=\u001b[39m dis_sum(data)\u001b[39m/\u001b[39m\u001b[39msum\u001b[39;49m([subset[subset[d] \u001b[39m==\u001b[39;49m \u001b[39m1\u001b[39;49m]\u001b[39m.\u001b[39;49msum() \u001b[39mfor\u001b[39;49;00m d \u001b[39min\u001b[39;49;00m diseases])\n\u001b[1;32m     25\u001b[0m     \u001b[39mreturn\u001b[39;00m frac\n",
      "File \u001b[0;32m~/miniconda3/envs/rgrg2/lib/python3.11/site-packages/pandas/core/ops/common.py:72\u001b[0m, in \u001b[0;36m_unpack_zerodim_and_defer.<locals>.new_method\u001b[0;34m(self, other)\u001b[0m\n\u001b[1;32m     68\u001b[0m             \u001b[39mreturn\u001b[39;00m \u001b[39mNotImplemented\u001b[39m\n\u001b[1;32m     70\u001b[0m other \u001b[39m=\u001b[39m item_from_zerodim(other)\n\u001b[0;32m---> 72\u001b[0m \u001b[39mreturn\u001b[39;00m method(\u001b[39mself\u001b[39;49m, other)\n",
      "File \u001b[0;32m~/miniconda3/envs/rgrg2/lib/python3.11/site-packages/pandas/core/arraylike.py:106\u001b[0m, in \u001b[0;36mOpsMixin.__radd__\u001b[0;34m(self, other)\u001b[0m\n\u001b[1;32m    104\u001b[0m \u001b[39m@unpack_zerodim_and_defer\u001b[39m(\u001b[39m\"\u001b[39m\u001b[39m__radd__\u001b[39m\u001b[39m\"\u001b[39m)\n\u001b[1;32m    105\u001b[0m \u001b[39mdef\u001b[39;00m \u001b[39m__radd__\u001b[39m(\u001b[39mself\u001b[39m, other):\n\u001b[0;32m--> 106\u001b[0m     \u001b[39mreturn\u001b[39;00m \u001b[39mself\u001b[39;49m\u001b[39m.\u001b[39;49m_arith_method(other, roperator\u001b[39m.\u001b[39;49mradd)\n",
      "File \u001b[0;32m~/miniconda3/envs/rgrg2/lib/python3.11/site-packages/pandas/core/series.py:6259\u001b[0m, in \u001b[0;36mSeries._arith_method\u001b[0;34m(self, other, op)\u001b[0m\n\u001b[1;32m   6257\u001b[0m \u001b[39mdef\u001b[39;00m \u001b[39m_arith_method\u001b[39m(\u001b[39mself\u001b[39m, other, op):\n\u001b[1;32m   6258\u001b[0m     \u001b[39mself\u001b[39m, other \u001b[39m=\u001b[39m ops\u001b[39m.\u001b[39malign_method_SERIES(\u001b[39mself\u001b[39m, other)\n\u001b[0;32m-> 6259\u001b[0m     \u001b[39mreturn\u001b[39;00m base\u001b[39m.\u001b[39;49mIndexOpsMixin\u001b[39m.\u001b[39;49m_arith_method(\u001b[39mself\u001b[39;49m, other, op)\n",
      "File \u001b[0;32m~/miniconda3/envs/rgrg2/lib/python3.11/site-packages/pandas/core/base.py:1325\u001b[0m, in \u001b[0;36mIndexOpsMixin._arith_method\u001b[0;34m(self, other, op)\u001b[0m\n\u001b[1;32m   1322\u001b[0m rvalues \u001b[39m=\u001b[39m ensure_wrapped_if_datetimelike(rvalues)\n\u001b[1;32m   1324\u001b[0m \u001b[39mwith\u001b[39;00m np\u001b[39m.\u001b[39merrstate(\u001b[39mall\u001b[39m\u001b[39m=\u001b[39m\u001b[39m\"\u001b[39m\u001b[39mignore\u001b[39m\u001b[39m\"\u001b[39m):\n\u001b[0;32m-> 1325\u001b[0m     result \u001b[39m=\u001b[39m ops\u001b[39m.\u001b[39;49marithmetic_op(lvalues, rvalues, op)\n\u001b[1;32m   1327\u001b[0m \u001b[39mreturn\u001b[39;00m \u001b[39mself\u001b[39m\u001b[39m.\u001b[39m_construct_result(result, name\u001b[39m=\u001b[39mres_name)\n",
      "File \u001b[0;32m~/miniconda3/envs/rgrg2/lib/python3.11/site-packages/pandas/core/ops/array_ops.py:226\u001b[0m, in \u001b[0;36marithmetic_op\u001b[0;34m(left, right, op)\u001b[0m\n\u001b[1;32m    222\u001b[0m     _bool_arith_check(op, left, right)\n\u001b[1;32m    224\u001b[0m     \u001b[39m# error: Argument 1 to \"_na_arithmetic_op\" has incompatible type\u001b[39;00m\n\u001b[1;32m    225\u001b[0m     \u001b[39m# \"Union[ExtensionArray, ndarray[Any, Any]]\"; expected \"ndarray[Any, Any]\"\u001b[39;00m\n\u001b[0;32m--> 226\u001b[0m     res_values \u001b[39m=\u001b[39m _na_arithmetic_op(left, right, op)  \u001b[39m# type: ignore[arg-type]\u001b[39;00m\n\u001b[1;32m    228\u001b[0m \u001b[39mreturn\u001b[39;00m res_values\n",
      "File \u001b[0;32m~/miniconda3/envs/rgrg2/lib/python3.11/site-packages/pandas/core/ops/array_ops.py:172\u001b[0m, in \u001b[0;36m_na_arithmetic_op\u001b[0;34m(left, right, op, is_cmp)\u001b[0m\n\u001b[1;32m    166\u001b[0m \u001b[39mexcept\u001b[39;00m \u001b[39mTypeError\u001b[39;00m:\n\u001b[1;32m    167\u001b[0m     \u001b[39mif\u001b[39;00m \u001b[39mnot\u001b[39;00m is_cmp \u001b[39mand\u001b[39;00m (is_object_dtype(left\u001b[39m.\u001b[39mdtype) \u001b[39mor\u001b[39;00m is_object_dtype(right)):\n\u001b[1;32m    168\u001b[0m         \u001b[39m# For object dtype, fallback to a masked operation (only operating\u001b[39;00m\n\u001b[1;32m    169\u001b[0m         \u001b[39m#  on the non-missing values)\u001b[39;00m\n\u001b[1;32m    170\u001b[0m         \u001b[39m# Don't do this for comparisons, as that will handle complex numbers\u001b[39;00m\n\u001b[1;32m    171\u001b[0m         \u001b[39m#  incorrectly, see GH#32047\u001b[39;00m\n\u001b[0;32m--> 172\u001b[0m         result \u001b[39m=\u001b[39m _masked_arith_op(left, right, op)\n\u001b[1;32m    173\u001b[0m     \u001b[39melse\u001b[39;00m:\n\u001b[1;32m    174\u001b[0m         \u001b[39mraise\u001b[39;00m\n",
      "File \u001b[0;32m~/miniconda3/envs/rgrg2/lib/python3.11/site-packages/pandas/core/ops/array_ops.py:129\u001b[0m, in \u001b[0;36m_masked_arith_op\u001b[0;34m(x, y, op)\u001b[0m\n\u001b[1;32m    126\u001b[0m         mask \u001b[39m=\u001b[39m np\u001b[39m.\u001b[39mwhere(y \u001b[39m==\u001b[39m \u001b[39m1\u001b[39m, \u001b[39mFalse\u001b[39;00m, mask)\n\u001b[1;32m    128\u001b[0m     \u001b[39mif\u001b[39;00m mask\u001b[39m.\u001b[39many():\n\u001b[0;32m--> 129\u001b[0m         result[mask] \u001b[39m=\u001b[39m op(xrav[mask], y)\n\u001b[1;32m    131\u001b[0m np\u001b[39m.\u001b[39mputmask(result, \u001b[39m~\u001b[39mmask, np\u001b[39m.\u001b[39mnan)\n\u001b[1;32m    132\u001b[0m result \u001b[39m=\u001b[39m result\u001b[39m.\u001b[39mreshape(x\u001b[39m.\u001b[39mshape)  \u001b[39m# 2D compat\u001b[39;00m\n",
      "File \u001b[0;32m~/miniconda3/envs/rgrg2/lib/python3.11/site-packages/pandas/core/roperator.py:11\u001b[0m, in \u001b[0;36mradd\u001b[0;34m(left, right)\u001b[0m\n\u001b[1;32m     10\u001b[0m \u001b[39mdef\u001b[39;00m \u001b[39mradd\u001b[39m(left, right):\n\u001b[0;32m---> 11\u001b[0m     \u001b[39mreturn\u001b[39;00m right \u001b[39m+\u001b[39;49m left\n",
      "\u001b[0;31mTypeError\u001b[0m: unsupported operand type(s) for +: 'int' and 'str'"
     ]
    }
   ],
   "source": [
    "#hermione created: 14/07/2023\n",
    "import pandas as pd\n",
    "import numpy as np\n",
    "\n",
    "train = pd.read_csv(\"/home/hermione/Documents/data/rgrg/dataset-with-reference-reports/train.csv\")\n",
    "chexpert = pd.read_csv(\"/home/hermione/Documents/data/physionet.org/files/mimic-cxr-jpg/2.0.0/mimic-cxr-2.0.0-chexpert.csv\")\n",
    "val = pd.read_csv(\"/home/hermione/Documents/data/rgrg/dataset-with-reference-reports/valid.csv\")\n",
    "train_chex = pd.merge(train, chexpert, on=['subject_id', 'study_id'])\n",
    "val_chex = pd.merge(val, chexpert, on=['subject_id', 'study_id'])\n",
    "\n",
    "#summary = pd.DataFrame(columns = chexpert.columns[2:], index = [\"chexpert\", \"train\", \"val\"])\n",
    "summary = pd.DataFrame(columns = chexpert.columns[2:], index = [\"chexpert\", \"chexpert_frac\",\"train\",\"train_frac\", \"val\", \"val_frac\"])\n",
    "diseases = chexpert.columns[2:]\n",
    "chex_dis = []\n",
    "train_dis = []\n",
    "val_dis = []\n",
    "\n",
    "for col in diseases:\n",
    "    #print(col)\n",
    "    def dis_sum(data):\n",
    "        return np.sum(data[data[col]==1][col].astype(int))\n",
    "    def dis_frac(data):\n",
    "        subset = data.iloc[2:]\n",
    "        denom = sum([(subset[subset[d] == 1][d].astype(int)).sum() for d in diseases])\n",
    "        frac = dis_sum(data)/denom\n",
    "        return frac\n",
    "    #summary[col] = [dis_sum(chexpert), dis_sum(train_chex), dis_sum(val_chex)]\n",
    "    summary[col] = [dis_sum(chexpert), dis_frac(chexpert), dis_sum(train_chex), dis_frac(train_chex), dis_sum(val_chex), dis_frac(val_chex)]\n",
    "    #print(np.sum(chexpert[chexpert[col]==1][col].astype(int)))\n",
    "    #print(np.sum(train_chex[train_chex[col]==1][col].astype(int)))\n",
    "    #print(np.sum(val_chex[val_chex[col]==1][col].astype(int)))\n",
    "\n",
    "print(len(chexpert), len(train), len(val))\n",
    "summary #potentially make percentage\n"
   ]
  },
  {
   "cell_type": "code",
   "execution_count": 3,
   "metadata": {},
   "outputs": [
    {
     "name": "stdout",
     "output_type": "stream",
     "text": [
      "Index(['subject_id', 'study_id', 'image_id', 'mimic_image_file_path',\n",
      "       'reference_report', 'Atelectasis', 'Cardiomegaly', 'Consolidation',\n",
      "       'Edema', 'Enlarged Cardiomediastinum', 'Fracture', 'Lung Lesion',\n",
      "       'Lung Opacity', 'No Finding', 'Pleural Effusion', 'Pleural Other',\n",
      "       'Pneumonia', 'Pneumothorax', 'Support Devices'],\n",
      "      dtype='object') 10433\n",
      "10433 1510\n"
     ]
    }
   ],
   "source": [
    "#select data\n",
    "train_data_index = train_chex[train_chex[\"No Finding\"] == 1].sample(frac=(1/3), random_state=1).index\n",
    "val_data_index = val_chex[val_chex[\"No Finding\"] == 1].sample(frac=(1/3), random_state=1).index\n",
    "train_data = train_chex[train_chex.index.isin(train_data_index)| (train_chex[\"Pleural Effusion\"] == 1)]\n",
    "\n",
    "val_data = val_chex[val_chex.index.isin(val_data_index) | (val_chex[\"Pleural Effusion\"] == 1)]\n",
    "\n",
    "print(train_data.columns, len(train_data))\n",
    "train_final = train_data[['subject_id', 'study_id', 'image_id', 'mimic_image_file_path','reference_report']]\n",
    "val_final = val_data[['subject_id', 'study_id', 'image_id', 'mimic_image_file_path','reference_report']]\n",
    "print(len(train_final), len(val_final))"
   ]
  },
  {
   "cell_type": "code",
   "execution_count": 4,
   "metadata": {},
   "outputs": [],
   "source": [
    "train_final.to_csv(\"/home/hermione/Documents/data/rgrg/dataset-with-reference-reports/train_subset.csv\",index=False)\n",
    "val_final.to_csv(\"/home/hermione/Documents/data/rgrg/dataset-with-reference-reports/valid_subset.csv\", index=False)"
   ]
  },
  {
   "cell_type": "code",
   "execution_count": 6,
   "metadata": {},
   "outputs": [
    {
     "name": "stdout",
     "output_type": "stream",
     "text": [
      "Index(['subject_id', 'study_id', 'image_id', 'mimic_image_file_path',\n",
      "       'reference_report', 'Atelectasis', 'Cardiomegaly', 'Consolidation',\n",
      "       'Edema', 'Enlarged Cardiomediastinum', 'Fracture', 'Lung Lesion',\n",
      "       'Lung Opacity', 'No Finding', 'Pleural Effusion', 'Pleural Other',\n",
      "       'Pneumonia', 'Pneumothorax', 'Support Devices'],\n",
      "      dtype='object') 23510\n",
      "23510 3394\n"
     ]
    }
   ],
   "source": [
    "#select data\n",
    "train_data_index = train_chex[train_chex[\"No Finding\"] == 1].sample(n=10000, random_state=1).index\n",
    "val_data_index = val_chex[val_chex[\"No Finding\"] == 1].sample(n=1500, random_state=1).index\n",
    "\n",
    "train_data = train_chex[~train_chex.index.isin(train_data_index)]\n",
    "val_data = val_chex[~val_chex.index.isin(val_data_index)]\n",
    "\n",
    "print(train_data.columns, len(train_data))\n",
    "train_final = train_data[['subject_id', 'study_id', 'image_id', 'mimic_image_file_path','reference_report']]\n",
    "val_final = val_data[['subject_id', 'study_id', 'image_id', 'mimic_image_file_path','reference_report']]\n",
    "print(len(train_final), len(val_final))\n",
    "\n",
    "#train_final.to_csv(\"/home/hermione/Documents/data/rgrg/dataset-with-reference-reports/train_nf_eq.csv\",index=False)\n",
    "#val_final.to_csv(\"/home/hermione/Documents/data/rgrg/dataset-with-reference-reports/valid_nf_eq.csv\", index=False)"
   ]
  },
  {
   "cell_type": "code",
   "execution_count": 7,
   "metadata": {},
   "outputs": [
    {
     "name": "stdout",
     "output_type": "stream",
     "text": [
      "Empty DataFrame\n",
      "Columns: [subject_id, study_id, image_id, mimic_image_file_path, reference_report]\n",
      "Index: []\n"
     ]
    }
   ],
   "source": [
    "#definitly not overlapping\n",
    "print(train_final[train_final[\"mimic_image_file_path\"].isin(val_final[\"mimic_image_file_path\"])])"
   ]
  },
  {
   "cell_type": "code",
   "execution_count": null,
   "metadata": {},
   "outputs": [],
   "source": []
  }
 ],
 "metadata": {
  "kernelspec": {
   "display_name": "rgrg2",
   "language": "python",
   "name": "python3"
  },
  "language_info": {
   "codemirror_mode": {
    "name": "ipython",
    "version": 3
   },
   "file_extension": ".py",
   "mimetype": "text/x-python",
   "name": "python",
   "nbconvert_exporter": "python",
   "pygments_lexer": "ipython3",
   "version": "3.11.3"
  },
  "orig_nbformat": 4
 },
 "nbformat": 4,
 "nbformat_minor": 2
}
