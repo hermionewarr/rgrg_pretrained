{
 "cells": [
  {
   "attachments": {},
   "cell_type": "markdown",
   "metadata": {},
   "source": [
    "# Create training sub set\n",
    "Create a random subset of training and val data either on a balanced set of chexpert diseases or on just one disease."
   ]
  },
  {
   "cell_type": "code",
   "execution_count": 1,
   "metadata": {},
   "outputs": [
    {
     "name": "stdout",
     "output_type": "stream",
     "text": [
      "227827 33510 4894\n"
     ]
    },
    {
     "data": {
      "text/html": [
       "<div>\n",
       "<style scoped>\n",
       "    .dataframe tbody tr th:only-of-type {\n",
       "        vertical-align: middle;\n",
       "    }\n",
       "\n",
       "    .dataframe tbody tr th {\n",
       "        vertical-align: top;\n",
       "    }\n",
       "\n",
       "    .dataframe thead th {\n",
       "        text-align: right;\n",
       "    }\n",
       "</style>\n",
       "<table border=\"1\" class=\"dataframe\">\n",
       "  <thead>\n",
       "    <tr style=\"text-align: right;\">\n",
       "      <th></th>\n",
       "      <th>Atelectasis</th>\n",
       "      <th>Cardiomegaly</th>\n",
       "      <th>Consolidation</th>\n",
       "      <th>Edema</th>\n",
       "      <th>Enlarged Cardiomediastinum</th>\n",
       "      <th>Fracture</th>\n",
       "      <th>Lung Lesion</th>\n",
       "      <th>Lung Opacity</th>\n",
       "      <th>No Finding</th>\n",
       "      <th>Pleural Effusion</th>\n",
       "      <th>Pleural Other</th>\n",
       "      <th>Pneumonia</th>\n",
       "      <th>Pneumothorax</th>\n",
       "      <th>Support Devices</th>\n",
       "    </tr>\n",
       "  </thead>\n",
       "  <tbody>\n",
       "    <tr>\n",
       "      <th>chexpert</th>\n",
       "      <td>45808</td>\n",
       "      <td>44845</td>\n",
       "      <td>10778</td>\n",
       "      <td>27018</td>\n",
       "      <td>7179</td>\n",
       "      <td>4390</td>\n",
       "      <td>6284</td>\n",
       "      <td>51525</td>\n",
       "      <td>75455</td>\n",
       "      <td>54300</td>\n",
       "      <td>2011</td>\n",
       "      <td>16556</td>\n",
       "      <td>10358</td>\n",
       "      <td>66558</td>\n",
       "    </tr>\n",
       "    <tr>\n",
       "      <th>train</th>\n",
       "      <td>5110</td>\n",
       "      <td>4036</td>\n",
       "      <td>856</td>\n",
       "      <td>3003</td>\n",
       "      <td>613</td>\n",
       "      <td>638</td>\n",
       "      <td>801</td>\n",
       "      <td>6631</td>\n",
       "      <td>14514</td>\n",
       "      <td>5595</td>\n",
       "      <td>260</td>\n",
       "      <td>2150</td>\n",
       "      <td>1142</td>\n",
       "      <td>6161</td>\n",
       "    </tr>\n",
       "    <tr>\n",
       "      <th>val</th>\n",
       "      <td>753</td>\n",
       "      <td>611</td>\n",
       "      <td>104</td>\n",
       "      <td>499</td>\n",
       "      <td>70</td>\n",
       "      <td>75</td>\n",
       "      <td>111</td>\n",
       "      <td>984</td>\n",
       "      <td>2055</td>\n",
       "      <td>825</td>\n",
       "      <td>38</td>\n",
       "      <td>319</td>\n",
       "      <td>160</td>\n",
       "      <td>896</td>\n",
       "    </tr>\n",
       "  </tbody>\n",
       "</table>\n",
       "</div>"
      ],
      "text/plain": [
       "          Atelectasis  Cardiomegaly  Consolidation  Edema  \\\n",
       "chexpert        45808         44845          10778  27018   \n",
       "train            5110          4036            856   3003   \n",
       "val               753           611            104    499   \n",
       "\n",
       "          Enlarged Cardiomediastinum  Fracture  Lung Lesion  Lung Opacity  \\\n",
       "chexpert                        7179      4390         6284         51525   \n",
       "train                            613       638          801          6631   \n",
       "val                               70        75          111           984   \n",
       "\n",
       "          No Finding  Pleural Effusion  Pleural Other  Pneumonia  \\\n",
       "chexpert       75455             54300           2011      16556   \n",
       "train          14514              5595            260       2150   \n",
       "val             2055               825             38        319   \n",
       "\n",
       "          Pneumothorax  Support Devices  \n",
       "chexpert         10358            66558  \n",
       "train             1142             6161  \n",
       "val                160              896  "
      ]
     },
     "execution_count": 1,
     "metadata": {},
     "output_type": "execute_result"
    }
   ],
   "source": [
    "#hermione created: 14/07/2023\n",
    "import pandas as pd\n",
    "import numpy as np\n",
    "\n",
    "train = pd.read_csv(\"/home/hermione/Documents/data/rgrg/dataset-with-reference-reports/train.csv\")\n",
    "chexpert = pd.read_csv(\"/home/hermione/Documents/data/physionet.org/files/mimic-cxr-jpg/2.0.0/mimic-cxr-2.0.0-chexpert.csv\")\n",
    "val = pd.read_csv(\"/home/hermione/Documents/data/rgrg/dataset-with-reference-reports/valid.csv\")\n",
    "train_chex = pd.merge(train, chexpert, on=['subject_id', 'study_id'])\n",
    "val_chex = pd.merge(val, chexpert, on=['subject_id', 'study_id'])\n",
    "\n",
    "summary = pd.DataFrame(columns = chexpert.columns[2:], index = [\"chexpert\", \"train\", \"val\"])\n",
    "diseases = chexpert.columns[2:]\n",
    "chex_dis = []\n",
    "train_dis = []\n",
    "val_dis = []\n",
    "\n",
    "for col in diseases:\n",
    "    #print(col)\n",
    "    def dis_sum(data):\n",
    "        return np.sum(data[data[col]==1][col].astype(int))\n",
    "    summary[col] = [dis_sum(chexpert), dis_sum(train_chex), dis_sum(val_chex)]\n",
    "    #print(np.sum(chexpert[chexpert[col]==1][col].astype(int)))\n",
    "    #print(np.sum(train_chex[train_chex[col]==1][col].astype(int)))\n",
    "    #print(np.sum(val_chex[val_chex[col]==1][col].astype(int)))\n",
    "\n",
    "print(len(chexpert), len(train), len(val))\n",
    "summary #potentially make percentage\n"
   ]
  },
  {
   "cell_type": "code",
   "execution_count": 3,
   "metadata": {},
   "outputs": [
    {
     "name": "stdout",
     "output_type": "stream",
     "text": [
      "Index(['subject_id', 'study_id', 'image_id', 'mimic_image_file_path',\n",
      "       'reference_report', 'Atelectasis', 'Cardiomegaly', 'Consolidation',\n",
      "       'Edema', 'Enlarged Cardiomediastinum', 'Fracture', 'Lung Lesion',\n",
      "       'Lung Opacity', 'No Finding', 'Pleural Effusion', 'Pleural Other',\n",
      "       'Pneumonia', 'Pneumothorax', 'Support Devices'],\n",
      "      dtype='object') 10433\n",
      "10433 1510\n"
     ]
    }
   ],
   "source": [
    "#select data\n",
    "train_data_index = train_chex[train_chex[\"No Finding\"] == 1].sample(frac=(1/3), random_state=1).index\n",
    "val_data_index = val_chex[val_chex[\"No Finding\"] == 1].sample(frac=(1/3), random_state=1).index\n",
    "train_data = train_chex[train_chex.index.isin(train_data_index)| (train_chex[\"Pleural Effusion\"] == 1)]\n",
    "\n",
    "val_data = val_chex[val_chex.index.isin(val_data_index) | (val_chex[\"Pleural Effusion\"] == 1)]\n",
    "\n",
    "print(train_data.columns, len(train_data))\n",
    "train_final = train_data[['subject_id', 'study_id', 'image_id', 'mimic_image_file_path','reference_report']]\n",
    "val_final = val_data[['subject_id', 'study_id', 'image_id', 'mimic_image_file_path','reference_report']]\n",
    "print(len(train_final), len(val_final))"
   ]
  },
  {
   "cell_type": "code",
   "execution_count": 4,
   "metadata": {},
   "outputs": [],
   "source": [
    "train_final.to_csv(\"/home/hermione/Documents/data/rgrg/dataset-with-reference-reports/train_subset.csv\",index=False)\n",
    "val_final.to_csv(\"/home/hermione/Documents/data/rgrg/dataset-with-reference-reports/valid_subset.csv\", index=False)"
   ]
  },
  {
   "cell_type": "code",
   "execution_count": null,
   "metadata": {},
   "outputs": [],
   "source": []
  }
 ],
 "metadata": {
  "kernelspec": {
   "display_name": "rgrg2",
   "language": "python",
   "name": "python3"
  },
  "language_info": {
   "codemirror_mode": {
    "name": "ipython",
    "version": 3
   },
   "file_extension": ".py",
   "mimetype": "text/x-python",
   "name": "python",
   "nbconvert_exporter": "python",
   "pygments_lexer": "ipython3",
   "version": "3.11.3"
  },
  "orig_nbformat": 4
 },
 "nbformat": 4,
 "nbformat_minor": 2
}
